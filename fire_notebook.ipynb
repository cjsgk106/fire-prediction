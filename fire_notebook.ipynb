{
 "cells": [
  {
   "cell_type": "code",
   "execution_count": 2,
   "metadata": {},
   "outputs": [],
   "source": [
    "import numpy as np\n",
    "import pandas as pd\n",
    "import seaborn as sns\n",
    "import matplotlib.pyplot as plt\n",
    "from pandas import DataFrame\n",
    "from pandas import Series\n",
    "\n",
    "from sklearn.metrics import f1_score"
   ]
  },
  {
   "cell_type": "code",
   "execution_count": 342,
   "metadata": {},
   "outputs": [],
   "source": [
    "def plot_feature_importance(model, X_train, figsize=(12, 6)):\n",
    "    sns.set_style('darkgrid')\n",
    "    \n",
    "    # Plot feature importance\n",
    "    feature_importance = model.feature_importances_\n",
    "    feature_importance = 100.0 * (feature_importance / feature_importance.max())\n",
    "    sorted_idx = np.argsort(feature_importance)\n",
    "    pos = np.arange(sorted_idx.shape[0]) + .5\n",
    "\n",
    "    plt.figure(figsize=figsize)\n",
    "    plt.barh(pos, feature_importance[sorted_idx], align='center')\n",
    "    plt.yticks(pos, X_train.columns[sorted_idx])\n",
    "    plt.xlabel('Relative Importance')\n",
    "    plt.title('Variable Importance')\n",
    "    plt.show()"
   ]
  },
  {
   "cell_type": "code",
   "execution_count": 343,
   "metadata": {},
   "outputs": [
    {
     "name": "stderr",
     "output_type": "stream",
     "text": [
      "/opt/app-root/lib/python3.6/site-packages/IPython/core/interactiveshell.py:3058: DtypeWarning: Columns (8,172,173,174,175,176,177,178,179) have mixed types. Specify dtype option on import or set low_memory=False.\n",
      "  interactivity=interactivity, compiler=compiler, result=result)\n"
     ]
    }
   ],
   "source": [
    "from geoband.API import *\n",
    "\n",
    "GetCompasData('PJT002_train.csv')\n",
    "GetCompasData('PJT002_test.csv')\n",
    "GetCompasData('PJT002_validation.csv')\n",
    "GetCompasData('PJT002_submission.csv')\n",
    "\n",
    "train = pd.read_csv('PJT002_train.csv')\n",
    "val = pd.read_csv('PJT002_validation.csv')\n",
    "test = pd.read_csv('PJT002_test.csv')\n",
    "sub = pd.read_csv('PJT002_submission.csv')"
   ]
  },
  {
   "cell_type": "code",
   "execution_count": null,
   "metadata": {},
   "outputs": [],
   "source": [
    "c1 = train.columns[172:]\n",
    "c2 = train.columns[137:151]\n",
    "c3 = train.columns[17:137]\n",
    "X_train = train.drop(c1,1)\n",
    "X_train = X_train.drop(c2,1)\n",
    "#X_train = X_train.drop(c3,1)\n",
    "X_train = X_train.drop(['cctv_in_100m','fr_wthr_fclt_in_100m'],1)\n",
    "X_val = val.drop(c1,1)\n",
    "X_val = X_val.drop(c2,1)\n",
    "#X_val = X_val.drop(c3,1)\n",
    "X_val = X_val.drop(['cctv_in_100m','fr_wthr_fclt_in_100m'],1)\n",
    "\n",
    "test = test.drop(c1,1)\n",
    "test = test.drop(c2,1)\n",
    "#test = test.drop(c3,1)\n",
    "\n",
    "X_train = X_train.drop(['fr_yn', 'dt_of_fr','id'], 1)\n",
    "y_train = train['fr_yn']\n",
    "X_val = X_val.drop(['fr_yn', 'dt_of_fr','id'], 1)\n",
    "y_val = val['fr_yn']\n",
    "test = test.drop(['dt_of_fr','id'], 1)\n"
   ]
  },
  {
   "cell_type": "code",
   "execution_count": null,
   "metadata": {},
   "outputs": [],
   "source": [
    "train.fr_yn = train.fr_yn.map({'Y':1,'N':0})\n",
    "val.fr_yn = val.fr_yn.map({'Y':1,'N':0})\n",
    "cummulate_fire_ratio = []\n",
    "for i in range(1, 500):\n",
    "    cummulate_fire_ratio.append(train[train['tbc_rtl_str_dstnc'] < i]['fr_yn'].sum() / len(train[train['tbc_rtl_str_dstnc'] < i]['fr_yn']))\n",
    "    \n",
    "plt.figure(figsize=(15, 7))\n",
    "plt.plot(cummulate_fire_ratio)\n",
    "plt.title('Fire rate change depending on range of ', y=1.02)\n",
    "plt.ylabel('Fire rate')\n",
    "plt.xlabel('Range of temp(-10~x)')\n",
    "plt.show()"
   ]
  },
  {
   "cell_type": "code",
   "execution_count": null,
   "metadata": {},
   "outputs": [],
   "source": [
    "X_train.loc[X_train['tbc_rtl_str_dstnc'] <= 100, 'tbc_rtl_str_dstnc'] = 0\n",
    "X_train.loc[(X_train['tbc_rtl_str_dstnc'] > 100) & (X_train['tbc_rtl_str_dstnc'] <= 200), 'tbc_rtl_str_dstnc'] = 1\n",
    "X_train.loc[(X_train['tbc_rtl_str_dstnc'] > 200) & (X_train['tbc_rtl_str_dstnc'] <= 300), 'tbc_rtl_str_dstnc'] = 2\n",
    "X_train.loc[(X_train['tbc_rtl_str_dstnc'] > 300), 'tbc_rtl_str_dstnc'] = 3\n",
    "\n",
    "X_val.loc[X_val['tbc_rtl_str_dstnc'] <= 100, 'tbc_rtl_str_dstnc'] = 0\n",
    "X_val.loc[(X_val['tbc_rtl_str_dstnc'] > 100) & (X_val['tbc_rtl_str_dstnc'] <= 200), 'tbc_rtl_str_dstnc'] = 1\n",
    "X_val.loc[(X_val['tbc_rtl_str_dstnc'] > 200) & (X_val['tbc_rtl_str_dstnc'] <= 300), 'tbc_rtl_str_dstnc'] = 2\n",
    "X_val.loc[(X_val['tbc_rtl_str_dstnc'] > 300), 'tbc_rtl_str_dstnc'] = 3"
   ]
  },
  {
   "cell_type": "code",
   "execution_count": null,
   "metadata": {},
   "outputs": [],
   "source": [
    "cummulate_fire_ratio = []\n",
    "for i in range(1, 500):\n",
    "    cummulate_fire_ratio.append(train[train['sft_emrgnc_bll_dstnc'] < i]['fr_yn'].sum() / len(train[train['sft_emrgnc_bll_dstnc'] < i]['fr_yn']))\n",
    "    \n",
    "plt.figure(figsize=(15, 7))\n",
    "plt.plot(cummulate_fire_ratio)\n",
    "plt.title('Fire rate change depending on range of ', y=1.02)\n",
    "plt.ylabel('Fire rate')\n",
    "plt.xlabel('Range of temp(-10~x)')\n",
    "plt.show()"
   ]
  },
  {
   "cell_type": "code",
   "execution_count": null,
   "metadata": {},
   "outputs": [],
   "source": [
    "X_train.loc[X_train['sft_emrgnc_bll_dstnc'] <= 50, 'sft_emrgnc_bll_dstnc'] = 0\n",
    "X_train.loc[(X_train['sft_emrgnc_bll_dstnc'] > 50) & (X_train['sft_emrgnc_bll_dstnc'] <= 100), 'sft_emrgnc_bll_dstnc'] = 1\n",
    "X_train.loc[(X_train['sft_emrgnc_bll_dstnc'] > 100) & (X_train['sft_emrgnc_bll_dstnc'] <= 200), 'sft_emrgnc_bll_dstnc'] = 2\n",
    "X_train.loc[(X_train['sft_emrgnc_bll_dstnc'] > 200), 'sft_emrgnc_bll_dstnc'] = 3\n",
    "\n",
    "X_val.loc[X_val['sft_emrgnc_bll_dstnc'] <= 50, 'sft_emrgnc_bll_dstnc'] = 0\n",
    "X_val.loc[(X_val['sft_emrgnc_bll_dstnc'] > 50) & (X_val['sft_emrgnc_bll_dstnc'] <= 100), 'sft_emrgnc_bll_dstnc'] = 1\n",
    "X_val.loc[(X_val['sft_emrgnc_bll_dstnc'] > 100) & (X_val['sft_emrgnc_bll_dstnc'] <= 200), 'sft_emrgnc_bll_dstnc'] = 2\n",
    "X_val.loc[(X_val['sft_emrgnc_bll_dstnc'] > 200), 'sft_emrgnc_bll_dstnc'] = 3"
   ]
  },
  {
   "cell_type": "code",
   "execution_count": null,
   "metadata": {},
   "outputs": [],
   "source": [
    "df_all = pd.concat([X_train, X_val, test])\n",
    "\n",
    "categorical_cols = df_all.select_dtypes(['object']).columns\n",
    "for col in categorical_cols:\n",
    "    df_all[col] = pd.Categorical(df_all[col]).codes\n",
    "\n",
    "X_train = df_all[:len(train)]\n",
    "X_val = df_all[len(train):-len(test)]\n",
    "test = df_all[-len(test):]"
   ]
  },
  {
   "cell_type": "code",
   "execution_count": null,
   "metadata": {},
   "outputs": [],
   "source": [
    "X_train = X_train.fillna(-1)\n",
    "X_val = X_val.fillna(-1)\n",
    "test = test.fillna(-1)"
   ]
  },
  {
   "cell_type": "code",
   "execution_count": null,
   "metadata": {},
   "outputs": [],
   "source": [
    "from sklearn.ensemble import RandomForestClassifier\n",
    "\n",
    "model = RandomForestClassifier(n_jobs=-1, n_estimators=100, random_state=42)\n",
    "\n",
    "model.fit(X_train, y_train)\n",
    "\n",
    "y_pred = model.predict(X_val)\n",
    "\n",
    "f1_score(y_val, y_pred, pos_label='Y')"
   ]
  },
  {
   "cell_type": "code",
   "execution_count": null,
   "metadata": {},
   "outputs": [],
   "source": [
    "y = model.predict(test)"
   ]
  },
  {
   "cell_type": "code",
   "execution_count": null,
   "metadata": {},
   "outputs": [],
   "source": [
    "sub['fr_yn'] = y\n",
    "sub.head()"
   ]
  },
  {
   "cell_type": "code",
   "execution_count": null,
   "metadata": {},
   "outputs": [],
   "source": [
    "sub.to_csv('baseline_rf.csv', index=False)"
   ]
  },
  {
   "cell_type": "code",
   "execution_count": null,
   "metadata": {},
   "outputs": [],
   "source": [
    "# ----------------여기까지----------------"
   ]
  },
  {
   "cell_type": "code",
   "execution_count": 104,
   "metadata": {},
   "outputs": [
    {
     "data": {
      "image/png": "[encoded data removed]",
      "text/plain": [
       "<Figure size 1080x504 with 1 Axes>"
      ]
     },
     "metadata": {
      "needs_background": "light"
     },
     "output_type": "display_data"
    }
   ],
   "source": [
    "train.fr_yn = train.fr_yn.map({'Y':1,'N':0})\n",
    "val.fr_yn = val.fr_yn.map({'Y':1,'N':0})\n",
    "cummulate_fire_ratio = []\n",
    "for i in range(1, 500):\n",
    "    cummulate_fire_ratio.append(train[train['no_tbc_zn_dstnc'] < i]['fr_yn'].sum() / len(train[train['no_tbc_zn_dstnc'] < i]['fr_yn']))\n",
    "    \n",
    "plt.figure(figsize=(15, 7))\n",
    "plt.plot(cummulate_fire_ratio)\n",
    "plt.title('Fire rate change depending on range of ', y=1.02)\n",
    "plt.ylabel('Fire rate')\n",
    "plt.xlabel('Range of temp(-10~x)')\n",
    "plt.show()"
   ]
  },
  {
   "cell_type": "code",
   "execution_count": 325,
   "metadata": {},
   "outputs": [],
   "source": [
    "X_train.loc[X_train['no_tbc_zn_dstnc'] <= 50, 'no_tbc_zn_dstnc'] = 0\n",
    "X_train.loc[(X_train['no_tbc_zn_dstnc'] > 50) & (X_train['no_tbc_zn_dstnc'] <= 100), 'no_tbc_zn_dstnc'] = 1\n",
    "X_train.loc[(X_train['no_tbc_zn_dstnc'] > 100) & (X_train['no_tbc_zn_dstnc'] <= 200), 'no_tbc_zn_dstnc'] = 2\n",
    "X_train.loc[(X_train['no_tbc_zn_dstnc'] > 200), 'no_tbc_zn_dstnc'] = 3\n",
    "\n",
    "X_val.loc[X_val['no_tbc_zn_dstnc'] <= 50, 'no_tbc_zn_dstnc'] = 0\n",
    "X_val.loc[(X_val['no_tbc_zn_dstnc'] > 50) & (X_val['no_tbc_zn_dstnc'] <= 100), 'no_tbc_zn_dstnc'] = 1\n",
    "X_val.loc[(X_val['no_tbc_zn_dstnc'] > 100) & (X_val['no_tbc_zn_dstnc'] <= 200), 'no_tbc_zn_dstnc'] = 2\n",
    "X_val.loc[(X_val['no_tbc_zn_dstnc'] > 200), 'no_tbc_zn_dstnc'] = 3"
   ]
  },
  {
   "cell_type": "code",
   "execution_count": 126,
   "metadata": {},
   "outputs": [
    {
     "data": {
      "image/png": "[encoded data removed]",
      "text/plain": [
       "<Figure size 1080x504 with 1 Axes>"
      ]
     },
     "metadata": {
      "needs_background": "light"
     },
     "output_type": "display_data"
    }
   ],
   "source": [
    "train.fr_yn = train.fr_yn.map({'Y':1,'N':0})\n",
    "val.fr_yn = val.fr_yn.map({'Y':1,'N':0})\n",
    "cummulate_fire_ratio = []\n",
    "for i in range(1, 200):\n",
    "    cummulate_fire_ratio.append(train[train['fr_wthr_fclt_dstnc'] < i]['fr_yn'].sum() / len(train[train['fr_wthr_fclt_dstnc'] < i]['fr_yn']))\n",
    "    \n",
    "plt.figure(figsize=(15, 7))\n",
    "plt.plot(cummulate_fire_ratio)\n",
    "plt.title('Fire rate change depending on range of ', y=1.02)\n",
    "plt.ylabel('Fire rate')\n",
    "plt.xlabel('Range of temp(-10~x)')\n",
    "plt.show()"
   ]
  },
  {
   "cell_type": "code",
   "execution_count": 317,
   "metadata": {},
   "outputs": [],
   "source": [
    "X_train.loc[X_train['fr_wthr_fclt_dstnc'] <= 12, 'fr_wthr_fclt_dstnc'] = 0\n",
    "X_train.loc[(X_train['fr_wthr_fclt_dstnc'] > 12) & (X_train['fr_wthr_fclt_dstnc'] <= 25), 'fr_wthr_fclt_dstnc'] = 1\n",
    "X_train.loc[(X_train['fr_wthr_fclt_dstnc'] > 25) & (X_train['fr_wthr_fclt_dstnc'] <= 70), 'fr_wthr_fclt_dstnc'] = 2\n",
    "X_train.loc[(X_train['fr_wthr_fclt_dstnc'] > 70), 'fr_wthr_fclt_dstnc'] = 3\n",
    "\n",
    "X_val.loc[X_val['fr_wthr_fclt_dstnc'] <= 12, 'fr_wthr_fclt_dstnc'] = 0\n",
    "X_val.loc[(X_val['fr_wthr_fclt_dstnc'] > 12) & (X_val['fr_wthr_fclt_dstnc'] <= 25), 'fr_wthr_fclt_dstnc'] = 1\n",
    "X_val.loc[(X_val['fr_wthr_fclt_dstnc'] > 25) & (X_val['fr_wthr_fclt_dstnc'] <= 70), 'fr_wthr_fclt_dstnc'] = 2\n",
    "X_val.loc[(X_val['fr_wthr_fclt_dstnc'] > 70), 'fr_wthr_fclt_dstnc'] = 3"
   ]
  },
  {
   "cell_type": "code",
   "execution_count": 46,
   "metadata": {},
   "outputs": [
    {
     "data": {
      "image/png": "[encoded data removed]",
      "text/plain": [
       "<Figure size 1080x360 with 1 Axes>"
      ]
     },
     "metadata": {
      "needs_background": "light"
     },
     "output_type": "display_data"
    }
   ],
   "source": [
    "#train['ttl_ar'] = train['ttl_ar'].map(lambda i: np.log(i) if i>0 else 0)\n",
    "train = train.fillna(-1)\n",
    "fig, ax = plt.subplots(1, 1, figsize=(15, 5))\n",
    "sns.distplot(train['tmprtr'], color='b', label='Skewness:{:.2f}'.format(train['tmprtr'].skew()), ax=ax)\n",
    "plt.show()"
   ]
  },
  {
   "cell_type": "code",
   "execution_count": 275,
   "metadata": {},
   "outputs": [
    {
     "data": {
      "text/plain": [
       "Index(['gas_engry_us_201401', 'ele_engry_us_201401', 'gas_engry_us_201402',\n",
       "       'ele_engry_us_201402', 'gas_engry_us_201403', 'ele_engry_us_201403',\n",
       "       'gas_engry_us_201404', 'ele_engry_us_201404', 'gas_engry_us_201405',\n",
       "       'ele_engry_us_201405',\n",
       "       ...\n",
       "       'ele_engry_us_201808', 'gas_engry_us_201809', 'ele_engry_us_201809',\n",
       "       'gas_engry_us_201810', 'ele_engry_us_201810', 'gas_engry_us_201811',\n",
       "       'ele_engry_us_201811', 'gas_engry_us_201812', 'ele_engry_us_201812',\n",
       "       'lw_13101010'],\n",
       "      dtype='object', length=121)"
      ]
     },
     "execution_count": 275,
     "metadata": {},
     "output_type": "execute_result"
    }
   ],
   "source": [
    "train.columns[17:137]"
   ]
  },
  {
   "cell_type": "code",
   "execution_count": 51,
   "metadata": {},
   "outputs": [
    {
     "data": {
      "text/plain": [
       "Index(['lw_13101010', 'lw_13101110', 'lw_13101210', 'lw_13101211',\n",
       "       'lw_13101310', 'lw_13101410', 'lw_13111010', 'lw_13111110',\n",
       "       'lw_13121010', 'lw_13121011', 'lw_13131010', 'lw_13131110',\n",
       "       'lw_13141010', 'lw_13141011', 'jmk', 'id'],\n",
       "      dtype='object')"
      ]
     },
     "execution_count": 51,
     "metadata": {},
     "output_type": "execute_result"
    }
   ],
   "source": [
    "train.columns[137:153]"
   ]
  },
  {
   "cell_type": "code",
   "execution_count": 13,
   "metadata": {},
   "outputs": [],
   "source": [
    "X_train = train.drop(['fr_yn', 'dt_of_fr','id'], 1)\n",
    "y_train = train['fr_yn']\n",
    "X_val = val.drop(['fr_yn', 'dt_of_fr','id'], 1)\n",
    "y_val = val['fr_yn']"
   ]
  },
  {
   "cell_type": "code",
   "execution_count": 98,
   "metadata": {},
   "outputs": [],
   "source": [
    "from sklearn.model_selection import train_test_split\n",
    "\n",
    "X = train.drop(['fr_yn', 'dt_of_fr'], 1)\n",
    "y = train['fr_yn']\n",
    "\n",
    "X_train, X_test, y_train, y_test = train_test_split(X, y, test_size=0.7)"
   ]
  },
  {
   "cell_type": "code",
   "execution_count": 352,
   "metadata": {},
   "outputs": [],
   "source": []
  },
  {
   "cell_type": "code",
   "execution_count": 363,
   "metadata": {},
   "outputs": [],
   "source": [
    "X_train.loc[X_train['hmdt'] <= 20, 'hmdt'] = 0\n",
    "X_train.loc[(X_train['hmdt'] > 20) & (X_train['hmdt'] <= 40), 'hmdt'] = 1\n",
    "X_train.loc[(X_train['hmdt'] > 40) & (X_train['hmdt'] <= 60), 'hmdt'] = 2\n",
    "X_train.loc[(X_train['hmdt'] > 60), 'hmdt'] = 3\n",
    "\n",
    "#X_val.loc[X_val['hmdt'] <= 20, 'hmdt'] = 0\n",
    "#X_val.loc[(X_val['hmdt'] > 20) & (X_val['hmdt'] <= 50), 'hmdt'] = 1\n",
    "#X_val.loc[(X_val['hmdt'] > 40) & (X_val['hmdt'] <= 60), 'hmdt'] = 2\n",
    "#X_val.loc[(X_val['hmdt'] > 50), 'hmdt'] = 2"
   ]
  },
  {
   "cell_type": "code",
   "execution_count": 364,
   "metadata": {},
   "outputs": [],
   "source": [
    "X_train.prcpttn.unique()\n",
    "\n",
    "X_train.loc[:,'prcpttn'] = X_train.groupby('hmdt')['prcpttn'].transform(lambda x : x.fillna(x.mean()))\n",
    "\n",
    "X_train.loc[X_train['prcpttn'] <= 3, 'prcpttn'] = 0\n",
    "X_train.loc[(X_train['prcpttn'] > 3) & (X_train['prcpttn'] <= 10), 'prcpttn'] = 1\n",
    "X_train.loc[(X_train['prcpttn'] > 10) & (X_train['prcpttn'] <= 30), 'prcpttn'] = 2\n",
    "X_train.loc[(X_train['prcpttn']) > 30, 'prcpttn'] = 3"
   ]
  },
  {
   "cell_type": "code",
   "execution_count": 391,
   "metadata": {},
   "outputs": [
    {
     "data": {
      "text/plain": [
       "0        0.0\n",
       "5        0.0\n",
       "10       0.0\n",
       "14       0.0\n",
       "16       0.0\n",
       "        ... \n",
       "59016    0.0\n",
       "59051    0.0\n",
       "59064    0.0\n",
       "59076    0.0\n",
       "59133    0.0\n",
       "Name: ele_engry_us_201401, Length: 3523, dtype: float64"
      ]
     },
     "execution_count": 391,
     "metadata": {},
     "output_type": "execute_result"
    }
   ],
   "source": [
    "train2 = train.loc[train.fr_yn == 'Y']\n",
    "train2.loc[train2.bldng_us=='단독주택','ele_engry_us_201401']"
   ]
  },
  {
   "cell_type": "code",
   "execution_count": 27,
   "metadata": {},
   "outputs": [],
   "source": [
    "X_train = train.drop(['fr_yn', 'dt_of_fr', 'id'], 1)\n",
    "y_train = train['fr_yn']\n",
    "X_val = val.drop(['fr_yn', 'dt_of_fr', 'id'], 1)\n",
    "y_val = val['fr_yn']\n",
    "test = test.drop(['fr_yn', 'dt_of_fr', 'id'], 1)\n",
    "\n",
    "combine = [X_train, X_val, test]"
   ]
  },
  {
   "cell_type": "code",
   "execution_count": 8,
   "metadata": {},
   "outputs": [
    {
     "data": {
      "text/html": [
       "<div>\n",
       "<style scoped>\n",
       "    .dataframe tbody tr th:only-of-type {\n",
       "        vertical-align: middle;\n",
       "    }\n",
       "\n",
       "    .dataframe tbody tr th {\n",
       "        vertical-align: top;\n",
       "    }\n",
       "\n",
       "    .dataframe thead th {\n",
       "        text-align: right;\n",
       "    }\n",
       "</style>\n",
       "<table border=\"1\" class=\"dataframe\">\n",
       "  <thead>\n",
       "    <tr style=\"text-align: right;\">\n",
       "      <th></th>\n",
       "      <th>bldng_us</th>\n",
       "      <th>fr_yn</th>\n",
       "    </tr>\n",
       "  </thead>\n",
       "  <tbody>\n",
       "    <tr>\n",
       "      <td>3</td>\n",
       "      <td>관광휴게시설</td>\n",
       "      <td>0.700000</td>\n",
       "    </tr>\n",
       "    <tr>\n",
       "      <td>24</td>\n",
       "      <td>의료시설</td>\n",
       "      <td>0.666667</td>\n",
       "    </tr>\n",
       "    <tr>\n",
       "      <td>26</td>\n",
       "      <td>장례식장</td>\n",
       "      <td>0.666667</td>\n",
       "    </tr>\n",
       "    <tr>\n",
       "      <td>33</td>\n",
       "      <td>판매시설</td>\n",
       "      <td>0.653846</td>\n",
       "    </tr>\n",
       "    <tr>\n",
       "      <td>1</td>\n",
       "      <td>공동주택</td>\n",
       "      <td>0.619554</td>\n",
       "    </tr>\n",
       "    <tr>\n",
       "      <td>15</td>\n",
       "      <td>분뇨.쓰레기처리시설</td>\n",
       "      <td>0.618182</td>\n",
       "    </tr>\n",
       "    <tr>\n",
       "      <td>16</td>\n",
       "      <td>수련시설</td>\n",
       "      <td>0.600000</td>\n",
       "    </tr>\n",
       "    <tr>\n",
       "      <td>25</td>\n",
       "      <td>자동차관련시설</td>\n",
       "      <td>0.563025</td>\n",
       "    </tr>\n",
       "    <tr>\n",
       "      <td>2</td>\n",
       "      <td>공장</td>\n",
       "      <td>0.553011</td>\n",
       "    </tr>\n",
       "    <tr>\n",
       "      <td>19</td>\n",
       "      <td>업무시설</td>\n",
       "      <td>0.541985</td>\n",
       "    </tr>\n",
       "    <tr>\n",
       "      <td>20</td>\n",
       "      <td>운동시설</td>\n",
       "      <td>0.523810</td>\n",
       "    </tr>\n",
       "    <tr>\n",
       "      <td>5</td>\n",
       "      <td>교육연구시설</td>\n",
       "      <td>0.508108</td>\n",
       "    </tr>\n",
       "    <tr>\n",
       "      <td>21</td>\n",
       "      <td>운수시설</td>\n",
       "      <td>0.500000</td>\n",
       "    </tr>\n",
       "    <tr>\n",
       "      <td>22</td>\n",
       "      <td>위락시설</td>\n",
       "      <td>0.457143</td>\n",
       "    </tr>\n",
       "    <tr>\n",
       "      <td>14</td>\n",
       "      <td>방송통신시설</td>\n",
       "      <td>0.454545</td>\n",
       "    </tr>\n",
       "    <tr>\n",
       "      <td>11</td>\n",
       "      <td>묘지관련시설</td>\n",
       "      <td>0.444444</td>\n",
       "    </tr>\n",
       "    <tr>\n",
       "      <td>6</td>\n",
       "      <td>교정및군사시설</td>\n",
       "      <td>0.428571</td>\n",
       "    </tr>\n",
       "    <tr>\n",
       "      <td>17</td>\n",
       "      <td>숙박시설</td>\n",
       "      <td>0.427481</td>\n",
       "    </tr>\n",
       "    <tr>\n",
       "      <td>12</td>\n",
       "      <td>문화및집회시설</td>\n",
       "      <td>0.421053</td>\n",
       "    </tr>\n",
       "    <tr>\n",
       "      <td>28</td>\n",
       "      <td>제2종근린생활시설</td>\n",
       "      <td>0.343501</td>\n",
       "    </tr>\n",
       "    <tr>\n",
       "      <td>4</td>\n",
       "      <td>교육연구및복지시설</td>\n",
       "      <td>0.333333</td>\n",
       "    </tr>\n",
       "    <tr>\n",
       "      <td>27</td>\n",
       "      <td>제1종근린생활시설</td>\n",
       "      <td>0.311064</td>\n",
       "    </tr>\n",
       "    <tr>\n",
       "      <td>23</td>\n",
       "      <td>위험물저장및처리시설</td>\n",
       "      <td>0.278261</td>\n",
       "    </tr>\n",
       "    <tr>\n",
       "      <td>29</td>\n",
       "      <td>종교시설</td>\n",
       "      <td>0.273292</td>\n",
       "    </tr>\n",
       "    <tr>\n",
       "      <td>7</td>\n",
       "      <td>근린생활시설</td>\n",
       "      <td>0.258065</td>\n",
       "    </tr>\n",
       "    <tr>\n",
       "      <td>10</td>\n",
       "      <td>동.식물 관련시설</td>\n",
       "      <td>0.250852</td>\n",
       "    </tr>\n",
       "    <tr>\n",
       "      <td>8</td>\n",
       "      <td>노유자시설</td>\n",
       "      <td>0.248780</td>\n",
       "    </tr>\n",
       "    <tr>\n",
       "      <td>30</td>\n",
       "      <td>창고시설</td>\n",
       "      <td>0.208857</td>\n",
       "    </tr>\n",
       "    <tr>\n",
       "      <td>13</td>\n",
       "      <td>발전시설</td>\n",
       "      <td>0.181818</td>\n",
       "    </tr>\n",
       "    <tr>\n",
       "      <td>9</td>\n",
       "      <td>단독주택</td>\n",
       "      <td>0.174130</td>\n",
       "    </tr>\n",
       "    <tr>\n",
       "      <td>18</td>\n",
       "      <td>시장</td>\n",
       "      <td>0.000000</td>\n",
       "    </tr>\n",
       "    <tr>\n",
       "      <td>31</td>\n",
       "      <td>파출소</td>\n",
       "      <td>0.000000</td>\n",
       "    </tr>\n",
       "    <tr>\n",
       "      <td>32</td>\n",
       "      <td>판매및영업시설</td>\n",
       "      <td>0.000000</td>\n",
       "    </tr>\n",
       "    <tr>\n",
       "      <td>0</td>\n",
       "      <td>공공용시설</td>\n",
       "      <td>0.000000</td>\n",
       "    </tr>\n",
       "  </tbody>\n",
       "</table>\n",
       "</div>"
      ],
      "text/plain": [
       "      bldng_us     fr_yn\n",
       "3       관광휴게시설  0.700000\n",
       "24        의료시설  0.666667\n",
       "26        장례식장  0.666667\n",
       "33        판매시설  0.653846\n",
       "1         공동주택  0.619554\n",
       "15  분뇨.쓰레기처리시설  0.618182\n",
       "16        수련시설  0.600000\n",
       "25     자동차관련시설  0.563025\n",
       "2           공장  0.553011\n",
       "19        업무시설  0.541985\n",
       "20        운동시설  0.523810\n",
       "5       교육연구시설  0.508108\n",
       "21        운수시설  0.500000\n",
       "22        위락시설  0.457143\n",
       "14      방송통신시설  0.454545\n",
       "11      묘지관련시설  0.444444\n",
       "6      교정및군사시설  0.428571\n",
       "17        숙박시설  0.427481\n",
       "12     문화및집회시설  0.421053\n",
       "28   제2종근린생활시설  0.343501\n",
       "4    교육연구및복지시설  0.333333\n",
       "27   제1종근린생활시설  0.311064\n",
       "23  위험물저장및처리시설  0.278261\n",
       "29        종교시설  0.273292\n",
       "7       근린생활시설  0.258065\n",
       "10   동.식물 관련시설  0.250852\n",
       "8        노유자시설  0.248780\n",
       "30        창고시설  0.208857\n",
       "13        발전시설  0.181818\n",
       "9         단독주택  0.174130\n",
       "18          시장  0.000000\n",
       "31         파출소  0.000000\n",
       "32     판매및영업시설  0.000000\n",
       "0        공공용시설  0.000000"
      ]
     },
     "execution_count": 8,
     "metadata": {},
     "output_type": "execute_result"
    }
   ],
   "source": [
    "#train.fr_yn = train.fr_yn.map({'Y':1,'N':0})\n",
    "#train2 = train[['fr_yn','bldng_us']].groupby(['bldng_us'], as_index=False).mean().sort_values(by='fr_yn', ascending=False)\n",
    "\n",
    "#for data in combine:\n",
    "train2"
   ]
  },
  {
   "cell_type": "code",
   "execution_count": 24,
   "metadata": {},
   "outputs": [
    {
     "data": {
      "text/plain": [
       "벽돌구조           7377\n",
       "일반목구조          6852\n",
       "철근콘크리트구조       6694\n",
       "블록구조           4087\n",
       "경량철골구조         3378\n",
       "일반철골구조         1938\n",
       "조적구조            398\n",
       "강파이프구조          395\n",
       "기타조적구조          176\n",
       "석구조              55\n",
       "철골철근콘크리트구조       43\n",
       "기타강구조            36\n",
       "철골콘크리트구조         35\n",
       "기타구조             27\n",
       "목구조              17\n",
       "프리케스트콘크리트구조      14\n",
       "통나무구조            11\n",
       "기타콘크리트구조          1\n",
       "Name: bldng_archtctr, dtype: int64"
      ]
     },
     "execution_count": 24,
     "metadata": {},
     "output_type": "execute_result"
    }
   ],
   "source": [
    "train[['fr_yn','bldng_archtctr']].groupby(['bldng_archtctr'], as_index=False).mean().sort_values(by='fr_yn', ascending=False)\n",
    "train.bldng_archtctr.value_counts()"
   ]
  },
  {
   "cell_type": "code",
   "execution_count": 28,
   "metadata": {
    "scrolled": true
   },
   "outputs": [
    {
     "data": {
      "text/plain": [
       "주거용      19589\n",
       "상업용       5389\n",
       "기타        1899\n",
       "농수산용      1225\n",
       "공업용       1043\n",
       "문교사회용      677\n",
       "공공용         34\n",
       "Name: bldng_us_clssfctn, dtype: int64"
      ]
     },
     "execution_count": 28,
     "metadata": {},
     "output_type": "execute_result"
    }
   ],
   "source": [
    "#train[['fr_yn','bldng_us_clssfctn']].groupby(['bldng_us_clssfctn'], as_index=False).mean().sort_values(by='fr_yn', ascending=False)\n",
    "train.bldng_us_clssfctn.value_counts()"
   ]
  },
  {
   "cell_type": "code",
   "execution_count": 216,
   "metadata": {},
   "outputs": [],
   "source": [
    "X_train.loc[X_train['no_tbc_zn_dstnc'] <= 100, 'no_tbc_zn_dstnc'] = 3\n",
    "X_train.loc[(X_train['no_tbc_zn_dstnc'] > 100) & (X_train['no_tbc_zn_dstnc'] <= 500), 'no_tbc_zn_dstnc'] = 2\n",
    "X_train.loc[(X_train['no_tbc_zn_dstnc'] > 500) & (X_train['no_tbc_zn_dstnc'] <= 2000), 'no_tbc_zn_dstnc'] = 1\n",
    "X_train.loc[(X_train['no_tbc_zn_dstnc'] > 2000), 'no_tbc_zn_dstnc'] = 0\n",
    "\n",
    "X_val.loc[X_val['no_tbc_zn_dstnc'] <= 100, 'no_tbc_zn_dstnc'] = 3\n",
    "X_val.loc[(X_val['no_tbc_zn_dstnc'] > 100) & (X_val['no_tbc_zn_dstnc'] <= 500), 'no_tbc_zn_dstnc'] = 2\n",
    "X_val.loc[(X_val['no_tbc_zn_dstnc'] > 500) & (X_val['no_tbc_zn_dstnc'] <= 2000), 'no_tbc_zn_dstnc'] = 1\n",
    "X_val.loc[(X_val['no_tbc_zn_dstnc'] > 2000), 'no_tbc_zn_dstnc'] = 0"
   ]
  },
  {
   "cell_type": "code",
   "execution_count": 25,
   "metadata": {},
   "outputs": [
    {
     "data": {
      "text/plain": [
       "단독주택          20232\n",
       "제1종근린생활시설      2350\n",
       "제2종근린생활시설      2262\n",
       "창고시설           1513\n",
       "동.식물 관련시설      1467\n",
       "공장             1179\n",
       "공동주택            941\n",
       "숙박시설            262\n",
       "노유자시설           205\n",
       "교육연구시설          185\n",
       "종교시설            161\n",
       "업무시설            131\n",
       "자동차관련시설         119\n",
       "위험물저장및처리시설      115\n",
       "분뇨.쓰레기처리시설       55\n",
       "판매시설             52\n",
       "운동시설             42\n",
       "문화및집회시설          38\n",
       "위락시설             35\n",
       "근린생활시설           31\n",
       "관광휴게시설           30\n",
       "의료시설             27\n",
       "교육연구및복지시설        18\n",
       "수련시설             15\n",
       "운수시설             12\n",
       "방송통신시설           11\n",
       "발전시설             11\n",
       "묘지관련시설            9\n",
       "교정및군사시설           7\n",
       "장례식장              3\n",
       "공공용시설             1\n",
       "시장                1\n",
       "판매및영업시설           1\n",
       "파출소               1\n",
       "Name: bldng_us, dtype: int64"
      ]
     },
     "execution_count": 25,
     "metadata": {},
     "output_type": "execute_result"
    }
   ],
   "source": [
    "build = []\n",
    "for i in train.bldng_us :\n",
    "    if (i=='단독주택') | (i=='공동주택'):\n",
    "        build.append('주거시설')\n",
    "    elif (i=='종교시설') | (i=='운동시설') | (i=='문화및집회시설') | (i=='수련시설'):\n",
    "        build.append('집합시설')\n",
    "    elif (i=='공장') | (i=='동.식물 관련시설') | (i=='창고시설') | (i=='분뇨.쓰레기처리시설') | (i=='발전시설'):\n",
    "        build.append('산업시설')\n",
    "    elif (i=='교육연구시설') | (i=='교육연구및복지시설'):\n",
    "        build.append('교육시설')\n",
    "    elif (i=='숙박시설') | (i=='업무시설') | (i=='판매시설') | (i=='공공용시설') | (i=='교정및군사시설') | (i=='판매및영업시설') | (i=='파출소') | (i=='시장') | (i=='관광휴게시설') | (i=='방송통신시설'):\n",
    "        build.append('판매및업무시설')\n",
    "    elif (i=='자동차관련시설') | (i=='운수시설'):\n",
    "        build.append('운수자동차시설')\n",
    "    elif (i=='의료시설') | (i=='노유자시설'):\n",
    "        build.append('의료복지시설')\n",
    "    elif (i=='위락시설'):\n",
    "        build.append('생활서비스')\n",
    "    elif (i=='제1종근린생활시설') | (i=='제2종근린생활시설') | (i=='근린생활시설'):\n",
    "        build.append('근린생활시설')\n",
    "    else :\n",
    "        build.append(i)\n",
    "\n",
    "#train.bldng_us = build\n",
    "\n",
    "#train2 = train[['fr_yn','bldng_us']].groupby(['bldng_us'], as_index=False).mean().sort_values(by='fr_yn', ascending=False)\n",
    "\n",
    "train.bldng_us.value_counts()"
   ]
  },
  {
   "cell_type": "code",
   "execution_count": 273,
   "metadata": {},
   "outputs": [
    {
     "name": "stdout",
     "output_type": "stream",
     "text": [
      "<bound method Series.unique of 0        1977.0\n",
      "1           NaN\n",
      "2        2000.0\n",
      "3        1936.0\n",
      "4           NaN\n",
      "          ...  \n",
      "59194    1996.0\n",
      "59195       NaN\n",
      "59196       NaN\n",
      "59197    2005.0\n",
      "59198    2002.0\n",
      "Name: dt_of_athrztn, Length: 59199, dtype: float64>\n"
     ]
    }
   ],
   "source": [
    "train.loc[:,'dt_of_athrztn'].astype('str').str[:4].unique()\n",
    "\n",
    "year = X_train.loc[:,'dt_of_athrztn'].astype('str').str[:4].astype('float')\n",
    "print(year.unique)\n",
    "X_train.loc[year <= 1900, 'dt_of_athrztn'] = 0\n",
    "X_train.loc[(year > 1900) & (year <= 1950), 'dt_of_athrztn'] = 1\n",
    "X_train.loc[(year > 1950) & (year <= 2000), 'dt_of_athrztn'] = 2\n",
    "X_train.loc[(year > 2000), 'dt_of_athrztn'] = 3"
   ]
  },
  {
   "cell_type": "code",
   "execution_count": 320,
   "metadata": {},
   "outputs": [],
   "source": [
    "#train = pd.read_csv('PJT002_train.csv')\n",
    "year = train.loc[:,'dt_of_athrztn'].astype('str').str[:4].astype('float')\n",
    "\n",
    "train.loc[year <= 1950, 'dt_of_athrztn'] = 0\n",
    "train.loc[(year > 1950) & (year <= 2000), 'dt_of_athrztn'] = 1\n",
    "train.loc[(year > 2000) & (year <= 2010), 'dt_of_athrztn'] = 2\n",
    "train.loc[(year > 2010), 'dt_of_athrztn'] = 3"
   ]
  },
  {
   "cell_type": "code",
   "execution_count": 321,
   "metadata": {},
   "outputs": [],
   "source": [
    "train.dt_of_athrztn = train.dt_of_athrztn.fillna(4)\n",
    "train.fr_wthr_fclt_dstnc = train.groupby('dt_of_athrztn')['fr_wthr_fclt_dstnc'].transform(lambda x : x.fillna(x.mean()))\n",
    "\n",
    "dis = train.fr_wthr_fclt_dstnc\n",
    "train.loc[dis <= 50, 'fr_wthr_fclt_dstnc'] = 3\n",
    "train.loc[(dis > 50) & (dis <= 100), 'fr_wthr_fclt_dstnc'] = 2\n",
    "train.loc[(dis > 100) & (dis <= 300), 'fr_wthr_fclt_dstnc'] = 1\n",
    "train.loc[dis > 300, 'fr_wthr_fclt_dstnc'] = 0"
   ]
  }
 ],
 "metadata": {
  "kernelspec": {
   "display_name": "Python 3",
   "language": "python",
   "name": "python3"
  },
  "language_info": {
   "codemirror_mode": {
    "name": "ipython",
    "version": 3
   },
   "file_extension": ".py",
   "mimetype": "text/x-python",
   "name": "python",
   "nbconvert_exporter": "python",
   "pygments_lexer": "ipython3",
   "version": "3.6.3"
  }
 },
 "nbformat": 4,
 "nbformat_minor": 2
}
