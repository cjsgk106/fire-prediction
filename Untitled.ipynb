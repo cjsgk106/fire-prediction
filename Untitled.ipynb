{
 "cells": [
  {
   "cell_type": "code",
   "execution_count": 1,
   "metadata": {},
   "outputs": [],
   "source": [
    "import numpy as np\n",
    "import pandas as pd\n",
    "import seaborn as sns\n",
    "import matplotlib.pyplot as plt\n",
    "\n",
    "from sklearn.metrics import f1_score"
   ]
  },
  {
   "cell_type": "code",
   "execution_count": 2,
   "metadata": {},
   "outputs": [],
   "source": [
    "def plot_feature_importance(model, X_train, figsize=(12, 6)):\n",
    "    sns.set_style('darkgrid')\n",
    "    \n",
    "    # Plot feature importance\n",
    "    feature_importance = model.feature_importances_\n",
    "    feature_importance = 100.0 * (feature_importance / feature_importance.max())\n",
    "    sorted_idx = np.argsort(feature_importance)\n",
    "    pos = np.arange(sorted_idx.shape[0]) + .5\n",
    "\n",
    "    plt.figure(figsize=figsize)\n",
    "    plt.barh(pos, feature_importance[sorted_idx], align='center')\n",
    "    plt.yticks(pos, X_train.columns[sorted_idx])\n",
    "    plt.xlabel('Relative Importance')\n",
    "    plt.title('Variable Importance')\n",
    "    plt.show()"
   ]
  },
  {
   "cell_type": "code",
   "execution_count": 9,
   "metadata": {},
   "outputs": [],
   "source": [
    "from geoband.API import *\n",
    "\n",
    "GetCompasData('PJT002_train.csv')\n",
    "GetCompasData('PJT002_test.csv')\n",
    "GetCompasData('PJT002_validation.csv')\n",
    "GetCompasData('PJT002_submission.csv')\n",
    "\n",
    "train = pd.read_csv('PJT002_train.csv')\n",
    "val = pd.read_csv('PJT002_validation.csv')\n",
    "test = pd.read_csv('PJT002_test.csv')\n",
    "sub = pd.read_csv('PJT002_submission.csv')"
   ]
  },
  {
   "cell_type": "code",
   "execution_count": 10,
   "metadata": {},
   "outputs": [],
   "source": [
    "train=train[train['bldng_ar']<train['ttl_ar']]\n",
    "val=val[val['bldng_ar']<val['ttl_ar']]"
   ]
  },
  {
   "cell_type": "code",
   "execution_count": 11,
   "metadata": {},
   "outputs": [],
   "source": [
    "X_train = train.drop(['ele_engry_us_201401','ele_engry_us_201402','ele_engry_us_201403','ele_engry_us_201404','ele_engry_us_201405','ele_engry_us_201406',\n",
    "     'ele_engry_us_201407','ele_engry_us_201408','ele_engry_us_201409','ele_engry_us_201410','ele_engry_us_201411','ele_engry_us_201412','gas_engry_us_201401','gas_engry_us_201402','gas_engry_us_201403','gas_engry_us_201404','gas_engry_us_201405','gas_engry_us_201406',\n",
    "     'gas_engry_us_201407','gas_engry_us_201408','gas_engry_us_201409','gas_engry_us_201410','gas_engry_us_201411','gas_engry_us_201412','fr_yn','id','trgt_crtr','fr_fghtng_fclt_spcl_css_5_yn','fr_fghtng_fclt_spcl_css_6_yn','us_yn',\n",
    "                      'dngrs_thng_yn','slf_fr_brgd_yn','blk_dngrs_thng_mnfctr_yn','cltrl_hrtg_yn','lw_13101010','lw_13101110','lw_13101210','lw_13101211','lw_13101310','lw_13101410',\n",
    "'lw_13111010','lw_13111110','lw_13121010','lw_13121011','lw_13131010','lw_13131110','lw_13141010','lw_13141011', 'dt_of_fr','cctv_in_100m','fr_wthr_fclt_in_100m'], 1)\n",
    "y_train = train['fr_yn']\n",
    "X_val = val.drop(['ele_engry_us_201401','ele_engry_us_201402','ele_engry_us_201403','ele_engry_us_201404','ele_engry_us_201405','ele_engry_us_201406',\n",
    "     'ele_engry_us_201407','ele_engry_us_201408','ele_engry_us_201409','ele_engry_us_201410','ele_engry_us_201411','ele_engry_us_201412','gas_engry_us_201401','gas_engry_us_201402','gas_engry_us_201403','gas_engry_us_201404','gas_engry_us_201405','gas_engry_us_201406',\n",
    "     'gas_engry_us_201407','gas_engry_us_201408','gas_engry_us_201409','gas_engry_us_201410','gas_engry_us_201411','gas_engry_us_201412','fr_yn','id','trgt_crtr','fr_fghtng_fclt_spcl_css_5_yn','fr_fghtng_fclt_spcl_css_6_yn','us_yn',\n",
    "                      'dngrs_thng_yn','slf_fr_brgd_yn','blk_dngrs_thng_mnfctr_yn','cltrl_hrtg_yn','lw_13101010','lw_13101110','lw_13101210','lw_13101211','lw_13101310','lw_13101410',\n",
    "'lw_13111010','lw_13111110','lw_13121010','lw_13121011','lw_13131010','lw_13131110','lw_13141010','lw_13141011', 'dt_of_fr','cctv_in_100m','fr_wthr_fclt_in_100m'], 1)\n",
    "y_val = val['fr_yn']\n",
    "\n",
    "#y_train = X_train['fr_yn']\n",
    "#X_train = X_train.drop(['fr_yn', 'dt_of_fr','id'], 1)\n",
    "#y_val = X_val['fr_yn']\n",
    "#X_val = X_val.drop(['fr_yn', 'dt_of_fr','id'], 1)\n",
    "test = test.drop([ 'dt_of_fr'], 1)"
   ]
  },
  {
   "cell_type": "code",
   "execution_count": 12,
   "metadata": {},
   "outputs": [],
   "source": [
    "all_data = pd.concat([X_train, X_val, test],sort=False)"
   ]
  },
  {
   "cell_type": "code",
   "execution_count": 13,
   "metadata": {},
   "outputs": [],
   "source": [
    "all_data['bldng_us_clssfctn'] = all_data['bldng_us_clssfctn'].fillna(\"None\")\n",
    "all_data['bldng_us'] = all_data['bldng_us'].fillna(\"None\")\n",
    "all_data['bldng_archtctr'] = all_data['bldng_archtctr'].fillna(\"None\")\n",
    "all_data['bldng_ar_prc'] = all_data['bldng_ar_prc'].fillna(0)\n",
    "all_data['lnd_us_sttn_nm'] = all_data['lnd_us_sttn_nm'].fillna(\"단독\")\n",
    "all_data['rd_sd_nm'] = all_data['rd_sd_nm'].fillna(\"세로한면(가)\")\n",
    "all_data['rgnl_ar_nm2'] = all_data['rgnl_ar_nm2'].fillna(\"지정되지않음\")\n",
    "all_data['rgnl_ar_nm'] = all_data['rgnl_ar_nm'].fillna(\"계획관리지역\")\n",
    "all_data['hm_cnt'] = all_data['hm_cnt'].fillna(0)\n",
    "all_data['ttl_dwn_flr'] = all_data['ttl_dwn_flr'].fillna(0)\n",
    "all_data['ttl_grnd_flr'] = all_data['ttl_grnd_flr'].fillna(0)\n",
    "all_data['wnd_drctn'] = all_data['wnd_drctn'].fillna(0)\n",
    "all_data['fr_mn_cnt'] = all_data['fr_mn_cnt'].fillna(176)\n",
    "all_data['wnd_spd'] = all_data['wnd_spd'].fillna(0)\n",
    "all_data['hmdt'] = all_data['hmdt'].fillna(98)"
   ]
  },
  {
   "cell_type": "code",
   "execution_count": 8,
   "metadata": {},
   "outputs": [
    {
     "data": {
      "text/html": [
       "<div>\n",
       "<style scoped>\n",
       "    .dataframe tbody tr th:only-of-type {\n",
       "        vertical-align: middle;\n",
       "    }\n",
       "\n",
       "    .dataframe tbody tr th {\n",
       "        vertical-align: top;\n",
       "    }\n",
       "\n",
       "    .dataframe thead th {\n",
       "        text-align: right;\n",
       "    }\n",
       "</style>\n",
       "<table border=\"1\" class=\"dataframe\">\n",
       "  <thead>\n",
       "    <tr style=\"text-align: right;\">\n",
       "      <th></th>\n",
       "      <th>tbc_rtl_str_dstnc2</th>\n",
       "      <th>fr_yn</th>\n",
       "    </tr>\n",
       "  </thead>\n",
       "  <tbody>\n",
       "    <tr>\n",
       "      <td>0</td>\n",
       "      <td>(-0.001, 260.0]</td>\n",
       "      <td>0.223563</td>\n",
       "    </tr>\n",
       "    <tr>\n",
       "      <td>1</td>\n",
       "      <td>(260.0, 534.0]</td>\n",
       "      <td>0.188437</td>\n",
       "    </tr>\n",
       "    <tr>\n",
       "      <td>2</td>\n",
       "      <td>(534.0, 1852.0]</td>\n",
       "      <td>0.230568</td>\n",
       "    </tr>\n",
       "    <tr>\n",
       "      <td>3</td>\n",
       "      <td>(1852.0, 23228.0]</td>\n",
       "      <td>0.209877</td>\n",
       "    </tr>\n",
       "  </tbody>\n",
       "</table>\n",
       "</div>"
      ],
      "text/plain": [
       "  tbc_rtl_str_dstnc2     fr_yn\n",
       "0    (-0.001, 260.0]  0.223563\n",
       "1     (260.0, 534.0]  0.188437\n",
       "2    (534.0, 1852.0]  0.230568\n",
       "3  (1852.0, 23228.0]  0.209877"
      ]
     },
     "execution_count": 8,
     "metadata": {},
     "output_type": "execute_result"
    }
   ],
   "source": [
    "# 참고. 실제로 스코어 돌릴때는 빼야함.\n",
    "train['fr_yn'] = train['fr_yn'].map({'Y':1, 'N':0})  \n",
    "\n",
    "train['tbc_rtl_str_dstnc2'] = pd.qcut(train['tbc_rtl_str_dstnc'],4)\n",
    "train[['tbc_rtl_str_dstnc2', 'fr_yn']].groupby(['tbc_rtl_str_dstnc2'], as_index=False).mean().sort_values(by='tbc_rtl_str_dstnc2', ascending=True)"
   ]
  },
  {
   "cell_type": "code",
   "execution_count": 14,
   "metadata": {},
   "outputs": [],
   "source": [
    "all_data.loc[all_data['tbc_rtl_str_dstnc'] <= 260, 'tbc_rtl_str_dstnc'] = 0\n",
    "all_data.loc[(all_data['tbc_rtl_str_dstnc'] > 260) & (all_data['tbc_rtl_str_dstnc'] <= 534), 'tbc_rtl_str_dstnc'] = 1\n",
    "all_data.loc[(all_data['tbc_rtl_str_dstnc'] > 534) & (all_data['tbc_rtl_str_dstnc'] <= 1852), 'tbc_rtl_str_dstnc'] = 2\n",
    "all_data.loc[(all_data['tbc_rtl_str_dstnc'] > 1852), 'tbc_rtl_str_dstnc'] = 3"
   ]
  },
  {
   "cell_type": "code",
   "execution_count": 15,
   "metadata": {},
   "outputs": [],
   "source": [
    "list1 = ['공동주택','단독주택','제1종근린생활시설','제2종근린생활시설','근린생활시설']\n",
    "all_data['bldng_us2'] = [1 if w in list1 else 0 for w in all_data['bldng_us']]\n",
    "all_data = all_data.drop('bldng_us', axis=1)"
   ]
  },
  {
   "cell_type": "code",
   "execution_count": 16,
   "metadata": {},
   "outputs": [],
   "source": [
    "list1 = ['통나무구조','일반목구조','목구조','기타구조']\n",
    "list2 = ['기타조적구조','블록구조','석구조','벽돌구조','조적구조']\n",
    "all_data['bldng_archtctr2'] = [1 if w in list1 else 2 if w in list2 else 0 for w in all_data['bldng_archtctr']]\n",
    "all_data = all_data.drop('bldng_archtctr', axis=1)"
   ]
  },
  {
   "cell_type": "code",
   "execution_count": 17,
   "metadata": {},
   "outputs": [],
   "source": [
    "all_data = all_data.drop('rgnl_ar_nm2', axis=1)"
   ]
  },
  {
   "cell_type": "code",
   "execution_count": 18,
   "metadata": {},
   "outputs": [],
   "source": [
    "#all_data = pd.concat([all_data, test],sort=False)\n",
    "\n",
    "categorical_cols = all_data.select_dtypes(['object']).columns\n",
    "for col in categorical_cols:\n",
    "    all_data[col] = pd.Categorical(all_data[col]).codes\n",
    "\n",
    "#from sklearn.preprocessing import OneHotEncoder\n",
    "#onehotencoder = OneHotEncoder(categorical_features = [0])\n",
    "#all_data = pd.DataFrame(onehotencoder.fit_transform(all_data).toarray())\n",
    "\n",
    "X_train = all_data[:len(train)]\n",
    "X_val = all_data[len(train):-len(test)]\n",
    "test = all_data[-len(test):]\n",
    "\n"
   ]
  },
  {
   "cell_type": "code",
   "execution_count": 19,
   "metadata": {},
   "outputs": [],
   "source": [
    "X_train = X_train.fillna(-1)\n",
    "X_val = X_val.fillna(-1)\n",
    "test = test.fillna(-1)"
   ]
  },
  {
   "cell_type": "code",
   "execution_count": 20,
   "metadata": {},
   "outputs": [
    {
     "data": {
      "text/plain": [
       "0.5796344647519581"
      ]
     },
     "execution_count": 20,
     "metadata": {},
     "output_type": "execute_result"
    }
   ],
   "source": [
    "from  sklearn.ensemble import RandomForestClassifier\n",
    "\n",
    "model = RandomForestClassifier(n_jobs=-1, n_estimators=500, random_state=1)\n",
    "model.fit(X_train, y_train)\n",
    "\n",
    "y_pred = model.predict(X_val)\n",
    "\n",
    "f1_score(y_val, y_pred,pos_label='Y')"
   ]
  },
  {
   "cell_type": "code",
   "execution_count": 21,
   "metadata": {},
   "outputs": [],
   "source": [
    "y=model.predict(test)"
   ]
  },
  {
   "cell_type": "code",
   "execution_count": 22,
   "metadata": {},
   "outputs": [
    {
     "data": {
      "text/html": [
       "<div>\n",
       "<style scoped>\n",
       "    .dataframe tbody tr th:only-of-type {\n",
       "        vertical-align: middle;\n",
       "    }\n",
       "\n",
       "    .dataframe tbody tr th {\n",
       "        vertical-align: top;\n",
       "    }\n",
       "\n",
       "    .dataframe thead th {\n",
       "        text-align: right;\n",
       "    }\n",
       "</style>\n",
       "<table border=\"1\" class=\"dataframe\">\n",
       "  <thead>\n",
       "    <tr style=\"text-align: right;\">\n",
       "      <th></th>\n",
       "      <th>fr_yn</th>\n",
       "    </tr>\n",
       "  </thead>\n",
       "  <tbody>\n",
       "    <tr>\n",
       "      <td>0</td>\n",
       "      <td>N</td>\n",
       "    </tr>\n",
       "    <tr>\n",
       "      <td>1</td>\n",
       "      <td>N</td>\n",
       "    </tr>\n",
       "    <tr>\n",
       "      <td>2</td>\n",
       "      <td>N</td>\n",
       "    </tr>\n",
       "    <tr>\n",
       "      <td>3</td>\n",
       "      <td>N</td>\n",
       "    </tr>\n",
       "    <tr>\n",
       "      <td>4</td>\n",
       "      <td>N</td>\n",
       "    </tr>\n",
       "  </tbody>\n",
       "</table>\n",
       "</div>"
      ],
      "text/plain": [
       "  fr_yn\n",
       "0     N\n",
       "1     N\n",
       "2     N\n",
       "3     N\n",
       "4     N"
      ]
     },
     "execution_count": 22,
     "metadata": {},
     "output_type": "execute_result"
    }
   ],
   "source": [
    "sub['fr_yn']=y\n",
    "sub.head()"
   ]
  },
  {
   "cell_type": "code",
   "execution_count": null,
   "metadata": {},
   "outputs": [],
   "source": [
    "sub.to_csv('baseline_rf.csv',index=False)"
   ]
  }
 ],
 "metadata": {
  "kernelspec": {
   "display_name": "Python 3",
   "language": "python",
   "name": "python3"
  },
  "language_info": {
   "codemirror_mode": {
    "name": "ipython",
    "version": 3
   },
   "file_extension": ".py",
   "mimetype": "text/x-python",
   "name": "python",
   "nbconvert_exporter": "python",
   "pygments_lexer": "ipython3",
   "version": "3.6.3"
  }
 },
 "nbformat": 4,
 "nbformat_minor": 2
}
