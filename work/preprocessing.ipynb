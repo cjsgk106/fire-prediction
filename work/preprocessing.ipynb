{
 "cells": [
  {
   "cell_type": "code",
   "execution_count": 1,
   "metadata": {},
   "outputs": [],
   "source": [
    "import numpy as np\n",
    "import pandas as pd\n",
    "import seaborn as sns\n",
    "import matplotlib.pyplot as plt\n",
    "\n",
    "from sklearn.metrics import f1_score"
   ]
  },
  {
   "cell_type": "code",
   "execution_count": 2,
   "metadata": {
    "scrolled": true
   },
   "outputs": [
    {
     "name": "stdout",
     "output_type": "stream",
     "text": [
      "Requirement already satisfied: import_ipynb in /opt/app-root/lib/python3.6/site-packages (0.1.3)\n",
      "\u001b[33mWARNING: You are using pip version 19.2.3, however version 19.3.1 is available.\n",
      "You should consider upgrading via the 'pip install --upgrade pip' command.\u001b[0m\n"
     ]
    }
   ],
   "source": [
    "!pip install import_ipynb"
   ]
  },
  {
   "cell_type": "code",
   "execution_count": 56,
   "metadata": {},
   "outputs": [],
   "source": [
    "import import_ipynb\n",
    "import func as fd\n",
    "from matplotlib import font_manager, rc\n",
    "font_name = font_manager.FontProperties(fname='/usr/share/fonts/nhn-nanum/NanumGothicBold.ttf').get_name()\n",
    "rc('font', family=font_name)\n"
   ]
  },
  {
   "cell_type": "code",
   "execution_count": 4,
   "metadata": {},
   "outputs": [],
   "source": [
    "def plot_feature_importance(model, X_train, figsize=(12, 6)):\n",
    "    sns.set_style('darkgrid')\n",
    "    \n",
    "    # Plot feature importance\n",
    "    feature_importance = model.feature_importances_\n",
    "    feature_importance = 100.0 * (feature_importance / feature_importance.max())\n",
    "    sorted_idx = np.argsort(feature_importance)\n",
    "    pos = np.arange(sorted_idx.shape[0]) + .5\n",
    "\n",
    "    plt.figure(figsize=figsize)\n",
    "    plt.barh(pos, feature_importance[sorted_idx], align='center')\n",
    "    plt.yticks(pos, X_train.columns[sorted_idx])\n",
    "    plt.xlabel('Relative Importance')\n",
    "    plt.title('Variable Importance')\n",
    "    plt.show()"
   ]
  },
  {
   "cell_type": "code",
   "execution_count": 5,
   "metadata": {
    "scrolled": false
   },
   "outputs": [
    {
     "name": "stderr",
     "output_type": "stream",
     "text": [
      "/opt/app-root/lib/python3.6/site-packages/IPython/core/interactiveshell.py:3058: DtypeWarning: Columns (8,172,173,174,175,176,177,178,179) have mixed types. Specify dtype option on import or set low_memory=False.\n",
      "  interactivity=interactivity, compiler=compiler, result=result)\n"
     ]
    }
   ],
   "source": [
    "from geoband.API import *\n",
    "\n",
    "GetCompasData('PJT002_train.csv')\n",
    "GetCompasData('PJT002_test.csv')\n",
    "GetCompasData('PJT002_validation.csv')\n",
    "GetCompasData('PJT002_submission.csv')\n",
    "\n",
    "train = pd.read_csv('PJT002_train.csv')\n",
    "val = pd.read_csv('PJT002_validation.csv')\n",
    "test = pd.read_csv('PJT002_test.csv')\n",
    "sub = pd.read_csv('PJT002_submission.csv')"
   ]
  },
  {
   "cell_type": "code",
   "execution_count": 6,
   "metadata": {},
   "outputs": [],
   "source": [
    "c1 = train.columns[172:]\n",
    "c2 = train.columns[137:151]\n",
    "c3 = train.columns[17:137]\n",
    "X_train = train.drop(c1,1)\n",
    "X_train = X_train.drop(c2,1)\n",
    "X_train = X_train.drop(c3,1)\n",
    "X_train['prcpttn'] = X_train['prcpttn'].fillna(-1)\n",
    "\n",
    "X_val = val.drop(c1,1)\n",
    "X_val = X_val.drop(c2,1)\n",
    "X_val = X_val.drop(c3,1)\n",
    "X_val['prcpttn'] = X_val['prcpttn'].fillna(-1)\n",
    "\n",
    "test = test.drop(c1,1)\n",
    "test = test.drop(c2,1)\n",
    "test = test.drop(c3,1)\n",
    "test['prcpttn'] = test['prcpttn'].fillna(-1)\n",
    "\n",
    "y_train = X_train['fr_yn']\n",
    "X_train = X_train.drop(['fr_yn', 'id'], 1)\n",
    "y_val = X_val['fr_yn']\n",
    "X_val = X_val.drop(['fr_yn', 'id'], 1)\n",
    "test = test.drop(['fr_yn', 'id'], 1)"
   ]
  },
  {
   "cell_type": "code",
   "execution_count": 7,
   "metadata": {},
   "outputs": [],
   "source": [
    "all_data = pd.concat([X_train, X_val, test],sort=False)"
   ]
  },
  {
   "cell_type": "code",
   "execution_count": 8,
   "metadata": {
    "scrolled": false
   },
   "outputs": [
    {
     "data": {
      "text/html": [
       "<div>\n",
       "<style scoped>\n",
       "    .dataframe tbody tr th:only-of-type {\n",
       "        vertical-align: middle;\n",
       "    }\n",
       "\n",
       "    .dataframe tbody tr th {\n",
       "        vertical-align: top;\n",
       "    }\n",
       "\n",
       "    .dataframe thead th {\n",
       "        text-align: right;\n",
       "    }\n",
       "</style>\n",
       "<table border=\"1\" class=\"dataframe\">\n",
       "  <thead>\n",
       "    <tr style=\"text-align: right;\">\n",
       "      <th></th>\n",
       "      <th>Missing Ratio</th>\n",
       "    </tr>\n",
       "  </thead>\n",
       "  <tbody>\n",
       "    <tr>\n",
       "      <td>bldng_us_clssfctn</td>\n",
       "      <td>45.822110</td>\n",
       "    </tr>\n",
       "    <tr>\n",
       "      <td>bldng_us</td>\n",
       "      <td>42.371188</td>\n",
       "    </tr>\n",
       "    <tr>\n",
       "      <td>bldng_archtctr</td>\n",
       "      <td>42.320503</td>\n",
       "    </tr>\n",
       "    <tr>\n",
       "      <td>dt_of_athrztn</td>\n",
       "      <td>42.187274</td>\n",
       "    </tr>\n",
       "    <tr>\n",
       "      <td>bldng_ar_prc</td>\n",
       "      <td>38.122339</td>\n",
       "    </tr>\n",
       "    <tr>\n",
       "      <td>ttl_dwn_flr</td>\n",
       "      <td>17.854143</td>\n",
       "    </tr>\n",
       "    <tr>\n",
       "      <td>ttl_grnd_flr</td>\n",
       "      <td>16.433516</td>\n",
       "    </tr>\n",
       "    <tr>\n",
       "      <td>lnd_us_sttn_nm</td>\n",
       "      <td>2.913662</td>\n",
       "    </tr>\n",
       "    <tr>\n",
       "      <td>rd_sd_nm</td>\n",
       "      <td>2.350335</td>\n",
       "    </tr>\n",
       "    <tr>\n",
       "      <td>rgnl_ar_nm2</td>\n",
       "      <td>2.350335</td>\n",
       "    </tr>\n",
       "    <tr>\n",
       "      <td>rgnl_ar_nm</td>\n",
       "      <td>2.350335</td>\n",
       "    </tr>\n",
       "    <tr>\n",
       "      <td>hm_cnt</td>\n",
       "      <td>1.016596</td>\n",
       "    </tr>\n",
       "    <tr>\n",
       "      <td>wnd_drctn</td>\n",
       "      <td>0.343210</td>\n",
       "    </tr>\n",
       "    <tr>\n",
       "      <td>fr_mn_cnt</td>\n",
       "      <td>0.060822</td>\n",
       "    </tr>\n",
       "    <tr>\n",
       "      <td>wnd_spd</td>\n",
       "      <td>0.055029</td>\n",
       "    </tr>\n",
       "    <tr>\n",
       "      <td>hmdt</td>\n",
       "      <td>0.039100</td>\n",
       "    </tr>\n",
       "    <tr>\n",
       "      <td>tmprtr</td>\n",
       "      <td>0.021722</td>\n",
       "    </tr>\n",
       "    <tr>\n",
       "      <td>emd_nm</td>\n",
       "      <td>0.005793</td>\n",
       "    </tr>\n",
       "  </tbody>\n",
       "</table>\n",
       "</div>"
      ],
      "text/plain": [
       "                   Missing Ratio\n",
       "bldng_us_clssfctn      45.822110\n",
       "bldng_us               42.371188\n",
       "bldng_archtctr         42.320503\n",
       "dt_of_athrztn          42.187274\n",
       "bldng_ar_prc           38.122339\n",
       "ttl_dwn_flr            17.854143\n",
       "ttl_grnd_flr           16.433516\n",
       "lnd_us_sttn_nm          2.913662\n",
       "rd_sd_nm                2.350335\n",
       "rgnl_ar_nm2             2.350335\n",
       "rgnl_ar_nm              2.350335\n",
       "hm_cnt                  1.016596\n",
       "wnd_drctn               0.343210\n",
       "fr_mn_cnt               0.060822\n",
       "wnd_spd                 0.055029\n",
       "hmdt                    0.039100\n",
       "tmprtr                  0.021722\n",
       "emd_nm                  0.005793"
      ]
     },
     "execution_count": 8,
     "metadata": {},
     "output_type": "execute_result"
    }
   ],
   "source": [
    "all_na = (all_data.isnull().sum() / len(all_data))*100\n",
    "all_na = all_na[all_na<50]\n",
    "all_na = all_na.drop(all_na[all_na==0].index).sort_values(ascending=False)[:30]\n",
    "missing_data = pd.DataFrame({'Missing Ratio' : all_na})\n",
    "missing_data.head(30)"
   ]
  },
  {
   "cell_type": "code",
   "execution_count": 9,
   "metadata": {
    "scrolled": false
   },
   "outputs": [
    {
     "data": {
      "text/plain": [
       "Text(0.5, 1.0, 'Percent missing data by feature')"
      ]
     },
     "execution_count": 9,
     "metadata": {},
     "output_type": "execute_result"
    },
    {
     "data": {
      "image/png": "[encoded data removed]",
      "text/plain": [
       "<Figure size 1080x864 with 1 Axes>"
      ]
     },
     "metadata": {
      "needs_background": "light"
     },
     "output_type": "display_data"
    }
   ],
   "source": [
    "fig, ax = plt.subplots(figsize=(15,12))\n",
    "plt.xticks(rotation='90')\n",
    "sns.barplot(x=all_na.index, y=all_na)\n",
    "plt.xlabel('Features', fontsize=15)\n",
    "plt.ylabel('Percent of missing values', fontsize=15)\n",
    "plt.title('Percent missing data by feature', fontsize=15)"
   ]
  },
  {
   "cell_type": "code",
   "execution_count": 10,
   "metadata": {
    "scrolled": true
   },
   "outputs": [
    {
     "name": "stderr",
     "output_type": "stream",
     "text": [
      "/opt/app-root/lib/python3.6/site-packages/pandas/core/ops/__init__.py:1115: FutureWarning: elementwise comparison failed; returning scalar instead, but in the future will perform elementwise comparison\n",
      "  result = method(y)\n"
     ]
    },
    {
     "data": {
      "text/html": [
       "<div>\n",
       "<style scoped>\n",
       "    .dataframe tbody tr th:only-of-type {\n",
       "        vertical-align: middle;\n",
       "    }\n",
       "\n",
       "    .dataframe tbody tr th {\n",
       "        vertical-align: top;\n",
       "    }\n",
       "\n",
       "    .dataframe thead th {\n",
       "        text-align: right;\n",
       "    }\n",
       "</style>\n",
       "<table border=\"1\" class=\"dataframe\">\n",
       "  <thead>\n",
       "    <tr style=\"text-align: right;\">\n",
       "      <th></th>\n",
       "      <th>dt_of_fr</th>\n",
       "      <th>bldng_us</th>\n",
       "      <th>bldng_archtctr</th>\n",
       "      <th>bldng_cnt</th>\n",
       "      <th>bldng_ar</th>\n",
       "      <th>ttl_ar</th>\n",
       "      <th>lnd_ar</th>\n",
       "      <th>dt_of_athrztn</th>\n",
       "      <th>ttl_grnd_flr</th>\n",
       "      <th>ttl_dwn_flr</th>\n",
       "      <th>...</th>\n",
       "      <th>ahsm_dstnc</th>\n",
       "      <th>no_tbc_zn_dstnc</th>\n",
       "      <th>bldng_cnt_in_50m</th>\n",
       "      <th>dt_of_fr_yr</th>\n",
       "      <th>dt_of_fr_mth</th>\n",
       "      <th>season</th>\n",
       "      <th>mean_grndflr_per_bldng</th>\n",
       "      <th>mean_dwnflr_per_bldng</th>\n",
       "      <th>sum_grnd_dwn_flr</th>\n",
       "      <th>legality</th>\n",
       "    </tr>\n",
       "  </thead>\n",
       "  <tbody>\n",
       "    <tr>\n",
       "      <td>0</td>\n",
       "      <td>2017-10-20 05:54</td>\n",
       "      <td>단독주택</td>\n",
       "      <td>블록구조</td>\n",
       "      <td>3</td>\n",
       "      <td>69.42</td>\n",
       "      <td>69.42</td>\n",
       "      <td>0.0</td>\n",
       "      <td>1977</td>\n",
       "      <td>1.0</td>\n",
       "      <td>0.0</td>\n",
       "      <td>...</td>\n",
       "      <td>11322</td>\n",
       "      <td>88</td>\n",
       "      <td>0</td>\n",
       "      <td>2017</td>\n",
       "      <td>10</td>\n",
       "      <td>가을</td>\n",
       "      <td>0.333333</td>\n",
       "      <td>0.0</td>\n",
       "      <td>1.0</td>\n",
       "      <td>legal</td>\n",
       "    </tr>\n",
       "    <tr>\n",
       "      <td>1</td>\n",
       "      <td>2018-09-30 08:26</td>\n",
       "      <td>NaN</td>\n",
       "      <td>NaN</td>\n",
       "      <td>3</td>\n",
       "      <td>46.29</td>\n",
       "      <td>46.29</td>\n",
       "      <td>0.0</td>\n",
       "      <td>0</td>\n",
       "      <td>1.0</td>\n",
       "      <td>0.0</td>\n",
       "      <td>...</td>\n",
       "      <td>3369</td>\n",
       "      <td>7727</td>\n",
       "      <td>0</td>\n",
       "      <td>2018</td>\n",
       "      <td>9</td>\n",
       "      <td>가을</td>\n",
       "      <td>0.333333</td>\n",
       "      <td>0.0</td>\n",
       "      <td>1.0</td>\n",
       "      <td>legal</td>\n",
       "    </tr>\n",
       "    <tr>\n",
       "      <td>2</td>\n",
       "      <td>2016-10-30 14:57</td>\n",
       "      <td>공동주택</td>\n",
       "      <td>철근콘크리트구조</td>\n",
       "      <td>1</td>\n",
       "      <td>583.80</td>\n",
       "      <td>2516.76</td>\n",
       "      <td>1446.0</td>\n",
       "      <td>20001104</td>\n",
       "      <td>5.0</td>\n",
       "      <td>0.0</td>\n",
       "      <td>...</td>\n",
       "      <td>12451</td>\n",
       "      <td>72</td>\n",
       "      <td>14</td>\n",
       "      <td>2016</td>\n",
       "      <td>10</td>\n",
       "      <td>가을</td>\n",
       "      <td>5.000000</td>\n",
       "      <td>0.0</td>\n",
       "      <td>5.0</td>\n",
       "      <td>illegal</td>\n",
       "    </tr>\n",
       "    <tr>\n",
       "      <td>3</td>\n",
       "      <td>2016-06-14 05:23</td>\n",
       "      <td>단독주택</td>\n",
       "      <td>일반목구조</td>\n",
       "      <td>2</td>\n",
       "      <td>48.92</td>\n",
       "      <td>48.92</td>\n",
       "      <td>0.0</td>\n",
       "      <td>1936</td>\n",
       "      <td>1.0</td>\n",
       "      <td>0.0</td>\n",
       "      <td>...</td>\n",
       "      <td>407</td>\n",
       "      <td>508</td>\n",
       "      <td>11</td>\n",
       "      <td>2016</td>\n",
       "      <td>6</td>\n",
       "      <td>여름</td>\n",
       "      <td>0.500000</td>\n",
       "      <td>0.0</td>\n",
       "      <td>1.0</td>\n",
       "      <td>legal</td>\n",
       "    </tr>\n",
       "    <tr>\n",
       "      <td>4</td>\n",
       "      <td>2018-04-22 05:38</td>\n",
       "      <td>NaN</td>\n",
       "      <td>NaN</td>\n",
       "      <td>2</td>\n",
       "      <td>0.00</td>\n",
       "      <td>0.00</td>\n",
       "      <td>0.0</td>\n",
       "      <td>0</td>\n",
       "      <td>NaN</td>\n",
       "      <td>NaN</td>\n",
       "      <td>...</td>\n",
       "      <td>12487</td>\n",
       "      <td>707</td>\n",
       "      <td>0</td>\n",
       "      <td>2018</td>\n",
       "      <td>4</td>\n",
       "      <td>봄</td>\n",
       "      <td>NaN</td>\n",
       "      <td>NaN</td>\n",
       "      <td>NaN</td>\n",
       "      <td>legal</td>\n",
       "    </tr>\n",
       "    <tr>\n",
       "      <td>...</td>\n",
       "      <td>...</td>\n",
       "      <td>...</td>\n",
       "      <td>...</td>\n",
       "      <td>...</td>\n",
       "      <td>...</td>\n",
       "      <td>...</td>\n",
       "      <td>...</td>\n",
       "      <td>...</td>\n",
       "      <td>...</td>\n",
       "      <td>...</td>\n",
       "      <td>...</td>\n",
       "      <td>...</td>\n",
       "      <td>...</td>\n",
       "      <td>...</td>\n",
       "      <td>...</td>\n",
       "      <td>...</td>\n",
       "      <td>...</td>\n",
       "      <td>...</td>\n",
       "      <td>...</td>\n",
       "      <td>...</td>\n",
       "      <td>...</td>\n",
       "    </tr>\n",
       "    <tr>\n",
       "      <td>2952</td>\n",
       "      <td>2018-05-31 19:17</td>\n",
       "      <td>단독주택</td>\n",
       "      <td>철근콘크리트구조</td>\n",
       "      <td>1</td>\n",
       "      <td>122.45</td>\n",
       "      <td>329.55</td>\n",
       "      <td>288.0</td>\n",
       "      <td>20010828</td>\n",
       "      <td>3.0</td>\n",
       "      <td>0.0</td>\n",
       "      <td>...</td>\n",
       "      <td>16240</td>\n",
       "      <td>183</td>\n",
       "      <td>5</td>\n",
       "      <td>2018</td>\n",
       "      <td>5</td>\n",
       "      <td>봄</td>\n",
       "      <td>3.000000</td>\n",
       "      <td>0.0</td>\n",
       "      <td>3.0</td>\n",
       "      <td>legal</td>\n",
       "    </tr>\n",
       "    <tr>\n",
       "      <td>2953</td>\n",
       "      <td>2014-10-17 18:20</td>\n",
       "      <td>NaN</td>\n",
       "      <td>NaN</td>\n",
       "      <td>4</td>\n",
       "      <td>52.89</td>\n",
       "      <td>52.89</td>\n",
       "      <td>0.0</td>\n",
       "      <td>0</td>\n",
       "      <td>1.0</td>\n",
       "      <td>0.0</td>\n",
       "      <td>...</td>\n",
       "      <td>3266</td>\n",
       "      <td>590</td>\n",
       "      <td>0</td>\n",
       "      <td>2014</td>\n",
       "      <td>10</td>\n",
       "      <td>가을</td>\n",
       "      <td>0.250000</td>\n",
       "      <td>0.0</td>\n",
       "      <td>1.0</td>\n",
       "      <td>legal</td>\n",
       "    </tr>\n",
       "    <tr>\n",
       "      <td>2954</td>\n",
       "      <td>2015-08-25 15:13</td>\n",
       "      <td>단독주택</td>\n",
       "      <td>철근콘크리트구조</td>\n",
       "      <td>1</td>\n",
       "      <td>166.05</td>\n",
       "      <td>466.82</td>\n",
       "      <td>277.3</td>\n",
       "      <td>20120810</td>\n",
       "      <td>3.0</td>\n",
       "      <td>0.0</td>\n",
       "      <td>...</td>\n",
       "      <td>16485</td>\n",
       "      <td>105</td>\n",
       "      <td>4</td>\n",
       "      <td>2015</td>\n",
       "      <td>8</td>\n",
       "      <td>여름</td>\n",
       "      <td>3.000000</td>\n",
       "      <td>0.0</td>\n",
       "      <td>3.0</td>\n",
       "      <td>legal</td>\n",
       "    </tr>\n",
       "    <tr>\n",
       "      <td>2955</td>\n",
       "      <td>2015-05-27 23:00</td>\n",
       "      <td>자동차관련시설</td>\n",
       "      <td>경량철골구조</td>\n",
       "      <td>1</td>\n",
       "      <td>250.00</td>\n",
       "      <td>240.00</td>\n",
       "      <td>827.8</td>\n",
       "      <td>20090810</td>\n",
       "      <td>1.0</td>\n",
       "      <td>0.0</td>\n",
       "      <td>...</td>\n",
       "      <td>20055</td>\n",
       "      <td>806</td>\n",
       "      <td>7</td>\n",
       "      <td>2015</td>\n",
       "      <td>5</td>\n",
       "      <td>봄</td>\n",
       "      <td>1.000000</td>\n",
       "      <td>0.0</td>\n",
       "      <td>1.0</td>\n",
       "      <td>legal</td>\n",
       "    </tr>\n",
       "    <tr>\n",
       "      <td>2956</td>\n",
       "      <td>2015-08-02 23:18</td>\n",
       "      <td>업무시설</td>\n",
       "      <td>철근콘크리트구조</td>\n",
       "      <td>2</td>\n",
       "      <td>2055.80</td>\n",
       "      <td>6169.88</td>\n",
       "      <td>3767.6</td>\n",
       "      <td>19980907</td>\n",
       "      <td>3.0</td>\n",
       "      <td>1.0</td>\n",
       "      <td>...</td>\n",
       "      <td>16884</td>\n",
       "      <td>218</td>\n",
       "      <td>7</td>\n",
       "      <td>2015</td>\n",
       "      <td>8</td>\n",
       "      <td>여름</td>\n",
       "      <td>1.500000</td>\n",
       "      <td>0.5</td>\n",
       "      <td>4.0</td>\n",
       "      <td>legal</td>\n",
       "    </tr>\n",
       "  </tbody>\n",
       "</table>\n",
       "<p>69054 rows × 43 columns</p>\n",
       "</div>"
      ],
      "text/plain": [
       "              dt_of_fr bldng_us bldng_archtctr  bldng_cnt  bldng_ar   ttl_ar  \\\n",
       "0     2017-10-20 05:54     단독주택           블록구조          3     69.42    69.42   \n",
       "1     2018-09-30 08:26      NaN            NaN          3     46.29    46.29   \n",
       "2     2016-10-30 14:57     공동주택       철근콘크리트구조          1    583.80  2516.76   \n",
       "3     2016-06-14 05:23     단독주택          일반목구조          2     48.92    48.92   \n",
       "4     2018-04-22 05:38      NaN            NaN          2      0.00     0.00   \n",
       "...                ...      ...            ...        ...       ...      ...   \n",
       "2952  2018-05-31 19:17     단독주택       철근콘크리트구조          1    122.45   329.55   \n",
       "2953  2014-10-17 18:20      NaN            NaN          4     52.89    52.89   \n",
       "2954  2015-08-25 15:13     단독주택       철근콘크리트구조          1    166.05   466.82   \n",
       "2955  2015-05-27 23:00  자동차관련시설         경량철골구조          1    250.00   240.00   \n",
       "2956  2015-08-02 23:18     업무시설       철근콘크리트구조          2   2055.80  6169.88   \n",
       "\n",
       "      lnd_ar  dt_of_athrztn  ttl_grnd_flr  ttl_dwn_flr  ... ahsm_dstnc  \\\n",
       "0        0.0           1977           1.0          0.0  ...      11322   \n",
       "1        0.0              0           1.0          0.0  ...       3369   \n",
       "2     1446.0       20001104           5.0          0.0  ...      12451   \n",
       "3        0.0           1936           1.0          0.0  ...        407   \n",
       "4        0.0              0           NaN          NaN  ...      12487   \n",
       "...      ...            ...           ...          ...  ...        ...   \n",
       "2952   288.0       20010828           3.0          0.0  ...      16240   \n",
       "2953     0.0              0           1.0          0.0  ...       3266   \n",
       "2954   277.3       20120810           3.0          0.0  ...      16485   \n",
       "2955   827.8       20090810           1.0          0.0  ...      20055   \n",
       "2956  3767.6       19980907           3.0          1.0  ...      16884   \n",
       "\n",
       "      no_tbc_zn_dstnc  bldng_cnt_in_50m  dt_of_fr_yr  dt_of_fr_mth  season  \\\n",
       "0                  88                 0         2017            10      가을   \n",
       "1                7727                 0         2018             9      가을   \n",
       "2                  72                14         2016            10      가을   \n",
       "3                 508                11         2016             6      여름   \n",
       "4                 707                 0         2018             4       봄   \n",
       "...               ...               ...          ...           ...     ...   \n",
       "2952              183                 5         2018             5       봄   \n",
       "2953              590                 0         2014            10      가을   \n",
       "2954              105                 4         2015             8      여름   \n",
       "2955              806                 7         2015             5       봄   \n",
       "2956              218                 7         2015             8      여름   \n",
       "\n",
       "     mean_grndflr_per_bldng mean_dwnflr_per_bldng sum_grnd_dwn_flr legality  \n",
       "0                  0.333333                   0.0              1.0    legal  \n",
       "1                  0.333333                   0.0              1.0    legal  \n",
       "2                  5.000000                   0.0              5.0  illegal  \n",
       "3                  0.500000                   0.0              1.0    legal  \n",
       "4                       NaN                   NaN              NaN    legal  \n",
       "...                     ...                   ...              ...      ...  \n",
       "2952               3.000000                   0.0              3.0    legal  \n",
       "2953               0.250000                   0.0              1.0    legal  \n",
       "2954               3.000000                   0.0              3.0    legal  \n",
       "2955               1.000000                   0.0              1.0    legal  \n",
       "2956               1.500000                   0.5              4.0    legal  \n",
       "\n",
       "[69054 rows x 43 columns]"
      ]
     },
     "execution_count": 10,
     "metadata": {},
     "output_type": "execute_result"
    }
   ],
   "source": [
    "func.dt_of_fr_pp(all_data)\n",
    "func.dt_of_athrztn_pp(all_data)\n",
    "func.season_pp(all_data)\n",
    "func.flr_pp(all_data)\n",
    "func.fr_wthr_fclt_pp(all_data)\n",
    "func.bldng_clssfctn_pp(all_data)"
   ]
  },
  {
   "cell_type": "code",
   "execution_count": 11,
   "metadata": {},
   "outputs": [],
   "source": [
    "train.fr_yn = train.fr_yn.map({'Y':1,'N':0})"
   ]
  },
  {
   "cell_type": "code",
   "execution_count": 12,
   "metadata": {
    "scrolled": false
   },
   "outputs": [
    {
     "data": {
      "text/html": [
       "<div>\n",
       "<style scoped>\n",
       "    .dataframe tbody tr th:only-of-type {\n",
       "        vertical-align: middle;\n",
       "    }\n",
       "\n",
       "    .dataframe tbody tr th {\n",
       "        vertical-align: top;\n",
       "    }\n",
       "\n",
       "    .dataframe thead th {\n",
       "        text-align: right;\n",
       "    }\n",
       "</style>\n",
       "<table border=\"1\" class=\"dataframe\">\n",
       "  <thead>\n",
       "    <tr style=\"text-align: right;\">\n",
       "      <th></th>\n",
       "      <th>bldng_us</th>\n",
       "      <th>fr_yn</th>\n",
       "    </tr>\n",
       "  </thead>\n",
       "  <tbody>\n",
       "    <tr>\n",
       "      <td>3</td>\n",
       "      <td>관광휴게시설</td>\n",
       "      <td>0.700000</td>\n",
       "    </tr>\n",
       "    <tr>\n",
       "      <td>24</td>\n",
       "      <td>의료시설</td>\n",
       "      <td>0.666667</td>\n",
       "    </tr>\n",
       "    <tr>\n",
       "      <td>26</td>\n",
       "      <td>장례식장</td>\n",
       "      <td>0.666667</td>\n",
       "    </tr>\n",
       "    <tr>\n",
       "      <td>33</td>\n",
       "      <td>판매시설</td>\n",
       "      <td>0.653846</td>\n",
       "    </tr>\n",
       "    <tr>\n",
       "      <td>1</td>\n",
       "      <td>공동주택</td>\n",
       "      <td>0.619554</td>\n",
       "    </tr>\n",
       "    <tr>\n",
       "      <td>15</td>\n",
       "      <td>분뇨.쓰레기처리시설</td>\n",
       "      <td>0.618182</td>\n",
       "    </tr>\n",
       "    <tr>\n",
       "      <td>16</td>\n",
       "      <td>수련시설</td>\n",
       "      <td>0.600000</td>\n",
       "    </tr>\n",
       "    <tr>\n",
       "      <td>25</td>\n",
       "      <td>자동차관련시설</td>\n",
       "      <td>0.563025</td>\n",
       "    </tr>\n",
       "    <tr>\n",
       "      <td>2</td>\n",
       "      <td>공장</td>\n",
       "      <td>0.553011</td>\n",
       "    </tr>\n",
       "    <tr>\n",
       "      <td>19</td>\n",
       "      <td>업무시설</td>\n",
       "      <td>0.541985</td>\n",
       "    </tr>\n",
       "    <tr>\n",
       "      <td>20</td>\n",
       "      <td>운동시설</td>\n",
       "      <td>0.523810</td>\n",
       "    </tr>\n",
       "    <tr>\n",
       "      <td>5</td>\n",
       "      <td>교육연구시설</td>\n",
       "      <td>0.508108</td>\n",
       "    </tr>\n",
       "    <tr>\n",
       "      <td>21</td>\n",
       "      <td>운수시설</td>\n",
       "      <td>0.500000</td>\n",
       "    </tr>\n",
       "    <tr>\n",
       "      <td>22</td>\n",
       "      <td>위락시설</td>\n",
       "      <td>0.457143</td>\n",
       "    </tr>\n",
       "    <tr>\n",
       "      <td>14</td>\n",
       "      <td>방송통신시설</td>\n",
       "      <td>0.454545</td>\n",
       "    </tr>\n",
       "    <tr>\n",
       "      <td>11</td>\n",
       "      <td>묘지관련시설</td>\n",
       "      <td>0.444444</td>\n",
       "    </tr>\n",
       "    <tr>\n",
       "      <td>6</td>\n",
       "      <td>교정및군사시설</td>\n",
       "      <td>0.428571</td>\n",
       "    </tr>\n",
       "    <tr>\n",
       "      <td>17</td>\n",
       "      <td>숙박시설</td>\n",
       "      <td>0.427481</td>\n",
       "    </tr>\n",
       "    <tr>\n",
       "      <td>12</td>\n",
       "      <td>문화및집회시설</td>\n",
       "      <td>0.421053</td>\n",
       "    </tr>\n",
       "    <tr>\n",
       "      <td>28</td>\n",
       "      <td>제2종근린생활시설</td>\n",
       "      <td>0.343501</td>\n",
       "    </tr>\n",
       "    <tr>\n",
       "      <td>4</td>\n",
       "      <td>교육연구및복지시설</td>\n",
       "      <td>0.333333</td>\n",
       "    </tr>\n",
       "    <tr>\n",
       "      <td>27</td>\n",
       "      <td>제1종근린생활시설</td>\n",
       "      <td>0.311064</td>\n",
       "    </tr>\n",
       "    <tr>\n",
       "      <td>23</td>\n",
       "      <td>위험물저장및처리시설</td>\n",
       "      <td>0.278261</td>\n",
       "    </tr>\n",
       "    <tr>\n",
       "      <td>29</td>\n",
       "      <td>종교시설</td>\n",
       "      <td>0.273292</td>\n",
       "    </tr>\n",
       "    <tr>\n",
       "      <td>7</td>\n",
       "      <td>근린생활시설</td>\n",
       "      <td>0.258065</td>\n",
       "    </tr>\n",
       "    <tr>\n",
       "      <td>10</td>\n",
       "      <td>동.식물 관련시설</td>\n",
       "      <td>0.250852</td>\n",
       "    </tr>\n",
       "    <tr>\n",
       "      <td>8</td>\n",
       "      <td>노유자시설</td>\n",
       "      <td>0.248780</td>\n",
       "    </tr>\n",
       "    <tr>\n",
       "      <td>30</td>\n",
       "      <td>창고시설</td>\n",
       "      <td>0.208857</td>\n",
       "    </tr>\n",
       "    <tr>\n",
       "      <td>13</td>\n",
       "      <td>발전시설</td>\n",
       "      <td>0.181818</td>\n",
       "    </tr>\n",
       "    <tr>\n",
       "      <td>9</td>\n",
       "      <td>단독주택</td>\n",
       "      <td>0.174130</td>\n",
       "    </tr>\n",
       "    <tr>\n",
       "      <td>18</td>\n",
       "      <td>시장</td>\n",
       "      <td>0.000000</td>\n",
       "    </tr>\n",
       "    <tr>\n",
       "      <td>31</td>\n",
       "      <td>파출소</td>\n",
       "      <td>0.000000</td>\n",
       "    </tr>\n",
       "    <tr>\n",
       "      <td>32</td>\n",
       "      <td>판매및영업시설</td>\n",
       "      <td>0.000000</td>\n",
       "    </tr>\n",
       "    <tr>\n",
       "      <td>0</td>\n",
       "      <td>공공용시설</td>\n",
       "      <td>0.000000</td>\n",
       "    </tr>\n",
       "  </tbody>\n",
       "</table>\n",
       "</div>"
      ],
      "text/plain": [
       "      bldng_us     fr_yn\n",
       "3       관광휴게시설  0.700000\n",
       "24        의료시설  0.666667\n",
       "26        장례식장  0.666667\n",
       "33        판매시설  0.653846\n",
       "1         공동주택  0.619554\n",
       "15  분뇨.쓰레기처리시설  0.618182\n",
       "16        수련시설  0.600000\n",
       "25     자동차관련시설  0.563025\n",
       "2           공장  0.553011\n",
       "19        업무시설  0.541985\n",
       "20        운동시설  0.523810\n",
       "5       교육연구시설  0.508108\n",
       "21        운수시설  0.500000\n",
       "22        위락시설  0.457143\n",
       "14      방송통신시설  0.454545\n",
       "11      묘지관련시설  0.444444\n",
       "6      교정및군사시설  0.428571\n",
       "17        숙박시설  0.427481\n",
       "12     문화및집회시설  0.421053\n",
       "28   제2종근린생활시설  0.343501\n",
       "4    교육연구및복지시설  0.333333\n",
       "27   제1종근린생활시설  0.311064\n",
       "23  위험물저장및처리시설  0.278261\n",
       "29        종교시설  0.273292\n",
       "7       근린생활시설  0.258065\n",
       "10   동.식물 관련시설  0.250852\n",
       "8        노유자시설  0.248780\n",
       "30        창고시설  0.208857\n",
       "13        발전시설  0.181818\n",
       "9         단독주택  0.174130\n",
       "18          시장  0.000000\n",
       "31         파출소  0.000000\n",
       "32     판매및영업시설  0.000000\n",
       "0        공공용시설  0.000000"
      ]
     },
     "execution_count": 12,
     "metadata": {},
     "output_type": "execute_result"
    }
   ],
   "source": [
    "train[['bldng_us', 'fr_yn']].groupby(['bldng_us'], as_index=False).mean().sort_values(by='fr_yn', ascending=False)"
   ]
  },
  {
   "cell_type": "code",
   "execution_count": 13,
   "metadata": {},
   "outputs": [],
   "source": [
    "func.bldng_us_pp(all_data)"
   ]
  },
  {
   "cell_type": "code",
   "execution_count": 14,
   "metadata": {
    "scrolled": true
   },
   "outputs": [
    {
     "data": {
      "text/html": [
       "<div>\n",
       "<style scoped>\n",
       "    .dataframe tbody tr th:only-of-type {\n",
       "        vertical-align: middle;\n",
       "    }\n",
       "\n",
       "    .dataframe tbody tr th {\n",
       "        vertical-align: top;\n",
       "    }\n",
       "\n",
       "    .dataframe thead th {\n",
       "        text-align: right;\n",
       "    }\n",
       "</style>\n",
       "<table border=\"1\" class=\"dataframe\">\n",
       "  <thead>\n",
       "    <tr style=\"text-align: right;\">\n",
       "      <th></th>\n",
       "      <th>bldng_archtctr</th>\n",
       "      <th>fr_yn</th>\n",
       "    </tr>\n",
       "  </thead>\n",
       "  <tbody>\n",
       "    <tr>\n",
       "      <td>13</td>\n",
       "      <td>철골철근콘크리트구조</td>\n",
       "      <td>0.651163</td>\n",
       "    </tr>\n",
       "    <tr>\n",
       "      <td>11</td>\n",
       "      <td>일반철골구조</td>\n",
       "      <td>0.408669</td>\n",
       "    </tr>\n",
       "    <tr>\n",
       "      <td>14</td>\n",
       "      <td>철골콘크리트구조</td>\n",
       "      <td>0.400000</td>\n",
       "    </tr>\n",
       "    <tr>\n",
       "      <td>15</td>\n",
       "      <td>철근콘크리트구조</td>\n",
       "      <td>0.367792</td>\n",
       "    </tr>\n",
       "    <tr>\n",
       "      <td>17</td>\n",
       "      <td>프리케스트콘크리트구조</td>\n",
       "      <td>0.357143</td>\n",
       "    </tr>\n",
       "    <tr>\n",
       "      <td>2</td>\n",
       "      <td>기타강구조</td>\n",
       "      <td>0.305556</td>\n",
       "    </tr>\n",
       "    <tr>\n",
       "      <td>1</td>\n",
       "      <td>경량철골구조</td>\n",
       "      <td>0.290112</td>\n",
       "    </tr>\n",
       "    <tr>\n",
       "      <td>16</td>\n",
       "      <td>통나무구조</td>\n",
       "      <td>0.272727</td>\n",
       "    </tr>\n",
       "    <tr>\n",
       "      <td>4</td>\n",
       "      <td>기타조적구조</td>\n",
       "      <td>0.261364</td>\n",
       "    </tr>\n",
       "    <tr>\n",
       "      <td>3</td>\n",
       "      <td>기타구조</td>\n",
       "      <td>0.259259</td>\n",
       "    </tr>\n",
       "    <tr>\n",
       "      <td>0</td>\n",
       "      <td>강파이프구조</td>\n",
       "      <td>0.253165</td>\n",
       "    </tr>\n",
       "    <tr>\n",
       "      <td>10</td>\n",
       "      <td>일반목구조</td>\n",
       "      <td>0.191039</td>\n",
       "    </tr>\n",
       "    <tr>\n",
       "      <td>8</td>\n",
       "      <td>블록구조</td>\n",
       "      <td>0.183998</td>\n",
       "    </tr>\n",
       "    <tr>\n",
       "      <td>9</td>\n",
       "      <td>석구조</td>\n",
       "      <td>0.181818</td>\n",
       "    </tr>\n",
       "    <tr>\n",
       "      <td>7</td>\n",
       "      <td>벽돌구조</td>\n",
       "      <td>0.150061</td>\n",
       "    </tr>\n",
       "    <tr>\n",
       "      <td>6</td>\n",
       "      <td>목구조</td>\n",
       "      <td>0.117647</td>\n",
       "    </tr>\n",
       "    <tr>\n",
       "      <td>12</td>\n",
       "      <td>조적구조</td>\n",
       "      <td>0.020101</td>\n",
       "    </tr>\n",
       "    <tr>\n",
       "      <td>5</td>\n",
       "      <td>기타콘크리트구조</td>\n",
       "      <td>0.000000</td>\n",
       "    </tr>\n",
       "  </tbody>\n",
       "</table>\n",
       "</div>"
      ],
      "text/plain": [
       "   bldng_archtctr     fr_yn\n",
       "13     철골철근콘크리트구조  0.651163\n",
       "11         일반철골구조  0.408669\n",
       "14       철골콘크리트구조  0.400000\n",
       "15       철근콘크리트구조  0.367792\n",
       "17    프리케스트콘크리트구조  0.357143\n",
       "2           기타강구조  0.305556\n",
       "1          경량철골구조  0.290112\n",
       "16          통나무구조  0.272727\n",
       "4          기타조적구조  0.261364\n",
       "3            기타구조  0.259259\n",
       "0          강파이프구조  0.253165\n",
       "10          일반목구조  0.191039\n",
       "8            블록구조  0.183998\n",
       "9             석구조  0.181818\n",
       "7            벽돌구조  0.150061\n",
       "6             목구조  0.117647\n",
       "12           조적구조  0.020101\n",
       "5        기타콘크리트구조  0.000000"
      ]
     },
     "execution_count": 14,
     "metadata": {},
     "output_type": "execute_result"
    }
   ],
   "source": [
    "train[['bldng_archtctr', 'fr_yn']].groupby(['bldng_archtctr'], as_index=False).mean().sort_values(by='fr_yn', ascending=False)"
   ]
  },
  {
   "cell_type": "code",
   "execution_count": 15,
   "metadata": {},
   "outputs": [],
   "source": [
    "func.bldng_archtctr_pp(all_data)"
   ]
  },
  {
   "cell_type": "code",
   "execution_count": 16,
   "metadata": {},
   "outputs": [
    {
     "data": {
      "image/png": "[encoded data removed]",
      "text/plain": [
       "<Figure size 1080x504 with 1 Axes>"
      ]
     },
     "metadata": {
      "needs_background": "light"
     },
     "output_type": "display_data"
    }
   ],
   "source": [
    "cummulate_fire_ratio = []\n",
    "for i in range(1, 500):\n",
    "    cummulate_fire_ratio.append(train[train['tbc_rtl_str_dstnc'] < i]['fr_yn'].sum() / len(train[train['tbc_rtl_str_dstnc'] < i]['fr_yn']))\n",
    "    \n",
    "plt.figure(figsize=(15, 7))\n",
    "plt.plot(cummulate_fire_ratio)\n",
    "plt.title('Fire rate change depending on range of distance from a nearest tobacco shop', y=1.02)\n",
    "plt.ylabel('Fire rate')\n",
    "plt.xlabel('Range of distance from a nearest tobacco shop')\n",
    "plt.show()"
   ]
  },
  {
   "cell_type": "code",
   "execution_count": 17,
   "metadata": {
    "scrolled": false
   },
   "outputs": [
    {
     "data": {
      "text/html": [
       "<div>\n",
       "<style scoped>\n",
       "    .dataframe tbody tr th:only-of-type {\n",
       "        vertical-align: middle;\n",
       "    }\n",
       "\n",
       "    .dataframe tbody tr th {\n",
       "        vertical-align: top;\n",
       "    }\n",
       "\n",
       "    .dataframe thead th {\n",
       "        text-align: right;\n",
       "    }\n",
       "</style>\n",
       "<table border=\"1\" class=\"dataframe\">\n",
       "  <thead>\n",
       "    <tr style=\"text-align: right;\">\n",
       "      <th></th>\n",
       "      <th>tbc_rtl_str_dstnc2</th>\n",
       "      <th>fr_yn</th>\n",
       "    </tr>\n",
       "  </thead>\n",
       "  <tbody>\n",
       "    <tr>\n",
       "      <td>0</td>\n",
       "      <td>(-0.001, 527.0]</td>\n",
       "      <td>0.158552</td>\n",
       "    </tr>\n",
       "    <tr>\n",
       "      <td>1</td>\n",
       "      <td>(527.0, 2184.0]</td>\n",
       "      <td>0.148922</td>\n",
       "    </tr>\n",
       "    <tr>\n",
       "      <td>2</td>\n",
       "      <td>(2184.0, 4958.0]</td>\n",
       "      <td>0.111734</td>\n",
       "    </tr>\n",
       "    <tr>\n",
       "      <td>3</td>\n",
       "      <td>(4958.0, 23228.0]</td>\n",
       "      <td>0.098148</td>\n",
       "    </tr>\n",
       "  </tbody>\n",
       "</table>\n",
       "</div>"
      ],
      "text/plain": [
       "  tbc_rtl_str_dstnc2     fr_yn\n",
       "0    (-0.001, 527.0]  0.158552\n",
       "1    (527.0, 2184.0]  0.148922\n",
       "2   (2184.0, 4958.0]  0.111734\n",
       "3  (4958.0, 23228.0]  0.098148"
      ]
     },
     "execution_count": 17,
     "metadata": {},
     "output_type": "execute_result"
    }
   ],
   "source": [
    "train['tbc_rtl_str_dstnc2'] = pd.qcut(train['tbc_rtl_str_dstnc'],4)\n",
    "train[['tbc_rtl_str_dstnc2', 'fr_yn']].groupby(['tbc_rtl_str_dstnc2'], as_index=False).mean().sort_values(by='tbc_rtl_str_dstnc2', ascending=True)"
   ]
  },
  {
   "cell_type": "code",
   "execution_count": 18,
   "metadata": {},
   "outputs": [],
   "source": [
    "func.tbc_pp(all_data)"
   ]
  },
  {
   "cell_type": "code",
   "execution_count": 19,
   "metadata": {},
   "outputs": [
    {
     "data": {
      "image/png": "[encoded data removed]",
      "text/plain": [
       "<Figure size 1080x504 with 1 Axes>"
      ]
     },
     "metadata": {
      "needs_background": "light"
     },
     "output_type": "display_data"
    }
   ],
   "source": [
    "cummulate_fire_ratio = []\n",
    "for i in range(1, 500):\n",
    "    cummulate_fire_ratio.append(train[train['no_tbc_zn_dstnc'] < i]['fr_yn'].sum() / len(train[train['no_tbc_zn_dstnc'] < i]['fr_yn']))\n",
    "    \n",
    "plt.figure(figsize=(15, 7))\n",
    "plt.plot(cummulate_fire_ratio)\n",
    "plt.title('Fire rate change depending on range of distance from a nearest non-smoking area', y=1.02)\n",
    "plt.ylabel('Fire rate')\n",
    "plt.xlabel('Range of distance from a nearest non-smoking area')\n",
    "plt.show()"
   ]
  },
  {
   "cell_type": "code",
   "execution_count": 20,
   "metadata": {
    "scrolled": true
   },
   "outputs": [
    {
     "data": {
      "text/html": [
       "<div>\n",
       "<style scoped>\n",
       "    .dataframe tbody tr th:only-of-type {\n",
       "        vertical-align: middle;\n",
       "    }\n",
       "\n",
       "    .dataframe tbody tr th {\n",
       "        vertical-align: top;\n",
       "    }\n",
       "\n",
       "    .dataframe thead th {\n",
       "        text-align: right;\n",
       "    }\n",
       "</style>\n",
       "<table border=\"1\" class=\"dataframe\">\n",
       "  <thead>\n",
       "    <tr style=\"text-align: right;\">\n",
       "      <th></th>\n",
       "      <th>no_tbc_zn_dstnc2</th>\n",
       "      <th>fr_yn</th>\n",
       "    </tr>\n",
       "  </thead>\n",
       "  <tbody>\n",
       "    <tr>\n",
       "      <td>0</td>\n",
       "      <td>(-0.001, 115.0]</td>\n",
       "      <td>0.206585</td>\n",
       "    </tr>\n",
       "    <tr>\n",
       "      <td>1</td>\n",
       "      <td>(115.0, 422.0]</td>\n",
       "      <td>0.100569</td>\n",
       "    </tr>\n",
       "    <tr>\n",
       "      <td>2</td>\n",
       "      <td>(422.0, 1486.5]</td>\n",
       "      <td>0.110269</td>\n",
       "    </tr>\n",
       "    <tr>\n",
       "      <td>3</td>\n",
       "      <td>(1486.5, 16164.0]</td>\n",
       "      <td>0.099595</td>\n",
       "    </tr>\n",
       "  </tbody>\n",
       "</table>\n",
       "</div>"
      ],
      "text/plain": [
       "    no_tbc_zn_dstnc2     fr_yn\n",
       "0    (-0.001, 115.0]  0.206585\n",
       "1     (115.0, 422.0]  0.100569\n",
       "2    (422.0, 1486.5]  0.110269\n",
       "3  (1486.5, 16164.0]  0.099595"
      ]
     },
     "execution_count": 20,
     "metadata": {},
     "output_type": "execute_result"
    }
   ],
   "source": [
    "train['no_tbc_zn_dstnc2'] = pd.qcut(train['no_tbc_zn_dstnc'],4)\n",
    "train[['no_tbc_zn_dstnc2', 'fr_yn']].groupby(['no_tbc_zn_dstnc2'], as_index=False).mean().sort_values(by='no_tbc_zn_dstnc2', ascending=True)"
   ]
  },
  {
   "cell_type": "code",
   "execution_count": 21,
   "metadata": {},
   "outputs": [
    {
     "name": "stderr",
     "output_type": "stream",
     "text": [
      "/opt/app-root/lib/python3.6/site-packages/seaborn/axisgrid.py:230: UserWarning: The `size` paramter has been renamed to `height`; please update your code.\n",
      "  warnings.warn(msg, UserWarning)\n"
     ]
    },
    {
     "data": {
      "text/plain": [
       "<seaborn.axisgrid.FacetGrid at 0x7efd06c84438>"
      ]
     },
     "execution_count": 21,
     "metadata": {},
     "output_type": "execute_result"
    },
    {
     "data": {
      "image/png": "[encoded data removed]",
      "text/plain": [
       "<Figure size 1206.08x374.4 with 2 Axes>"
      ]
     },
     "metadata": {
      "needs_background": "light"
     },
     "output_type": "display_data"
    }
   ],
   "source": [
    "grid = sns.FacetGrid(train, col='fr_yn', size=5.2, aspect=1.6)\n",
    "grid.map(plt.hist, 'cctv_dstnc', alpha=.5, bins=10)\n",
    "grid.add_legend()"
   ]
  },
  {
   "cell_type": "code",
   "execution_count": 22,
   "metadata": {},
   "outputs": [
    {
     "data": {
      "text/plain": [
       "<seaborn.axisgrid.FacetGrid at 0x7efd06c6fc88>"
      ]
     },
     "execution_count": 22,
     "metadata": {},
     "output_type": "execute_result"
    },
    {
     "data": {
      "image/png": "[encoded data removed]",
      "text/plain": [
       "<Figure size 1206.08x374.4 with 2 Axes>"
      ]
     },
     "metadata": {
      "needs_background": "light"
     },
     "output_type": "display_data"
    }
   ],
   "source": [
    "grid = sns.FacetGrid(train, col='fr_yn', size=5.2, aspect=1.6)\n",
    "grid.map(plt.hist, 'sft_emrgnc_bll_dstnc', alpha=.5, bins=10)\n",
    "grid.add_legend()"
   ]
  },
  {
   "cell_type": "code",
   "execution_count": 23,
   "metadata": {},
   "outputs": [
    {
     "data": {
      "text/plain": [
       "<seaborn.axisgrid.FacetGrid at 0x7efcecdd7cf8>"
      ]
     },
     "execution_count": 23,
     "metadata": {},
     "output_type": "execute_result"
    },
    {
     "data": {
      "image/png": "[encoded data removed]",
      "text/plain": [
       "<Figure size 1206.08x374.4 with 2 Axes>"
      ]
     },
     "metadata": {
      "needs_background": "light"
     },
     "output_type": "display_data"
    }
   ],
   "source": [
    "grid = sns.FacetGrid(train, col='fr_yn', size=5.2, aspect=1.6)\n",
    "grid.map(plt.hist, 'ahsm_dstnc', alpha=.5, bins=10)\n",
    "grid.add_legend()"
   ]
  },
  {
   "cell_type": "code",
   "execution_count": 24,
   "metadata": {
    "scrolled": false
   },
   "outputs": [
    {
     "data": {
      "text/plain": [
       "<seaborn.axisgrid.FacetGrid at 0x7efcec73b518>"
      ]
     },
     "execution_count": 24,
     "metadata": {},
     "output_type": "execute_result"
    },
    {
     "data": {
      "image/png": "[encoded data removed]",
      "text/plain": [
       "<Figure size 1206.08x374.4 with 2 Axes>"
      ]
     },
     "metadata": {
      "needs_background": "light"
     },
     "output_type": "display_data"
    }
   ],
   "source": [
    "grid = sns.FacetGrid(train, col='fr_yn', size=5.2, aspect=1.6)\n",
    "grid.map(plt.hist, 'fr_mn_cnt', alpha=.5, bins=10)\n",
    "grid.add_legend()"
   ]
  },
  {
   "cell_type": "code",
   "execution_count": 25,
   "metadata": {},
   "outputs": [],
   "source": [
    "all_data.loc[all_data['rgnl_ar_nm2'].isnull(), 'rgnl_ar_nm2'] = '지정되지않음'"
   ]
  },
  {
   "cell_type": "code",
   "execution_count": 26,
   "metadata": {},
   "outputs": [
    {
     "data": {
      "text/html": [
       "<div>\n",
       "<style scoped>\n",
       "    .dataframe tbody tr th:only-of-type {\n",
       "        vertical-align: middle;\n",
       "    }\n",
       "\n",
       "    .dataframe tbody tr th {\n",
       "        vertical-align: top;\n",
       "    }\n",
       "\n",
       "    .dataframe thead th {\n",
       "        text-align: right;\n",
       "    }\n",
       "</style>\n",
       "<table border=\"1\" class=\"dataframe\">\n",
       "  <thead>\n",
       "    <tr style=\"text-align: right;\">\n",
       "      <th></th>\n",
       "      <th>dt_of_fr</th>\n",
       "      <th>bldng_us</th>\n",
       "      <th>bldng_archtctr</th>\n",
       "      <th>bldng_cnt</th>\n",
       "      <th>bldng_ar</th>\n",
       "      <th>ttl_ar</th>\n",
       "      <th>lnd_ar</th>\n",
       "      <th>dt_of_athrztn</th>\n",
       "      <th>ttl_grnd_flr</th>\n",
       "      <th>ttl_dwn_flr</th>\n",
       "      <th>...</th>\n",
       "      <th>bldng_cnt_in_50m</th>\n",
       "      <th>dt_of_fr_yr</th>\n",
       "      <th>dt_of_fr_mth</th>\n",
       "      <th>season</th>\n",
       "      <th>mean_grndflr_per_bldng</th>\n",
       "      <th>mean_dwnflr_per_bldng</th>\n",
       "      <th>sum_grnd_dwn_flr</th>\n",
       "      <th>legality</th>\n",
       "      <th>bldng_us2</th>\n",
       "      <th>bldng_archtctr2</th>\n",
       "    </tr>\n",
       "  </thead>\n",
       "  <tbody>\n",
       "    <tr>\n",
       "      <td>0</td>\n",
       "      <td>2017-10-20 05:54</td>\n",
       "      <td>단독주택</td>\n",
       "      <td>블록구조</td>\n",
       "      <td>3</td>\n",
       "      <td>69.42</td>\n",
       "      <td>69.42</td>\n",
       "      <td>0.0</td>\n",
       "      <td>1977</td>\n",
       "      <td>1.0</td>\n",
       "      <td>0.0</td>\n",
       "      <td>...</td>\n",
       "      <td>0</td>\n",
       "      <td>2017</td>\n",
       "      <td>10</td>\n",
       "      <td>가을</td>\n",
       "      <td>0.333333</td>\n",
       "      <td>0.0</td>\n",
       "      <td>1.0</td>\n",
       "      <td>legal</td>\n",
       "      <td>상대적분류</td>\n",
       "      <td>석구조</td>\n",
       "    </tr>\n",
       "    <tr>\n",
       "      <td>1</td>\n",
       "      <td>2018-09-30 08:26</td>\n",
       "      <td>NaN</td>\n",
       "      <td>NaN</td>\n",
       "      <td>3</td>\n",
       "      <td>46.29</td>\n",
       "      <td>46.29</td>\n",
       "      <td>0.0</td>\n",
       "      <td>0</td>\n",
       "      <td>1.0</td>\n",
       "      <td>0.0</td>\n",
       "      <td>...</td>\n",
       "      <td>0</td>\n",
       "      <td>2018</td>\n",
       "      <td>9</td>\n",
       "      <td>가을</td>\n",
       "      <td>0.333333</td>\n",
       "      <td>0.0</td>\n",
       "      <td>1.0</td>\n",
       "      <td>legal</td>\n",
       "      <td>절대적분류</td>\n",
       "      <td>철골콘크리트구조</td>\n",
       "    </tr>\n",
       "    <tr>\n",
       "      <td>2</td>\n",
       "      <td>2016-10-30 14:57</td>\n",
       "      <td>공동주택</td>\n",
       "      <td>철근콘크리트구조</td>\n",
       "      <td>1</td>\n",
       "      <td>583.80</td>\n",
       "      <td>2516.76</td>\n",
       "      <td>1446.0</td>\n",
       "      <td>20001104</td>\n",
       "      <td>5.0</td>\n",
       "      <td>0.0</td>\n",
       "      <td>...</td>\n",
       "      <td>14</td>\n",
       "      <td>2016</td>\n",
       "      <td>10</td>\n",
       "      <td>가을</td>\n",
       "      <td>5.000000</td>\n",
       "      <td>0.0</td>\n",
       "      <td>5.0</td>\n",
       "      <td>illegal</td>\n",
       "      <td>상대적분류</td>\n",
       "      <td>철골콘크리트구조</td>\n",
       "    </tr>\n",
       "    <tr>\n",
       "      <td>3</td>\n",
       "      <td>2016-06-14 05:23</td>\n",
       "      <td>단독주택</td>\n",
       "      <td>일반목구조</td>\n",
       "      <td>2</td>\n",
       "      <td>48.92</td>\n",
       "      <td>48.92</td>\n",
       "      <td>0.0</td>\n",
       "      <td>1936</td>\n",
       "      <td>1.0</td>\n",
       "      <td>0.0</td>\n",
       "      <td>...</td>\n",
       "      <td>11</td>\n",
       "      <td>2016</td>\n",
       "      <td>6</td>\n",
       "      <td>여름</td>\n",
       "      <td>0.500000</td>\n",
       "      <td>0.0</td>\n",
       "      <td>1.0</td>\n",
       "      <td>legal</td>\n",
       "      <td>상대적분류</td>\n",
       "      <td>목구조</td>\n",
       "    </tr>\n",
       "    <tr>\n",
       "      <td>4</td>\n",
       "      <td>2018-04-22 05:38</td>\n",
       "      <td>NaN</td>\n",
       "      <td>NaN</td>\n",
       "      <td>2</td>\n",
       "      <td>0.00</td>\n",
       "      <td>0.00</td>\n",
       "      <td>0.0</td>\n",
       "      <td>0</td>\n",
       "      <td>NaN</td>\n",
       "      <td>NaN</td>\n",
       "      <td>...</td>\n",
       "      <td>0</td>\n",
       "      <td>2018</td>\n",
       "      <td>4</td>\n",
       "      <td>봄</td>\n",
       "      <td>NaN</td>\n",
       "      <td>NaN</td>\n",
       "      <td>NaN</td>\n",
       "      <td>legal</td>\n",
       "      <td>절대적분류</td>\n",
       "      <td>철골콘크리트구조</td>\n",
       "    </tr>\n",
       "    <tr>\n",
       "      <td>...</td>\n",
       "      <td>...</td>\n",
       "      <td>...</td>\n",
       "      <td>...</td>\n",
       "      <td>...</td>\n",
       "      <td>...</td>\n",
       "      <td>...</td>\n",
       "      <td>...</td>\n",
       "      <td>...</td>\n",
       "      <td>...</td>\n",
       "      <td>...</td>\n",
       "      <td>...</td>\n",
       "      <td>...</td>\n",
       "      <td>...</td>\n",
       "      <td>...</td>\n",
       "      <td>...</td>\n",
       "      <td>...</td>\n",
       "      <td>...</td>\n",
       "      <td>...</td>\n",
       "      <td>...</td>\n",
       "      <td>...</td>\n",
       "      <td>...</td>\n",
       "    </tr>\n",
       "    <tr>\n",
       "      <td>2952</td>\n",
       "      <td>2018-05-31 19:17</td>\n",
       "      <td>단독주택</td>\n",
       "      <td>철근콘크리트구조</td>\n",
       "      <td>1</td>\n",
       "      <td>122.45</td>\n",
       "      <td>329.55</td>\n",
       "      <td>288.0</td>\n",
       "      <td>20010828</td>\n",
       "      <td>3.0</td>\n",
       "      <td>0.0</td>\n",
       "      <td>...</td>\n",
       "      <td>5</td>\n",
       "      <td>2018</td>\n",
       "      <td>5</td>\n",
       "      <td>봄</td>\n",
       "      <td>3.000000</td>\n",
       "      <td>0.0</td>\n",
       "      <td>3.0</td>\n",
       "      <td>legal</td>\n",
       "      <td>상대적분류</td>\n",
       "      <td>철골콘크리트구조</td>\n",
       "    </tr>\n",
       "    <tr>\n",
       "      <td>2953</td>\n",
       "      <td>2014-10-17 18:20</td>\n",
       "      <td>NaN</td>\n",
       "      <td>NaN</td>\n",
       "      <td>4</td>\n",
       "      <td>52.89</td>\n",
       "      <td>52.89</td>\n",
       "      <td>0.0</td>\n",
       "      <td>0</td>\n",
       "      <td>1.0</td>\n",
       "      <td>0.0</td>\n",
       "      <td>...</td>\n",
       "      <td>0</td>\n",
       "      <td>2014</td>\n",
       "      <td>10</td>\n",
       "      <td>가을</td>\n",
       "      <td>0.250000</td>\n",
       "      <td>0.0</td>\n",
       "      <td>1.0</td>\n",
       "      <td>legal</td>\n",
       "      <td>절대적분류</td>\n",
       "      <td>철골콘크리트구조</td>\n",
       "    </tr>\n",
       "    <tr>\n",
       "      <td>2954</td>\n",
       "      <td>2015-08-25 15:13</td>\n",
       "      <td>단독주택</td>\n",
       "      <td>철근콘크리트구조</td>\n",
       "      <td>1</td>\n",
       "      <td>166.05</td>\n",
       "      <td>466.82</td>\n",
       "      <td>277.3</td>\n",
       "      <td>20120810</td>\n",
       "      <td>3.0</td>\n",
       "      <td>0.0</td>\n",
       "      <td>...</td>\n",
       "      <td>4</td>\n",
       "      <td>2015</td>\n",
       "      <td>8</td>\n",
       "      <td>여름</td>\n",
       "      <td>3.000000</td>\n",
       "      <td>0.0</td>\n",
       "      <td>3.0</td>\n",
       "      <td>legal</td>\n",
       "      <td>상대적분류</td>\n",
       "      <td>철골콘크리트구조</td>\n",
       "    </tr>\n",
       "    <tr>\n",
       "      <td>2955</td>\n",
       "      <td>2015-05-27 23:00</td>\n",
       "      <td>자동차관련시설</td>\n",
       "      <td>경량철골구조</td>\n",
       "      <td>1</td>\n",
       "      <td>250.00</td>\n",
       "      <td>240.00</td>\n",
       "      <td>827.8</td>\n",
       "      <td>20090810</td>\n",
       "      <td>1.0</td>\n",
       "      <td>0.0</td>\n",
       "      <td>...</td>\n",
       "      <td>7</td>\n",
       "      <td>2015</td>\n",
       "      <td>5</td>\n",
       "      <td>봄</td>\n",
       "      <td>1.000000</td>\n",
       "      <td>0.0</td>\n",
       "      <td>1.0</td>\n",
       "      <td>legal</td>\n",
       "      <td>절대적분류</td>\n",
       "      <td>철골콘크리트구조</td>\n",
       "    </tr>\n",
       "    <tr>\n",
       "      <td>2956</td>\n",
       "      <td>2015-08-02 23:18</td>\n",
       "      <td>업무시설</td>\n",
       "      <td>철근콘크리트구조</td>\n",
       "      <td>2</td>\n",
       "      <td>2055.80</td>\n",
       "      <td>6169.88</td>\n",
       "      <td>3767.6</td>\n",
       "      <td>19980907</td>\n",
       "      <td>3.0</td>\n",
       "      <td>1.0</td>\n",
       "      <td>...</td>\n",
       "      <td>7</td>\n",
       "      <td>2015</td>\n",
       "      <td>8</td>\n",
       "      <td>여름</td>\n",
       "      <td>1.500000</td>\n",
       "      <td>0.5</td>\n",
       "      <td>4.0</td>\n",
       "      <td>legal</td>\n",
       "      <td>절대적분류</td>\n",
       "      <td>철골콘크리트구조</td>\n",
       "    </tr>\n",
       "  </tbody>\n",
       "</table>\n",
       "<p>69054 rows × 45 columns</p>\n",
       "</div>"
      ],
      "text/plain": [
       "              dt_of_fr bldng_us bldng_archtctr  bldng_cnt  bldng_ar   ttl_ar  \\\n",
       "0     2017-10-20 05:54     단독주택           블록구조          3     69.42    69.42   \n",
       "1     2018-09-30 08:26      NaN            NaN          3     46.29    46.29   \n",
       "2     2016-10-30 14:57     공동주택       철근콘크리트구조          1    583.80  2516.76   \n",
       "3     2016-06-14 05:23     단독주택          일반목구조          2     48.92    48.92   \n",
       "4     2018-04-22 05:38      NaN            NaN          2      0.00     0.00   \n",
       "...                ...      ...            ...        ...       ...      ...   \n",
       "2952  2018-05-31 19:17     단독주택       철근콘크리트구조          1    122.45   329.55   \n",
       "2953  2014-10-17 18:20      NaN            NaN          4     52.89    52.89   \n",
       "2954  2015-08-25 15:13     단독주택       철근콘크리트구조          1    166.05   466.82   \n",
       "2955  2015-05-27 23:00  자동차관련시설         경량철골구조          1    250.00   240.00   \n",
       "2956  2015-08-02 23:18     업무시설       철근콘크리트구조          2   2055.80  6169.88   \n",
       "\n",
       "      lnd_ar  dt_of_athrztn  ttl_grnd_flr  ttl_dwn_flr  ... bldng_cnt_in_50m  \\\n",
       "0        0.0           1977           1.0          0.0  ...                0   \n",
       "1        0.0              0           1.0          0.0  ...                0   \n",
       "2     1446.0       20001104           5.0          0.0  ...               14   \n",
       "3        0.0           1936           1.0          0.0  ...               11   \n",
       "4        0.0              0           NaN          NaN  ...                0   \n",
       "...      ...            ...           ...          ...  ...              ...   \n",
       "2952   288.0       20010828           3.0          0.0  ...                5   \n",
       "2953     0.0              0           1.0          0.0  ...                0   \n",
       "2954   277.3       20120810           3.0          0.0  ...                4   \n",
       "2955   827.8       20090810           1.0          0.0  ...                7   \n",
       "2956  3767.6       19980907           3.0          1.0  ...                7   \n",
       "\n",
       "      dt_of_fr_yr  dt_of_fr_mth  season  mean_grndflr_per_bldng  \\\n",
       "0            2017            10      가을                0.333333   \n",
       "1            2018             9      가을                0.333333   \n",
       "2            2016            10      가을                5.000000   \n",
       "3            2016             6      여름                0.500000   \n",
       "4            2018             4       봄                     NaN   \n",
       "...           ...           ...     ...                     ...   \n",
       "2952         2018             5       봄                3.000000   \n",
       "2953         2014            10      가을                0.250000   \n",
       "2954         2015             8      여름                3.000000   \n",
       "2955         2015             5       봄                1.000000   \n",
       "2956         2015             8      여름                1.500000   \n",
       "\n",
       "      mean_dwnflr_per_bldng sum_grnd_dwn_flr legality bldng_us2  \\\n",
       "0                       0.0              1.0    legal     상대적분류   \n",
       "1                       0.0              1.0    legal     절대적분류   \n",
       "2                       0.0              5.0  illegal     상대적분류   \n",
       "3                       0.0              1.0    legal     상대적분류   \n",
       "4                       NaN              NaN    legal     절대적분류   \n",
       "...                     ...              ...      ...       ...   \n",
       "2952                    0.0              3.0    legal     상대적분류   \n",
       "2953                    0.0              1.0    legal     절대적분류   \n",
       "2954                    0.0              3.0    legal     상대적분류   \n",
       "2955                    0.0              1.0    legal     절대적분류   \n",
       "2956                    0.5              4.0    legal     절대적분류   \n",
       "\n",
       "     bldng_archtctr2  \n",
       "0                석구조  \n",
       "1           철골콘크리트구조  \n",
       "2           철골콘크리트구조  \n",
       "3                목구조  \n",
       "4           철골콘크리트구조  \n",
       "...              ...  \n",
       "2952        철골콘크리트구조  \n",
       "2953        철골콘크리트구조  \n",
       "2954        철골콘크리트구조  \n",
       "2955        철골콘크리트구조  \n",
       "2956        철골콘크리트구조  \n",
       "\n",
       "[69054 rows x 45 columns]"
      ]
     },
     "execution_count": 26,
     "metadata": {},
     "output_type": "execute_result"
    }
   ],
   "source": [
    "func.rgnl_ar_nm_modi(all_data)"
   ]
  },
  {
   "cell_type": "code",
   "execution_count": 27,
   "metadata": {},
   "outputs": [],
   "source": [
    "all_data['rgnl_ar_nm'] = all_data['rgnl_ar_nm'].astype('category')  \n",
    "# categorycal 타입으로 변경함"
   ]
  },
  {
   "cell_type": "code",
   "execution_count": 28,
   "metadata": {},
   "outputs": [],
   "source": [
    "func.lnd_us_sttn_nm_modi1(all_data)"
   ]
  },
  {
   "cell_type": "code",
   "execution_count": 29,
   "metadata": {},
   "outputs": [
    {
     "data": {
      "text/plain": [
       "array(['주거용', '임야', '상업.업무용', '공업용', '답', '주.상복합용', '전', '공공용지', nan,\n",
       "       '특수토지', '기타', '경마장'], dtype=object)"
      ]
     },
     "execution_count": 29,
     "metadata": {},
     "output_type": "execute_result"
    }
   ],
   "source": [
    "all_data['lnd_us_sttn_nm'].unique()\n"
   ]
  },
  {
   "cell_type": "code",
   "execution_count": 30,
   "metadata": {
    "scrolled": true
   },
   "outputs": [
    {
     "data": {
      "text/html": [
       "<div>\n",
       "<style scoped>\n",
       "    .dataframe tbody tr th:only-of-type {\n",
       "        vertical-align: middle;\n",
       "    }\n",
       "\n",
       "    .dataframe tbody tr th {\n",
       "        vertical-align: top;\n",
       "    }\n",
       "\n",
       "    .dataframe thead th {\n",
       "        text-align: right;\n",
       "    }\n",
       "</style>\n",
       "<table border=\"1\" class=\"dataframe\">\n",
       "  <thead>\n",
       "    <tr style=\"text-align: right;\">\n",
       "      <th></th>\n",
       "      <th>dt_of_fr</th>\n",
       "      <th>bldng_us</th>\n",
       "      <th>bldng_archtctr</th>\n",
       "      <th>bldng_cnt</th>\n",
       "      <th>bldng_ar</th>\n",
       "      <th>ttl_ar</th>\n",
       "      <th>lnd_ar</th>\n",
       "      <th>dt_of_athrztn</th>\n",
       "      <th>ttl_grnd_flr</th>\n",
       "      <th>ttl_dwn_flr</th>\n",
       "      <th>...</th>\n",
       "      <th>bldng_cnt_in_50m</th>\n",
       "      <th>dt_of_fr_yr</th>\n",
       "      <th>dt_of_fr_mth</th>\n",
       "      <th>season</th>\n",
       "      <th>mean_grndflr_per_bldng</th>\n",
       "      <th>mean_dwnflr_per_bldng</th>\n",
       "      <th>sum_grnd_dwn_flr</th>\n",
       "      <th>legality</th>\n",
       "      <th>bldng_us2</th>\n",
       "      <th>bldng_archtctr2</th>\n",
       "    </tr>\n",
       "  </thead>\n",
       "  <tbody>\n",
       "    <tr>\n",
       "      <td>0</td>\n",
       "      <td>2017-10-20 05:54</td>\n",
       "      <td>단독주택</td>\n",
       "      <td>블록구조</td>\n",
       "      <td>3</td>\n",
       "      <td>69.42</td>\n",
       "      <td>69.42</td>\n",
       "      <td>0.0</td>\n",
       "      <td>1977</td>\n",
       "      <td>1.0</td>\n",
       "      <td>0.0</td>\n",
       "      <td>...</td>\n",
       "      <td>0</td>\n",
       "      <td>2017</td>\n",
       "      <td>10</td>\n",
       "      <td>가을</td>\n",
       "      <td>0.333333</td>\n",
       "      <td>0.0</td>\n",
       "      <td>1.0</td>\n",
       "      <td>legal</td>\n",
       "      <td>상대적분류</td>\n",
       "      <td>석구조</td>\n",
       "    </tr>\n",
       "    <tr>\n",
       "      <td>1</td>\n",
       "      <td>2018-09-30 08:26</td>\n",
       "      <td>NaN</td>\n",
       "      <td>NaN</td>\n",
       "      <td>3</td>\n",
       "      <td>46.29</td>\n",
       "      <td>46.29</td>\n",
       "      <td>0.0</td>\n",
       "      <td>0</td>\n",
       "      <td>1.0</td>\n",
       "      <td>0.0</td>\n",
       "      <td>...</td>\n",
       "      <td>0</td>\n",
       "      <td>2018</td>\n",
       "      <td>9</td>\n",
       "      <td>가을</td>\n",
       "      <td>0.333333</td>\n",
       "      <td>0.0</td>\n",
       "      <td>1.0</td>\n",
       "      <td>legal</td>\n",
       "      <td>절대적분류</td>\n",
       "      <td>철골콘크리트구조</td>\n",
       "    </tr>\n",
       "    <tr>\n",
       "      <td>2</td>\n",
       "      <td>2016-10-30 14:57</td>\n",
       "      <td>공동주택</td>\n",
       "      <td>철근콘크리트구조</td>\n",
       "      <td>1</td>\n",
       "      <td>583.80</td>\n",
       "      <td>2516.76</td>\n",
       "      <td>1446.0</td>\n",
       "      <td>20001104</td>\n",
       "      <td>5.0</td>\n",
       "      <td>0.0</td>\n",
       "      <td>...</td>\n",
       "      <td>14</td>\n",
       "      <td>2016</td>\n",
       "      <td>10</td>\n",
       "      <td>가을</td>\n",
       "      <td>5.000000</td>\n",
       "      <td>0.0</td>\n",
       "      <td>5.0</td>\n",
       "      <td>illegal</td>\n",
       "      <td>상대적분류</td>\n",
       "      <td>철골콘크리트구조</td>\n",
       "    </tr>\n",
       "    <tr>\n",
       "      <td>3</td>\n",
       "      <td>2016-06-14 05:23</td>\n",
       "      <td>단독주택</td>\n",
       "      <td>일반목구조</td>\n",
       "      <td>2</td>\n",
       "      <td>48.92</td>\n",
       "      <td>48.92</td>\n",
       "      <td>0.0</td>\n",
       "      <td>1936</td>\n",
       "      <td>1.0</td>\n",
       "      <td>0.0</td>\n",
       "      <td>...</td>\n",
       "      <td>11</td>\n",
       "      <td>2016</td>\n",
       "      <td>6</td>\n",
       "      <td>여름</td>\n",
       "      <td>0.500000</td>\n",
       "      <td>0.0</td>\n",
       "      <td>1.0</td>\n",
       "      <td>legal</td>\n",
       "      <td>상대적분류</td>\n",
       "      <td>목구조</td>\n",
       "    </tr>\n",
       "    <tr>\n",
       "      <td>4</td>\n",
       "      <td>2018-04-22 05:38</td>\n",
       "      <td>NaN</td>\n",
       "      <td>NaN</td>\n",
       "      <td>2</td>\n",
       "      <td>0.00</td>\n",
       "      <td>0.00</td>\n",
       "      <td>0.0</td>\n",
       "      <td>0</td>\n",
       "      <td>NaN</td>\n",
       "      <td>NaN</td>\n",
       "      <td>...</td>\n",
       "      <td>0</td>\n",
       "      <td>2018</td>\n",
       "      <td>4</td>\n",
       "      <td>봄</td>\n",
       "      <td>NaN</td>\n",
       "      <td>NaN</td>\n",
       "      <td>NaN</td>\n",
       "      <td>legal</td>\n",
       "      <td>절대적분류</td>\n",
       "      <td>철골콘크리트구조</td>\n",
       "    </tr>\n",
       "    <tr>\n",
       "      <td>...</td>\n",
       "      <td>...</td>\n",
       "      <td>...</td>\n",
       "      <td>...</td>\n",
       "      <td>...</td>\n",
       "      <td>...</td>\n",
       "      <td>...</td>\n",
       "      <td>...</td>\n",
       "      <td>...</td>\n",
       "      <td>...</td>\n",
       "      <td>...</td>\n",
       "      <td>...</td>\n",
       "      <td>...</td>\n",
       "      <td>...</td>\n",
       "      <td>...</td>\n",
       "      <td>...</td>\n",
       "      <td>...</td>\n",
       "      <td>...</td>\n",
       "      <td>...</td>\n",
       "      <td>...</td>\n",
       "      <td>...</td>\n",
       "      <td>...</td>\n",
       "    </tr>\n",
       "    <tr>\n",
       "      <td>2952</td>\n",
       "      <td>2018-05-31 19:17</td>\n",
       "      <td>단독주택</td>\n",
       "      <td>철근콘크리트구조</td>\n",
       "      <td>1</td>\n",
       "      <td>122.45</td>\n",
       "      <td>329.55</td>\n",
       "      <td>288.0</td>\n",
       "      <td>20010828</td>\n",
       "      <td>3.0</td>\n",
       "      <td>0.0</td>\n",
       "      <td>...</td>\n",
       "      <td>5</td>\n",
       "      <td>2018</td>\n",
       "      <td>5</td>\n",
       "      <td>봄</td>\n",
       "      <td>3.000000</td>\n",
       "      <td>0.0</td>\n",
       "      <td>3.0</td>\n",
       "      <td>legal</td>\n",
       "      <td>상대적분류</td>\n",
       "      <td>철골콘크리트구조</td>\n",
       "    </tr>\n",
       "    <tr>\n",
       "      <td>2953</td>\n",
       "      <td>2014-10-17 18:20</td>\n",
       "      <td>NaN</td>\n",
       "      <td>NaN</td>\n",
       "      <td>4</td>\n",
       "      <td>52.89</td>\n",
       "      <td>52.89</td>\n",
       "      <td>0.0</td>\n",
       "      <td>0</td>\n",
       "      <td>1.0</td>\n",
       "      <td>0.0</td>\n",
       "      <td>...</td>\n",
       "      <td>0</td>\n",
       "      <td>2014</td>\n",
       "      <td>10</td>\n",
       "      <td>가을</td>\n",
       "      <td>0.250000</td>\n",
       "      <td>0.0</td>\n",
       "      <td>1.0</td>\n",
       "      <td>legal</td>\n",
       "      <td>절대적분류</td>\n",
       "      <td>철골콘크리트구조</td>\n",
       "    </tr>\n",
       "    <tr>\n",
       "      <td>2954</td>\n",
       "      <td>2015-08-25 15:13</td>\n",
       "      <td>단독주택</td>\n",
       "      <td>철근콘크리트구조</td>\n",
       "      <td>1</td>\n",
       "      <td>166.05</td>\n",
       "      <td>466.82</td>\n",
       "      <td>277.3</td>\n",
       "      <td>20120810</td>\n",
       "      <td>3.0</td>\n",
       "      <td>0.0</td>\n",
       "      <td>...</td>\n",
       "      <td>4</td>\n",
       "      <td>2015</td>\n",
       "      <td>8</td>\n",
       "      <td>여름</td>\n",
       "      <td>3.000000</td>\n",
       "      <td>0.0</td>\n",
       "      <td>3.0</td>\n",
       "      <td>legal</td>\n",
       "      <td>상대적분류</td>\n",
       "      <td>철골콘크리트구조</td>\n",
       "    </tr>\n",
       "    <tr>\n",
       "      <td>2955</td>\n",
       "      <td>2015-05-27 23:00</td>\n",
       "      <td>자동차관련시설</td>\n",
       "      <td>경량철골구조</td>\n",
       "      <td>1</td>\n",
       "      <td>250.00</td>\n",
       "      <td>240.00</td>\n",
       "      <td>827.8</td>\n",
       "      <td>20090810</td>\n",
       "      <td>1.0</td>\n",
       "      <td>0.0</td>\n",
       "      <td>...</td>\n",
       "      <td>7</td>\n",
       "      <td>2015</td>\n",
       "      <td>5</td>\n",
       "      <td>봄</td>\n",
       "      <td>1.000000</td>\n",
       "      <td>0.0</td>\n",
       "      <td>1.0</td>\n",
       "      <td>legal</td>\n",
       "      <td>절대적분류</td>\n",
       "      <td>철골콘크리트구조</td>\n",
       "    </tr>\n",
       "    <tr>\n",
       "      <td>2956</td>\n",
       "      <td>2015-08-02 23:18</td>\n",
       "      <td>업무시설</td>\n",
       "      <td>철근콘크리트구조</td>\n",
       "      <td>2</td>\n",
       "      <td>2055.80</td>\n",
       "      <td>6169.88</td>\n",
       "      <td>3767.6</td>\n",
       "      <td>19980907</td>\n",
       "      <td>3.0</td>\n",
       "      <td>1.0</td>\n",
       "      <td>...</td>\n",
       "      <td>7</td>\n",
       "      <td>2015</td>\n",
       "      <td>8</td>\n",
       "      <td>여름</td>\n",
       "      <td>1.500000</td>\n",
       "      <td>0.5</td>\n",
       "      <td>4.0</td>\n",
       "      <td>legal</td>\n",
       "      <td>절대적분류</td>\n",
       "      <td>철골콘크리트구조</td>\n",
       "    </tr>\n",
       "  </tbody>\n",
       "</table>\n",
       "<p>69054 rows × 45 columns</p>\n",
       "</div>"
      ],
      "text/plain": [
       "              dt_of_fr bldng_us bldng_archtctr  bldng_cnt  bldng_ar   ttl_ar  \\\n",
       "0     2017-10-20 05:54     단독주택           블록구조          3     69.42    69.42   \n",
       "1     2018-09-30 08:26      NaN            NaN          3     46.29    46.29   \n",
       "2     2016-10-30 14:57     공동주택       철근콘크리트구조          1    583.80  2516.76   \n",
       "3     2016-06-14 05:23     단독주택          일반목구조          2     48.92    48.92   \n",
       "4     2018-04-22 05:38      NaN            NaN          2      0.00     0.00   \n",
       "...                ...      ...            ...        ...       ...      ...   \n",
       "2952  2018-05-31 19:17     단독주택       철근콘크리트구조          1    122.45   329.55   \n",
       "2953  2014-10-17 18:20      NaN            NaN          4     52.89    52.89   \n",
       "2954  2015-08-25 15:13     단독주택       철근콘크리트구조          1    166.05   466.82   \n",
       "2955  2015-05-27 23:00  자동차관련시설         경량철골구조          1    250.00   240.00   \n",
       "2956  2015-08-02 23:18     업무시설       철근콘크리트구조          2   2055.80  6169.88   \n",
       "\n",
       "      lnd_ar  dt_of_athrztn  ttl_grnd_flr  ttl_dwn_flr  ... bldng_cnt_in_50m  \\\n",
       "0        0.0           1977           1.0          0.0  ...                0   \n",
       "1        0.0              0           1.0          0.0  ...                0   \n",
       "2     1446.0       20001104           5.0          0.0  ...               14   \n",
       "3        0.0           1936           1.0          0.0  ...               11   \n",
       "4        0.0              0           NaN          NaN  ...                0   \n",
       "...      ...            ...           ...          ...  ...              ...   \n",
       "2952   288.0       20010828           3.0          0.0  ...                5   \n",
       "2953     0.0              0           1.0          0.0  ...                0   \n",
       "2954   277.3       20120810           3.0          0.0  ...                4   \n",
       "2955   827.8       20090810           1.0          0.0  ...                7   \n",
       "2956  3767.6       19980907           3.0          1.0  ...                7   \n",
       "\n",
       "      dt_of_fr_yr  dt_of_fr_mth  season  mean_grndflr_per_bldng  \\\n",
       "0            2017            10      가을                0.333333   \n",
       "1            2018             9      가을                0.333333   \n",
       "2            2016            10      가을                5.000000   \n",
       "3            2016             6      여름                0.500000   \n",
       "4            2018             4       봄                     NaN   \n",
       "...           ...           ...     ...                     ...   \n",
       "2952         2018             5       봄                3.000000   \n",
       "2953         2014            10      가을                0.250000   \n",
       "2954         2015             8      여름                3.000000   \n",
       "2955         2015             5       봄                1.000000   \n",
       "2956         2015             8      여름                1.500000   \n",
       "\n",
       "      mean_dwnflr_per_bldng sum_grnd_dwn_flr legality bldng_us2  \\\n",
       "0                       0.0              1.0    legal     상대적분류   \n",
       "1                       0.0              1.0    legal     절대적분류   \n",
       "2                       0.0              5.0  illegal     상대적분류   \n",
       "3                       0.0              1.0    legal     상대적분류   \n",
       "4                       NaN              NaN    legal     절대적분류   \n",
       "...                     ...              ...      ...       ...   \n",
       "2952                    0.0              3.0    legal     상대적분류   \n",
       "2953                    0.0              1.0    legal     절대적분류   \n",
       "2954                    0.0              3.0    legal     상대적분류   \n",
       "2955                    0.0              1.0    legal     절대적분류   \n",
       "2956                    0.5              4.0    legal     절대적분류   \n",
       "\n",
       "     bldng_archtctr2  \n",
       "0                석구조  \n",
       "1           철골콘크리트구조  \n",
       "2           철골콘크리트구조  \n",
       "3                목구조  \n",
       "4           철골콘크리트구조  \n",
       "...              ...  \n",
       "2952        철골콘크리트구조  \n",
       "2953        철골콘크리트구조  \n",
       "2954        철골콘크리트구조  \n",
       "2955        철골콘크리트구조  \n",
       "2956        철골콘크리트구조  \n",
       "\n",
       "[69054 rows x 45 columns]"
      ]
     },
     "execution_count": 30,
     "metadata": {},
     "output_type": "execute_result"
    }
   ],
   "source": [
    "func.lnd_us_sttn_nm_modi2(all_data)"
   ]
  },
  {
   "cell_type": "code",
   "execution_count": 31,
   "metadata": {},
   "outputs": [],
   "source": [
    "func.emd_nm_modi(all_data)"
   ]
  },
  {
   "cell_type": "code",
   "execution_count": 32,
   "metadata": {
    "scrolled": true
   },
   "outputs": [
    {
     "data": {
      "text/html": [
       "<div>\n",
       "<style scoped>\n",
       "    .dataframe tbody tr th:only-of-type {\n",
       "        vertical-align: middle;\n",
       "    }\n",
       "\n",
       "    .dataframe tbody tr th {\n",
       "        vertical-align: top;\n",
       "    }\n",
       "\n",
       "    .dataframe thead th {\n",
       "        text-align: right;\n",
       "    }\n",
       "</style>\n",
       "<table border=\"1\" class=\"dataframe\">\n",
       "  <thead>\n",
       "    <tr style=\"text-align: right;\">\n",
       "      <th></th>\n",
       "      <th>emd_nm</th>\n",
       "      <th>emd_nm_big</th>\n",
       "      <th>emd_nm_small</th>\n",
       "    </tr>\n",
       "  </thead>\n",
       "  <tbody>\n",
       "    <tr>\n",
       "      <td>0</td>\n",
       "      <td>창녕군 창녕읍</td>\n",
       "      <td>창녕군</td>\n",
       "      <td>창녕읍</td>\n",
       "    </tr>\n",
       "    <tr>\n",
       "      <td>1</td>\n",
       "      <td>의령군 가례면</td>\n",
       "      <td>의령군</td>\n",
       "      <td>가례면</td>\n",
       "    </tr>\n",
       "    <tr>\n",
       "      <td>2</td>\n",
       "      <td>창녕군 창녕읍</td>\n",
       "      <td>창녕군</td>\n",
       "      <td>창녕읍</td>\n",
       "    </tr>\n",
       "    <tr>\n",
       "      <td>3</td>\n",
       "      <td>창원시의창구 대산면</td>\n",
       "      <td>창원시의창구</td>\n",
       "      <td>대산면</td>\n",
       "    </tr>\n",
       "    <tr>\n",
       "      <td>4</td>\n",
       "      <td>창녕군 창녕읍</td>\n",
       "      <td>창녕군</td>\n",
       "      <td>창녕읍</td>\n",
       "    </tr>\n",
       "    <tr>\n",
       "      <td>...</td>\n",
       "      <td>...</td>\n",
       "      <td>...</td>\n",
       "      <td>...</td>\n",
       "    </tr>\n",
       "    <tr>\n",
       "      <td>2952</td>\n",
       "      <td>김해시 내외동</td>\n",
       "      <td>김해시</td>\n",
       "      <td>내외동</td>\n",
       "    </tr>\n",
       "    <tr>\n",
       "      <td>2953</td>\n",
       "      <td>김해시 진영읍</td>\n",
       "      <td>김해시</td>\n",
       "      <td>진영읍</td>\n",
       "    </tr>\n",
       "    <tr>\n",
       "      <td>2954</td>\n",
       "      <td>김해시 내외동</td>\n",
       "      <td>김해시</td>\n",
       "      <td>내외동</td>\n",
       "    </tr>\n",
       "    <tr>\n",
       "      <td>2955</td>\n",
       "      <td>김해시 삼안동</td>\n",
       "      <td>김해시</td>\n",
       "      <td>삼안동</td>\n",
       "    </tr>\n",
       "    <tr>\n",
       "      <td>2956</td>\n",
       "      <td>김해시 칠산서부동</td>\n",
       "      <td>김해시</td>\n",
       "      <td>칠산서부동</td>\n",
       "    </tr>\n",
       "  </tbody>\n",
       "</table>\n",
       "<p>69054 rows × 3 columns</p>\n",
       "</div>"
      ],
      "text/plain": [
       "           emd_nm emd_nm_big emd_nm_small\n",
       "0         창녕군 창녕읍        창녕군          창녕읍\n",
       "1         의령군 가례면        의령군          가례면\n",
       "2         창녕군 창녕읍        창녕군          창녕읍\n",
       "3      창원시의창구 대산면     창원시의창구          대산면\n",
       "4         창녕군 창녕읍        창녕군          창녕읍\n",
       "...           ...        ...          ...\n",
       "2952      김해시 내외동        김해시          내외동\n",
       "2953      김해시 진영읍        김해시          진영읍\n",
       "2954      김해시 내외동        김해시          내외동\n",
       "2955      김해시 삼안동        김해시          삼안동\n",
       "2956    김해시 칠산서부동        김해시        칠산서부동\n",
       "\n",
       "[69054 rows x 3 columns]"
      ]
     },
     "execution_count": 32,
     "metadata": {},
     "output_type": "execute_result"
    }
   ],
   "source": [
    "all_data[['emd_nm','emd_nm_big','emd_nm_small']]"
   ]
  },
  {
   "cell_type": "code",
   "execution_count": 33,
   "metadata": {},
   "outputs": [],
   "source": [
    "func.hm_cnt_modi(all_data)"
   ]
  },
  {
   "cell_type": "code",
   "execution_count": 34,
   "metadata": {},
   "outputs": [
    {
     "data": {
      "text/plain": [
       "93"
      ]
     },
     "execution_count": 34,
     "metadata": {},
     "output_type": "execute_result"
    }
   ],
   "source": [
    "all_data['hm_cnt'].isnull().sum()"
   ]
  },
  {
   "cell_type": "code",
   "execution_count": 35,
   "metadata": {},
   "outputs": [],
   "source": [
    "all_data.loc[all_data['hm_cnt'].isnull(), 'emd_nm_small'] = round(all_data['hm_cnt'].mean())\n",
    "# na값 인구 평균으로 치환"
   ]
  },
  {
   "cell_type": "code",
   "execution_count": 36,
   "metadata": {},
   "outputs": [
    {
     "data": {
      "text/plain": [
       "세로한면(가)    24896\n",
       "세로한면(불)    16683\n",
       "소로한면       10990\n",
       "소로각지        2926\n",
       "중로한면        2770\n",
       "세로각지(가)     2370\n",
       "맹지          2368\n",
       "중로각지        1948\n",
       "광대로한면        846\n",
       "세로각지(불)      729\n",
       "광대소각         664\n",
       "지정되지않음       132\n",
       "광대세각         109\n",
       "Name: rd_sd_nm, dtype: int64"
      ]
     },
     "execution_count": 36,
     "metadata": {},
     "output_type": "execute_result"
    }
   ],
   "source": [
    "all_data['rd_sd_nm'].value_counts()"
   ]
  },
  {
   "cell_type": "code",
   "execution_count": 37,
   "metadata": {},
   "outputs": [],
   "source": [
    "all_data.loc[all_data['rd_sd_nm'].isnull(), 'rd_sd_nm'] = '세로한면(가)'\n",
    "# 최빈값으로 na 대체"
   ]
  },
  {
   "cell_type": "code",
   "execution_count": 38,
   "metadata": {},
   "outputs": [],
   "source": [
    "all_data = all_data.drop('bldng_ar_prc', axis = 1)\n",
    "# 건물가격 컬럼 삭제"
   ]
  },
  {
   "cell_type": "code",
   "execution_count": 39,
   "metadata": {
    "scrolled": true
   },
   "outputs": [
    {
     "name": "stderr",
     "output_type": "stream",
     "text": [
      "/opt/app-root/lib/python3.6/site-packages/ipykernel_launcher.py:3: RuntimeWarning: invalid value encountered in long_scalars\n",
      "  This is separate from the ipykernel package so we can avoid doing imports until\n",
      "/opt/app-root/lib/python3.6/site-packages/matplotlib/backends/backend_agg.py:211: RuntimeWarning: Glyph 50504 missing from current font.\n",
      "  font.set_text(s, 0.0, flags=flags)\n",
      "/opt/app-root/lib/python3.6/site-packages/matplotlib/backends/backend_agg.py:211: RuntimeWarning: Glyph 51204 missing from current font.\n",
      "  font.set_text(s, 0.0, flags=flags)\n",
      "/opt/app-root/lib/python3.6/site-packages/matplotlib/backends/backend_agg.py:211: RuntimeWarning: Glyph 49468 missing from current font.\n",
      "  font.set_text(s, 0.0, flags=flags)\n",
      "/opt/app-root/lib/python3.6/site-packages/matplotlib/backends/backend_agg.py:211: RuntimeWarning: Glyph 53552 missing from current font.\n",
      "  font.set_text(s, 0.0, flags=flags)\n",
      "/opt/app-root/lib/python3.6/site-packages/matplotlib/backends/backend_agg.py:211: RuntimeWarning: Glyph 50752 missing from current font.\n",
      "  font.set_text(s, 0.0, flags=flags)\n",
      "/opt/app-root/lib/python3.6/site-packages/matplotlib/backends/backend_agg.py:211: RuntimeWarning: Glyph 51032 missing from current font.\n",
      "  font.set_text(s, 0.0, flags=flags)\n",
      "/opt/app-root/lib/python3.6/site-packages/matplotlib/backends/backend_agg.py:211: RuntimeWarning: Glyph 44144 missing from current font.\n",
      "  font.set_text(s, 0.0, flags=flags)\n",
      "/opt/app-root/lib/python3.6/site-packages/matplotlib/backends/backend_agg.py:211: RuntimeWarning: Glyph 47532 missing from current font.\n",
      "  font.set_text(s, 0.0, flags=flags)\n",
      "/opt/app-root/lib/python3.6/site-packages/matplotlib/backends/backend_agg.py:211: RuntimeWarning: Glyph 54868 missing from current font.\n",
      "  font.set_text(s, 0.0, flags=flags)\n",
      "/opt/app-root/lib/python3.6/site-packages/matplotlib/backends/backend_agg.py:211: RuntimeWarning: Glyph 51116 missing from current font.\n",
      "  font.set_text(s, 0.0, flags=flags)\n",
      "/opt/app-root/lib/python3.6/site-packages/matplotlib/backends/backend_agg.py:211: RuntimeWarning: Glyph 48156 missing from current font.\n",
      "  font.set_text(s, 0.0, flags=flags)\n",
      "/opt/app-root/lib/python3.6/site-packages/matplotlib/backends/backend_agg.py:211: RuntimeWarning: Glyph 49373 missing from current font.\n",
      "  font.set_text(s, 0.0, flags=flags)\n",
      "/opt/app-root/lib/python3.6/site-packages/matplotlib/backends/backend_agg.py:180: RuntimeWarning: Glyph 50504 missing from current font.\n",
      "  font.set_text(s, 0, flags=flags)\n",
      "/opt/app-root/lib/python3.6/site-packages/matplotlib/backends/backend_agg.py:180: RuntimeWarning: Glyph 51204 missing from current font.\n",
      "  font.set_text(s, 0, flags=flags)\n",
      "/opt/app-root/lib/python3.6/site-packages/matplotlib/backends/backend_agg.py:180: RuntimeWarning: Glyph 49468 missing from current font.\n",
      "  font.set_text(s, 0, flags=flags)\n",
      "/opt/app-root/lib/python3.6/site-packages/matplotlib/backends/backend_agg.py:180: RuntimeWarning: Glyph 53552 missing from current font.\n",
      "  font.set_text(s, 0, flags=flags)\n",
      "/opt/app-root/lib/python3.6/site-packages/matplotlib/backends/backend_agg.py:180: RuntimeWarning: Glyph 50752 missing from current font.\n",
      "  font.set_text(s, 0, flags=flags)\n",
      "/opt/app-root/lib/python3.6/site-packages/matplotlib/backends/backend_agg.py:180: RuntimeWarning: Glyph 51032 missing from current font.\n",
      "  font.set_text(s, 0, flags=flags)\n",
      "/opt/app-root/lib/python3.6/site-packages/matplotlib/backends/backend_agg.py:180: RuntimeWarning: Glyph 44144 missing from current font.\n",
      "  font.set_text(s, 0, flags=flags)\n",
      "/opt/app-root/lib/python3.6/site-packages/matplotlib/backends/backend_agg.py:180: RuntimeWarning: Glyph 47532 missing from current font.\n",
      "  font.set_text(s, 0, flags=flags)\n",
      "/opt/app-root/lib/python3.6/site-packages/matplotlib/backends/backend_agg.py:180: RuntimeWarning: Glyph 54868 missing from current font.\n",
      "  font.set_text(s, 0, flags=flags)\n",
      "/opt/app-root/lib/python3.6/site-packages/matplotlib/backends/backend_agg.py:180: RuntimeWarning: Glyph 51116 missing from current font.\n",
      "  font.set_text(s, 0, flags=flags)\n",
      "/opt/app-root/lib/python3.6/site-packages/matplotlib/backends/backend_agg.py:180: RuntimeWarning: Glyph 48156 missing from current font.\n",
      "  font.set_text(s, 0, flags=flags)\n",
      "/opt/app-root/lib/python3.6/site-packages/matplotlib/backends/backend_agg.py:180: RuntimeWarning: Glyph 49373 missing from current font.\n",
      "  font.set_text(s, 0, flags=flags)\n"
     ]
    },
    {
     "data": {
      "image/png": "[encoded data removed]",
      "text/plain": [
       "<Figure size 1080x504 with 1 Axes>"
      ]
     },
     "metadata": {
      "needs_background": "light"
     },
     "output_type": "display_data"
    }
   ],
   "source": [
    "cummulate_fire_ratio = []\n",
    "for i in range(1, 500):\n",
    "    cummulate_fire_ratio.append(train[train['fr_sttn_dstnc'] < i]['fr_yn'].sum() / len(train[train['fr_sttn_dstnc'] < i]['fr_yn']))\n",
    "    \n",
    "plt.figure(figsize=(15, 7))\n",
    "plt.plot(cummulate_fire_ratio)\n",
    "plt.title('119 안전센터와의 거리와 화재발생', y=1.02)\n",
    "plt.ylabel('Fire rate')\n",
    "plt.xlabel('Range of distance from a nearest tobacco shop')\n",
    "plt.show()"
   ]
  },
  {
   "cell_type": "code",
   "execution_count": 40,
   "metadata": {},
   "outputs": [
    {
     "data": {
      "text/plain": [
       "<seaborn.axisgrid.FacetGrid at 0x7efcec637278>"
      ]
     },
     "execution_count": 40,
     "metadata": {},
     "output_type": "execute_result"
    },
    {
     "data": {
      "image/png": "[encoded data removed]",
      "text/plain": [
       "<Figure size 1206.08x374.4 with 2 Axes>"
      ]
     },
     "metadata": {
      "needs_background": "light"
     },
     "output_type": "display_data"
    }
   ],
   "source": [
    "grid = sns.FacetGrid(train, col='fr_yn', size=5.2, aspect=1.6)\n",
    "grid.map(plt.hist, 'hm_cnt', alpha=.5, bins=10)\n",
    "grid.add_legend()"
   ]
  },
  {
   "cell_type": "code",
   "execution_count": 41,
   "metadata": {},
   "outputs": [
    {
     "data": {
      "text/plain": [
       "<seaborn.axisgrid.FacetGrid at 0x7efcdfd8f2e8>"
      ]
     },
     "execution_count": 41,
     "metadata": {},
     "output_type": "execute_result"
    },
    {
     "data": {
      "image/png": "[encoded data removed]",
      "text/plain": [
       "<Figure size 1206.08x374.4 with 2 Axes>"
      ]
     },
     "metadata": {
      "needs_background": "light"
     },
     "output_type": "display_data"
    }
   ],
   "source": [
    "grid = sns.FacetGrid(train, col='fr_yn', size=5.2, aspect=1.6)\n",
    "grid.map(plt.hist, 'fr_sttn_dstnc', alpha=.5, bins=10)\n",
    "grid.add_legend()"
   ]
  },
  {
   "cell_type": "code",
   "execution_count": 42,
   "metadata": {},
   "outputs": [],
   "source": [
    "data=train"
   ]
  },
  {
   "cell_type": "code",
   "execution_count": 45,
   "metadata": {},
   "outputs": [
    {
     "name": "stderr",
     "output_type": "stream",
     "text": [
      "/opt/app-root/src/func.py:123: SettingWithCopyWarning: \n",
      "A value is trying to be set on a copy of a slice from a DataFrame\n",
      "\n",
      "See the caveats in the documentation: http://pandas.pydata.org/pandas-docs/stable/user_guide/indexing.html#returning-a-view-versus-a-copy\n",
      "  data.bldng_ar[(data.bldng_us.notnull())&(data.bldng_ar==0)]=135    #건물면적이 0인데 건물이 존재 -> 건물면적값 중간값(135) 대입\n",
      "/opt/app-root/lib/python3.6/site-packages/pandas/core/generic.py:9114: SettingWithCopyWarning: \n",
      "A value is trying to be set on a copy of a slice from a DataFrame\n",
      "\n",
      "See the caveats in the documentation: http://pandas.pydata.org/pandas-docs/stable/user_guide/indexing.html#returning-a-view-versus-a-copy\n",
      "  self._update_inplace(new_data)\n",
      "/opt/app-root/lib/python3.6/site-packages/ipykernel_launcher.py:10: SettingWithCopyWarning: \n",
      "A value is trying to be set on a copy of a slice from a DataFrame\n",
      "\n",
      "See the caveats in the documentation: http://pandas.pydata.org/pandas-docs/stable/user_guide/indexing.html#returning-a-view-versus-a-copy\n",
      "  # Remove the CWD from sys.path while we load stuff.\n",
      "/opt/app-root/src/func.py:124: SettingWithCopyWarning: \n",
      "A value is trying to be set on a copy of a slice from a DataFrame\n",
      "\n",
      "See the caveats in the documentation: http://pandas.pydata.org/pandas-docs/stable/user_guide/indexing.html#returning-a-view-versus-a-copy\n",
      "  data.lnd_ar[(data.bldng_us.notnull()) & (data.lnd_ar==0)]=230      #토지면적이 0인데 건물이 존재 -> 토지면적값 중간값(230) 대입\n"
     ]
    }
   ],
   "source": [
    "fd.dt_of_fr_pp(data)\n",
    "fd.dt_of_athrztn_pp(data)\n",
    "fd.season_pp(data)\n",
    "fd.flr_pp(data)\n",
    "fd.bldng_us_pp(data)\n",
    "fd.bldng_archtctr_pp(data)\n",
    "fd.fr_wthr_fclt_pp(data)\n",
    "fd.tbc_pp(data)\n",
    "fd.bldng_clssfctn_pp(data)\n",
    "fd.ar_pp(data)\n",
    "fd.rgnl_ar_nm_modi(data)\n",
    "fd.lnd_us_sttn_nm_modi1(data)\n",
    "fd.lnd_us_sttn_nm_modi2(data)\n",
    "fd.emd_nm_modi(data)"
   ]
  },
  {
   "cell_type": "code",
   "execution_count": 46,
   "metadata": {},
   "outputs": [],
   "source": [
    "#건물 승인 연도별 시각화\n",
    "data['blng_y']=data.loc[:,'dt_of_athrztn'].astype('str').str[:4]\n",
    "data['blng_y']=data['blng_y'].astype('int')\n",
    "data['bldng_y']=data['blng_y'].apply(lambda x: 1960 if (x>1959) & (x<1970) else x)\n",
    "data['blng_y']=data['blng_y'].apply(lambda x: 1970 if (x>1969) & (x<1980) else x)\n",
    "data['blng_y']=data['blng_y'].apply(lambda x: 1980 if (x>1979) & (x<1990) else x)\n",
    "data['blng_y']=data['blng_y'].apply(lambda x: 1990 if (x>1989) & (x<2000) else x)\n",
    "data['blng_y']=data['blng_y'].apply(lambda x: 2000 if (x>1999) & (x<2010) else x)\n",
    "data['blng_y']=data['blng_y'].apply(lambda x: 2010 if (x>2009) & (x<2020) else x)"
   ]
  },
  {
   "cell_type": "code",
   "execution_count": 47,
   "metadata": {},
   "outputs": [
    {
     "data": {
      "text/plain": [
       "(1950, 2020)"
      ]
     },
     "execution_count": 47,
     "metadata": {},
     "output_type": "execute_result"
    },
    {
     "data": {
      "image/png": "[encoded data removed]",
      "text/plain": [
       "<Figure size 432x288 with 1 Axes>"
      ]
     },
     "metadata": {
      "needs_background": "light"
     },
     "output_type": "display_data"
    }
   ],
   "source": [
    "d1=data[['blng_y','fr_yn']]\n",
    "d2=d1.set_index('blng_y')\n",
    "d1=d1.pivot_table(index='blng_y', aggfunc='sum')\n",
    "d2=d1.pivot_table(index='blng_y',aggfunc='sum')\n",
    "d2.plot()\n",
    "plt.xlim([1950,2020])"
   ]
  },
  {
   "cell_type": "code",
   "execution_count": 57,
   "metadata": {},
   "outputs": [
    {
     "data": {
      "text/plain": [
       "<matplotlib.axes._subplots.AxesSubplot at 0x7efd0c6a1438>"
      ]
     },
     "execution_count": 57,
     "metadata": {},
     "output_type": "execute_result"
    },
    {
     "data": {
      "image/png": "[encoded data removed]",
      "text/plain": [
       "<Figure size 432x288 with 1 Axes>"
      ]
     },
     "metadata": {
      "needs_background": "light"
     },
     "output_type": "display_data"
    }
   ],
   "source": [
    "#계절별 화재빈도 시각화\n",
    "df1=data[['fr_yn','season']]\n",
    "df2=df1.set_index('season')\n",
    "df2=df1.pivot_table(index='season', aggfunc='sum')\n",
    "df2.plot.bar()"
   ]
  },
  {
   "cell_type": "code",
   "execution_count": 58,
   "metadata": {},
   "outputs": [
    {
     "data": {
      "text/plain": [
       "<matplotlib.axes._subplots.AxesSubplot at 0x7efd0c3c29b0>"
      ]
     },
     "execution_count": 58,
     "metadata": {},
     "output_type": "execute_result"
    },
    {
     "data": {
      "image/png": "[encoded data removed]",
      "text/plain": [
       "<Figure size 432x288 with 1 Axes>"
      ]
     },
     "metadata": {
      "needs_background": "light"
     },
     "output_type": "display_data"
    }
   ],
   "source": [
    "#건물용도별 화재 시각화\n",
    "da1=data[['bldng_us2','fr_yn']]\n",
    "da1.drop('fr_yn',axis=1)\n",
    "da2=da1.pivot_table(index='bldng_us2', aggfunc='sum')\n",
    "da2.plot.barh()"
   ]
  },
  {
   "cell_type": "code",
   "execution_count": 59,
   "metadata": {},
   "outputs": [
    {
     "data": {
      "text/plain": [
       "<matplotlib.axes._subplots.AxesSubplot at 0x7efd0c0c4438>"
      ]
     },
     "execution_count": 59,
     "metadata": {},
     "output_type": "execute_result"
    },
    {
     "data": {
      "image/png": "[encoded data removed]",
      "text/plain": [
       "<Figure size 432x288 with 1 Axes>"
      ]
     },
     "metadata": {
      "needs_background": "light"
     },
     "output_type": "display_data"
    }
   ],
   "source": [
    "#건물구조별 화재 시각화\n",
    "dq1=data[['bldng_archtctr2','fr_yn']]\n",
    "dq2=dq1.pivot_table(index='bldng_archtctr2', aggfunc='sum')\n",
    "dq2.plot.barh(fontsize=6)"
   ]
  },
  {
   "cell_type": "code",
   "execution_count": 60,
   "metadata": {},
   "outputs": [
    {
     "data": {
      "text/plain": [
       "<matplotlib.axes._subplots.AxesSubplot at 0x7efd0c1cbf98>"
      ]
     },
     "execution_count": 60,
     "metadata": {},
     "output_type": "execute_result"
    },
    {
     "data": {
      "image/png": "[encoded data removed]",
      "text/plain": [
       "<Figure size 432x288 with 1 Axes>"
      ]
     },
     "metadata": {
      "needs_background": "light"
     },
     "output_type": "display_data"
    }
   ],
   "source": [
    "#건물 용도명 화재 시각화\n",
    "dw1=data[['bldng_us_clssfctn','fr_yn']]\n",
    "dw2=dw1.pivot_table(index='bldng_us_clssfctn', aggfunc='sum')\n",
    "dw2.plot.barh()"
   ]
  },
  {
   "cell_type": "code",
   "execution_count": 61,
   "metadata": {},
   "outputs": [
    {
     "data": {
      "image/png": "[encoded data removed]",
      "text/plain": [
       "<Figure size 432x288 with 1 Axes>"
      ]
     },
     "metadata": {
      "needs_background": "light"
     },
     "output_type": "display_data"
    },
    {
     "data": {
      "image/png": "[encoded data removed]",
      "text/plain": [
       "<Figure size 432x288 with 1 Axes>"
      ]
     },
     "metadata": {
      "needs_background": "light"
     },
     "output_type": "display_data"
    },
    {
     "data": {
      "image/png": "[encoded data removed]",
      "text/plain": [
       "<Figure size 432x288 with 1 Axes>"
      ]
     },
     "metadata": {
      "needs_background": "light"
     },
     "output_type": "display_data"
    }
   ],
   "source": [
    "#건물 건축면적 data.bldng_ar    (건물 1층 바닥면적)\n",
    "#건물 연면적 data.ttl_ar        (각 층 바닥면적의 합계)\n",
    "#토지면적 data.lnd_ar           (집을 지을수 있는 땅)\n",
    "\n",
    "data.boxplot(column=[\"bldng_ar\"])     #이상치 값이 너무 높음 평균값 x -> 결측치 (중간값) 처리\n",
    "plt.show()\n",
    "\n",
    "data.boxplot(column=[\"ttl_ar\"])\n",
    "plt.show()\n",
    "\n",
    "data.boxplot(column=[\"lnd_ar\"])\n",
    "plt.show()"
   ]
  },
  {
   "cell_type": "code",
   "execution_count": 62,
   "metadata": {},
   "outputs": [
    {
     "data": {
      "text/plain": [
       "<matplotlib.axes._subplots.AxesSubplot at 0x7efd0c1e31d0>"
      ]
     },
     "execution_count": 62,
     "metadata": {},
     "output_type": "execute_result"
    },
    {
     "data": {
      "image/png": "[encoded data removed]",
      "text/plain": [
       "<Figure size 432x288 with 1 Axes>"
      ]
     },
     "metadata": {
      "needs_background": "light"
     },
     "output_type": "display_data"
    }
   ],
   "source": [
    "#건물면적 범위 화재 시각화 \n",
    "data['bldnng_ar1']=data.loc[:,'dt_of_athrztn'].astype('str').str[:4]\n",
    "\n",
    "data['bldng_ar1']=data['bldng_ar'].apply(lambda x: 100 if (x<101) else x)\n",
    "data['bldng_ar1']=data['bldng_ar1'].astype('int')\n",
    "data['bldng_ar1']=data['bldng_ar1'].apply(lambda x: 300 if (x>=101) & (x<301)   else x)\n",
    "data['bldng_ar1']=data['bldng_ar1'].apply(lambda x: 600 if (x>=301) & (x<601)   else x)\n",
    "data['bldng_ar1']=data['bldng_ar1'].apply(lambda x: 1000 if (x>=601) & (x<1001) else x)\n",
    "data['bldng_ar1']=data['bldng_ar1'].apply(lambda x: 1000 if(x>=1001) &(x>1000)  else x)\n",
    "\n",
    "de1=data[['bldng_ar1','fr_yn']]\n",
    "de2=de1.pivot_table(index='bldng_ar1', aggfunc='sum')\n",
    "de2.plot.bar()"
   ]
  }
 ],
 "metadata": {
  "kernelspec": {
   "display_name": "Python 3",
   "language": "python",
   "name": "python3"
  },
  "language_info": {
   "codemirror_mode": {
    "name": "ipython",
    "version": 3
   },
   "file_extension": ".py",
   "mimetype": "text/x-python",
   "name": "python",
   "nbconvert_exporter": "python",
   "pygments_lexer": "ipython3",
   "version": "3.6.3"
  }
 },
 "nbformat": 4,
 "nbformat_minor": 2
}
