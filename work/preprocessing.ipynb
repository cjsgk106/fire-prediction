{
 "cells": [
  {
   "cell_type": "code",
   "execution_count": 2,
   "metadata": {},
   "outputs": [],
   "source": [
    "import numpy as np\n",
    "import pandas as pd\n",
    "import seaborn as sns\n",
    "import matplotlib.pyplot as plt\n",
    "\n",
    "from sklearn.metrics import f1_score"
   ]
  },
  {
   "cell_type": "code",
   "execution_count": 4,
   "metadata": {
    "scrolled": true
   },
   "outputs": [
    {
     "name": "stdout",
     "output_type": "stream",
     "text": [
      "Requirement already satisfied: import_ipynb in /opt/app-root/lib/python3.6/site-packages (0.1.3)\n",
      "\u001b[33mWARNING: You are using pip version 19.2.3, however version 19.3.1 is available.\n",
      "You should consider upgrading via the 'pip install --upgrade pip' command.\u001b[0m\n"
     ]
    }
   ],
   "source": [
    "!pip install import_ipynb"
   ]
  },
  {
   "cell_type": "code",
   "execution_count": 5,
   "metadata": {
    "scrolled": true
   },
   "outputs": [
    {
     "name": "stdout",
     "output_type": "stream",
     "text": [
      "importing Jupyter notebook from func.ipynb\n"
     ]
    }
   ],
   "source": [
    "import import_ipynb\n",
    "import func as fd"
   ]
  },
  {
   "cell_type": "code",
   "execution_count": 6,
   "metadata": {},
   "outputs": [],
   "source": [
    "def plot_feature_importance(model, X_train, figsize=(12, 6)):\n",
    "    sns.set_style('darkgrid')\n",
    "    \n",
    "    # Plot feature importance\n",
    "    feature_importance = model.feature_importances_\n",
    "    feature_importance = 100.0 * (feature_importance / feature_importance.max())\n",
    "    sorted_idx = np.argsort(feature_importance)\n",
    "    pos = np.arange(sorted_idx.shape[0]) + .5\n",
    "\n",
    "    plt.figure(figsize=figsize)\n",
    "    plt.barh(pos, feature_importance[sorted_idx], align='center')\n",
    "    plt.yticks(pos, X_train.columns[sorted_idx])\n",
    "    plt.xlabel('Relative Importance')\n",
    "    plt.title('Variable Importance')\n",
    "    plt.show()"
   ]
  },
  {
   "cell_type": "code",
   "execution_count": 7,
   "metadata": {
    "scrolled": false
   },
   "outputs": [
    {
     "name": "stderr",
     "output_type": "stream",
     "text": [
      "/opt/app-root/lib/python3.6/site-packages/IPython/core/interactiveshell.py:3058: DtypeWarning: Columns (8,172,173,174,175,176,177,178,179) have mixed types. Specify dtype option on import or set low_memory=False.\n",
      "  interactivity=interactivity, compiler=compiler, result=result)\n"
     ]
    }
   ],
   "source": [
    "from geoband.API import *\n",
    "\n",
    "GetCompasData('PJT002_train.csv')\n",
    "GetCompasData('PJT002_test.csv')\n",
    "GetCompasData('PJT002_validation.csv')\n",
    "GetCompasData('PJT002_submission.csv')\n",
    "\n",
    "train = pd.read_csv('PJT002_train.csv')\n",
    "val = pd.read_csv('PJT002_validation.csv')\n",
    "test = pd.read_csv('PJT002_test.csv')\n",
    "sub = pd.read_csv('PJT002_submission.csv')"
   ]
  },
  {
   "cell_type": "code",
   "execution_count": 3,
   "metadata": {},
   "outputs": [
    {
     "ename": "NameError",
     "evalue": "name 'train' is not defined",
     "output_type": "error",
     "traceback": [
      "\u001b[0;31m---------------------------------------------------------------------------\u001b[0m",
      "\u001b[0;31mNameError\u001b[0m                                 Traceback (most recent call last)",
      "\u001b[0;32m<ipython-input-3-c8a51655b8e1>\u001b[0m in \u001b[0;36m<module>\u001b[0;34m\u001b[0m\n\u001b[0;32m----> 1\u001b[0;31m \u001b[0mc1\u001b[0m \u001b[0;34m=\u001b[0m \u001b[0mtrain\u001b[0m\u001b[0;34m.\u001b[0m\u001b[0mcolumns\u001b[0m\u001b[0;34m[\u001b[0m\u001b[0;36m172\u001b[0m\u001b[0;34m:\u001b[0m\u001b[0;34m]\u001b[0m\u001b[0;34m\u001b[0m\u001b[0m\n\u001b[0m\u001b[1;32m      2\u001b[0m \u001b[0mc2\u001b[0m \u001b[0;34m=\u001b[0m \u001b[0mtrain\u001b[0m\u001b[0;34m.\u001b[0m\u001b[0mcolumns\u001b[0m\u001b[0;34m[\u001b[0m\u001b[0;36m137\u001b[0m\u001b[0;34m:\u001b[0m\u001b[0;36m151\u001b[0m\u001b[0;34m]\u001b[0m\u001b[0;34m\u001b[0m\u001b[0m\n\u001b[1;32m      3\u001b[0m \u001b[0mc3\u001b[0m \u001b[0;34m=\u001b[0m \u001b[0mtrain\u001b[0m\u001b[0;34m.\u001b[0m\u001b[0mcolumns\u001b[0m\u001b[0;34m[\u001b[0m\u001b[0;36m17\u001b[0m\u001b[0;34m:\u001b[0m\u001b[0;36m137\u001b[0m\u001b[0;34m]\u001b[0m\u001b[0;34m\u001b[0m\u001b[0m\n\u001b[1;32m      4\u001b[0m \u001b[0mX_train\u001b[0m \u001b[0;34m=\u001b[0m \u001b[0mtrain\u001b[0m\u001b[0;34m.\u001b[0m\u001b[0mdrop\u001b[0m\u001b[0;34m(\u001b[0m\u001b[0mc1\u001b[0m\u001b[0;34m,\u001b[0m\u001b[0;36m1\u001b[0m\u001b[0;34m)\u001b[0m\u001b[0;34m\u001b[0m\u001b[0m\n\u001b[1;32m      5\u001b[0m \u001b[0mX_train\u001b[0m \u001b[0;34m=\u001b[0m \u001b[0mX_train\u001b[0m\u001b[0;34m.\u001b[0m\u001b[0mdrop\u001b[0m\u001b[0;34m(\u001b[0m\u001b[0mc2\u001b[0m\u001b[0;34m,\u001b[0m\u001b[0;36m1\u001b[0m\u001b[0;34m)\u001b[0m\u001b[0;34m\u001b[0m\u001b[0m\n",
      "\u001b[0;31mNameError\u001b[0m: name 'train' is not defined"
     ]
    }
   ],
   "source": [
    "c1 = train.columns[172:]\n",
    "c2 = train.columns[137:151]\n",
    "c3 = train.columns[17:137]\n",
    "X_train = train.drop(c1,1)\n",
    "X_train = X_train.drop(c2,1)\n",
    "X_train = X_train.drop(c3,1)\n",
    "X_train['prcpttn'] = X_train['prcpttn'].fillna(-1)\n",
    "\n",
    "X_val = val.drop(c1,1)\n",
    "X_val = X_val.drop(c2,1)\n",
    "X_val = X_val.drop(c3,1)\n",
    "X_val['prcpttn'] = X_val['prcpttn'].fillna(-1)\n",
    "\n",
    "test = test.drop(c1,1)\n",
    "test = test.drop(c2,1)\n",
    "test = test.drop(c3,1)\n",
    "test['prcpttn'] = test['prcpttn'].fillna(-1)\n",
    "\n",
    "y_train = X_train['fr_yn']\n",
    "X_train = X_train.drop(['fr_yn', 'id'], 1)\n",
    "y_val = X_val['fr_yn']\n",
    "X_val = X_val.drop(['fr_yn', 'id'], 1)\n",
    "test = test.drop(['fr_yn', 'id'], 1)"
   ]
  },
  {
   "cell_type": "code",
   "execution_count": null,
   "metadata": {},
   "outputs": [],
   "source": [
    "all_data = pd.concat([X_train, X_val, test],sort=False)"
   ]
  },
  {
   "cell_type": "code",
   "execution_count": 18,
   "metadata": {
    "scrolled": false
   },
   "outputs": [
    {
     "data": {
      "text/html": [
       "<div>\n",
       "<style scoped>\n",
       "    .dataframe tbody tr th:only-of-type {\n",
       "        vertical-align: middle;\n",
       "    }\n",
       "\n",
       "    .dataframe tbody tr th {\n",
       "        vertical-align: top;\n",
       "    }\n",
       "\n",
       "    .dataframe thead th {\n",
       "        text-align: right;\n",
       "    }\n",
       "</style>\n",
       "<table border=\"1\" class=\"dataframe\">\n",
       "  <thead>\n",
       "    <tr style=\"text-align: right;\">\n",
       "      <th></th>\n",
       "      <th>Missing Ratio</th>\n",
       "    </tr>\n",
       "  </thead>\n",
       "  <tbody>\n",
       "    <tr>\n",
       "      <td>bldng_us_clssfctn</td>\n",
       "      <td>49.566716</td>\n",
       "    </tr>\n",
       "    <tr>\n",
       "      <td>bldng_us</td>\n",
       "      <td>46.752479</td>\n",
       "    </tr>\n",
       "    <tr>\n",
       "      <td>bldng_archtctr</td>\n",
       "      <td>46.732208</td>\n",
       "    </tr>\n",
       "    <tr>\n",
       "      <td>ele_engry_us_201507</td>\n",
       "      <td>46.590314</td>\n",
       "    </tr>\n",
       "    <tr>\n",
       "      <td>gas_engry_us_201510</td>\n",
       "      <td>46.590314</td>\n",
       "    </tr>\n",
       "    <tr>\n",
       "      <td>ele_engry_us_201509</td>\n",
       "      <td>46.590314</td>\n",
       "    </tr>\n",
       "    <tr>\n",
       "      <td>gas_engry_us_201509</td>\n",
       "      <td>46.590314</td>\n",
       "    </tr>\n",
       "    <tr>\n",
       "      <td>ele_engry_us_201508</td>\n",
       "      <td>46.590314</td>\n",
       "    </tr>\n",
       "    <tr>\n",
       "      <td>gas_engry_us_201508</td>\n",
       "      <td>46.590314</td>\n",
       "    </tr>\n",
       "    <tr>\n",
       "      <td>ele_engry_us_201506</td>\n",
       "      <td>46.590314</td>\n",
       "    </tr>\n",
       "    <tr>\n",
       "      <td>gas_engry_us_201507</td>\n",
       "      <td>46.590314</td>\n",
       "    </tr>\n",
       "    <tr>\n",
       "      <td>gas_engry_us_201511</td>\n",
       "      <td>46.590314</td>\n",
       "    </tr>\n",
       "    <tr>\n",
       "      <td>gas_engry_us_201506</td>\n",
       "      <td>46.590314</td>\n",
       "    </tr>\n",
       "    <tr>\n",
       "      <td>ele_engry_us_201505</td>\n",
       "      <td>46.590314</td>\n",
       "    </tr>\n",
       "    <tr>\n",
       "      <td>gas_engry_us_201505</td>\n",
       "      <td>46.590314</td>\n",
       "    </tr>\n",
       "    <tr>\n",
       "      <td>ele_engry_us_201504</td>\n",
       "      <td>46.590314</td>\n",
       "    </tr>\n",
       "    <tr>\n",
       "      <td>ele_engry_us_201510</td>\n",
       "      <td>46.590314</td>\n",
       "    </tr>\n",
       "    <tr>\n",
       "      <td>gas_engry_us_201512</td>\n",
       "      <td>46.590314</td>\n",
       "    </tr>\n",
       "    <tr>\n",
       "      <td>ele_engry_us_201511</td>\n",
       "      <td>46.590314</td>\n",
       "    </tr>\n",
       "    <tr>\n",
       "      <td>ele_engry_us_201503</td>\n",
       "      <td>46.590314</td>\n",
       "    </tr>\n",
       "    <tr>\n",
       "      <td>ele_engry_us_201512</td>\n",
       "      <td>46.590314</td>\n",
       "    </tr>\n",
       "    <tr>\n",
       "      <td>gas_engry_us_201601</td>\n",
       "      <td>46.590314</td>\n",
       "    </tr>\n",
       "    <tr>\n",
       "      <td>ele_engry_us_201601</td>\n",
       "      <td>46.590314</td>\n",
       "    </tr>\n",
       "    <tr>\n",
       "      <td>gas_engry_us_201602</td>\n",
       "      <td>46.590314</td>\n",
       "    </tr>\n",
       "    <tr>\n",
       "      <td>ele_engry_us_201602</td>\n",
       "      <td>46.590314</td>\n",
       "    </tr>\n",
       "    <tr>\n",
       "      <td>gas_engry_us_201603</td>\n",
       "      <td>46.590314</td>\n",
       "    </tr>\n",
       "    <tr>\n",
       "      <td>ele_engry_us_201603</td>\n",
       "      <td>46.590314</td>\n",
       "    </tr>\n",
       "    <tr>\n",
       "      <td>gas_engry_us_201604</td>\n",
       "      <td>46.590314</td>\n",
       "    </tr>\n",
       "    <tr>\n",
       "      <td>ele_engry_us_201604</td>\n",
       "      <td>46.590314</td>\n",
       "    </tr>\n",
       "    <tr>\n",
       "      <td>gas_engry_us_201605</td>\n",
       "      <td>46.590314</td>\n",
       "    </tr>\n",
       "  </tbody>\n",
       "</table>\n",
       "</div>"
      ],
      "text/plain": [
       "                     Missing Ratio\n",
       "bldng_us_clssfctn        49.566716\n",
       "bldng_us                 46.752479\n",
       "bldng_archtctr           46.732208\n",
       "ele_engry_us_201507      46.590314\n",
       "gas_engry_us_201510      46.590314\n",
       "ele_engry_us_201509      46.590314\n",
       "gas_engry_us_201509      46.590314\n",
       "ele_engry_us_201508      46.590314\n",
       "gas_engry_us_201508      46.590314\n",
       "ele_engry_us_201506      46.590314\n",
       "gas_engry_us_201507      46.590314\n",
       "gas_engry_us_201511      46.590314\n",
       "gas_engry_us_201506      46.590314\n",
       "ele_engry_us_201505      46.590314\n",
       "gas_engry_us_201505      46.590314\n",
       "ele_engry_us_201504      46.590314\n",
       "ele_engry_us_201510      46.590314\n",
       "gas_engry_us_201512      46.590314\n",
       "ele_engry_us_201511      46.590314\n",
       "ele_engry_us_201503      46.590314\n",
       "ele_engry_us_201512      46.590314\n",
       "gas_engry_us_201601      46.590314\n",
       "ele_engry_us_201601      46.590314\n",
       "gas_engry_us_201602      46.590314\n",
       "ele_engry_us_201602      46.590314\n",
       "gas_engry_us_201603      46.590314\n",
       "ele_engry_us_201603      46.590314\n",
       "gas_engry_us_201604      46.590314\n",
       "ele_engry_us_201604      46.590314\n",
       "gas_engry_us_201605      46.590314"
      ]
     },
     "execution_count": 18,
     "metadata": {},
     "output_type": "execute_result"
    }
   ],
   "source": [
    "all_na = (all_data.isnull().sum() / len(all_data))*100\n",
    "all_na = all_na[all_na<50]\n",
    "all_na = all_na.drop(all_na[all_na==0].index).sort_values(ascending=False)[:30]\n",
    "missing_data = pd.DataFrame({'Missing Ratio' : all_na})\n",
    "missing_data.head(30)"
   ]
  },
  {
   "cell_type": "code",
   "execution_count": 19,
   "metadata": {
    "scrolled": false
   },
   "outputs": [
    {
     "data": {
      "text/plain": [
       "Text(0.5, 1.0, 'Percent missing data by feature')"
      ]
     },
     "execution_count": 19,
     "metadata": {},
     "output_type": "execute_result"
    },
    {
     "data": {
      "image/png": "[encoded data removed]",
      "text/plain": [
       "<Figure size 1080x864 with 1 Axes>"
      ]
     },
     "metadata": {
      "needs_background": "light"
     },
     "output_type": "display_data"
    }
   ],
   "source": [
    "fig, ax = plt.subplots(figsize=(15,12))\n",
    "plt.xticks(rotation='90')\n",
    "sns.barplot(x=all_na.index, y=all_na)\n",
    "plt.xlabel('Features', fontsize=15)\n",
    "plt.ylabel('Percent of missing values', fontsize=15)\n",
    "plt.title('Percent missing data by feature', fontsize=15)"
   ]
  },
  {
   "cell_type": "code",
   "execution_count": null,
   "metadata": {},
   "outputs": [],
   "source": [
    "dt_of_fr_pp(all_data)\n",
    "dt_of_athrztn_pp(all_data)\n",
    "season_pp(all_data)\n",
    "flr_pp(all_data)\n",
    "fr_wthr_fclt_pp(all_data)\n",
    "bldng_clssfctn_pp(all_data)"
   ]
  },
  {
   "cell_type": "code",
   "execution_count": 8,
   "metadata": {},
   "outputs": [],
   "source": [
    "train.fr_yn = train.fr_yn.map({'Y':1,'N':0})"
   ]
  },
  {
   "cell_type": "code",
   "execution_count": 23,
   "metadata": {
    "scrolled": false
   },
   "outputs": [
    {
     "data": {
      "text/html": [
       "<div>\n",
       "<style scoped>\n",
       "    .dataframe tbody tr th:only-of-type {\n",
       "        vertical-align: middle;\n",
       "    }\n",
       "\n",
       "    .dataframe tbody tr th {\n",
       "        vertical-align: top;\n",
       "    }\n",
       "\n",
       "    .dataframe thead th {\n",
       "        text-align: right;\n",
       "    }\n",
       "</style>\n",
       "<table border=\"1\" class=\"dataframe\">\n",
       "  <thead>\n",
       "    <tr style=\"text-align: right;\">\n",
       "      <th></th>\n",
       "      <th>bldng_us</th>\n",
       "      <th>fr_yn</th>\n",
       "    </tr>\n",
       "  </thead>\n",
       "  <tbody>\n",
       "    <tr>\n",
       "      <td>3</td>\n",
       "      <td>관광휴게시설</td>\n",
       "      <td>0.700000</td>\n",
       "    </tr>\n",
       "    <tr>\n",
       "      <td>24</td>\n",
       "      <td>의료시설</td>\n",
       "      <td>0.666667</td>\n",
       "    </tr>\n",
       "    <tr>\n",
       "      <td>26</td>\n",
       "      <td>장례식장</td>\n",
       "      <td>0.666667</td>\n",
       "    </tr>\n",
       "    <tr>\n",
       "      <td>33</td>\n",
       "      <td>판매시설</td>\n",
       "      <td>0.653846</td>\n",
       "    </tr>\n",
       "    <tr>\n",
       "      <td>1</td>\n",
       "      <td>공동주택</td>\n",
       "      <td>0.619554</td>\n",
       "    </tr>\n",
       "    <tr>\n",
       "      <td>15</td>\n",
       "      <td>분뇨.쓰레기처리시설</td>\n",
       "      <td>0.618182</td>\n",
       "    </tr>\n",
       "    <tr>\n",
       "      <td>16</td>\n",
       "      <td>수련시설</td>\n",
       "      <td>0.600000</td>\n",
       "    </tr>\n",
       "    <tr>\n",
       "      <td>25</td>\n",
       "      <td>자동차관련시설</td>\n",
       "      <td>0.563025</td>\n",
       "    </tr>\n",
       "    <tr>\n",
       "      <td>2</td>\n",
       "      <td>공장</td>\n",
       "      <td>0.553011</td>\n",
       "    </tr>\n",
       "    <tr>\n",
       "      <td>19</td>\n",
       "      <td>업무시설</td>\n",
       "      <td>0.541985</td>\n",
       "    </tr>\n",
       "    <tr>\n",
       "      <td>20</td>\n",
       "      <td>운동시설</td>\n",
       "      <td>0.523810</td>\n",
       "    </tr>\n",
       "    <tr>\n",
       "      <td>5</td>\n",
       "      <td>교육연구시설</td>\n",
       "      <td>0.508108</td>\n",
       "    </tr>\n",
       "    <tr>\n",
       "      <td>21</td>\n",
       "      <td>운수시설</td>\n",
       "      <td>0.500000</td>\n",
       "    </tr>\n",
       "    <tr>\n",
       "      <td>22</td>\n",
       "      <td>위락시설</td>\n",
       "      <td>0.457143</td>\n",
       "    </tr>\n",
       "    <tr>\n",
       "      <td>14</td>\n",
       "      <td>방송통신시설</td>\n",
       "      <td>0.454545</td>\n",
       "    </tr>\n",
       "    <tr>\n",
       "      <td>11</td>\n",
       "      <td>묘지관련시설</td>\n",
       "      <td>0.444444</td>\n",
       "    </tr>\n",
       "    <tr>\n",
       "      <td>6</td>\n",
       "      <td>교정및군사시설</td>\n",
       "      <td>0.428571</td>\n",
       "    </tr>\n",
       "    <tr>\n",
       "      <td>17</td>\n",
       "      <td>숙박시설</td>\n",
       "      <td>0.427481</td>\n",
       "    </tr>\n",
       "    <tr>\n",
       "      <td>12</td>\n",
       "      <td>문화및집회시설</td>\n",
       "      <td>0.421053</td>\n",
       "    </tr>\n",
       "    <tr>\n",
       "      <td>28</td>\n",
       "      <td>제2종근린생활시설</td>\n",
       "      <td>0.343501</td>\n",
       "    </tr>\n",
       "    <tr>\n",
       "      <td>4</td>\n",
       "      <td>교육연구및복지시설</td>\n",
       "      <td>0.333333</td>\n",
       "    </tr>\n",
       "    <tr>\n",
       "      <td>27</td>\n",
       "      <td>제1종근린생활시설</td>\n",
       "      <td>0.311064</td>\n",
       "    </tr>\n",
       "    <tr>\n",
       "      <td>23</td>\n",
       "      <td>위험물저장및처리시설</td>\n",
       "      <td>0.278261</td>\n",
       "    </tr>\n",
       "    <tr>\n",
       "      <td>29</td>\n",
       "      <td>종교시설</td>\n",
       "      <td>0.273292</td>\n",
       "    </tr>\n",
       "    <tr>\n",
       "      <td>7</td>\n",
       "      <td>근린생활시설</td>\n",
       "      <td>0.258065</td>\n",
       "    </tr>\n",
       "    <tr>\n",
       "      <td>10</td>\n",
       "      <td>동.식물 관련시설</td>\n",
       "      <td>0.250852</td>\n",
       "    </tr>\n",
       "    <tr>\n",
       "      <td>8</td>\n",
       "      <td>노유자시설</td>\n",
       "      <td>0.248780</td>\n",
       "    </tr>\n",
       "    <tr>\n",
       "      <td>30</td>\n",
       "      <td>창고시설</td>\n",
       "      <td>0.208857</td>\n",
       "    </tr>\n",
       "    <tr>\n",
       "      <td>13</td>\n",
       "      <td>발전시설</td>\n",
       "      <td>0.181818</td>\n",
       "    </tr>\n",
       "    <tr>\n",
       "      <td>9</td>\n",
       "      <td>단독주택</td>\n",
       "      <td>0.174130</td>\n",
       "    </tr>\n",
       "    <tr>\n",
       "      <td>18</td>\n",
       "      <td>시장</td>\n",
       "      <td>0.000000</td>\n",
       "    </tr>\n",
       "    <tr>\n",
       "      <td>31</td>\n",
       "      <td>파출소</td>\n",
       "      <td>0.000000</td>\n",
       "    </tr>\n",
       "    <tr>\n",
       "      <td>32</td>\n",
       "      <td>판매및영업시설</td>\n",
       "      <td>0.000000</td>\n",
       "    </tr>\n",
       "    <tr>\n",
       "      <td>0</td>\n",
       "      <td>공공용시설</td>\n",
       "      <td>0.000000</td>\n",
       "    </tr>\n",
       "  </tbody>\n",
       "</table>\n",
       "</div>"
      ],
      "text/plain": [
       "      bldng_us     fr_yn\n",
       "3       관광휴게시설  0.700000\n",
       "24        의료시설  0.666667\n",
       "26        장례식장  0.666667\n",
       "33        판매시설  0.653846\n",
       "1         공동주택  0.619554\n",
       "15  분뇨.쓰레기처리시설  0.618182\n",
       "16        수련시설  0.600000\n",
       "25     자동차관련시설  0.563025\n",
       "2           공장  0.553011\n",
       "19        업무시설  0.541985\n",
       "20        운동시설  0.523810\n",
       "5       교육연구시설  0.508108\n",
       "21        운수시설  0.500000\n",
       "22        위락시설  0.457143\n",
       "14      방송통신시설  0.454545\n",
       "11      묘지관련시설  0.444444\n",
       "6      교정및군사시설  0.428571\n",
       "17        숙박시설  0.427481\n",
       "12     문화및집회시설  0.421053\n",
       "28   제2종근린생활시설  0.343501\n",
       "4    교육연구및복지시설  0.333333\n",
       "27   제1종근린생활시설  0.311064\n",
       "23  위험물저장및처리시설  0.278261\n",
       "29        종교시설  0.273292\n",
       "7       근린생활시설  0.258065\n",
       "10   동.식물 관련시설  0.250852\n",
       "8        노유자시설  0.248780\n",
       "30        창고시설  0.208857\n",
       "13        발전시설  0.181818\n",
       "9         단독주택  0.174130\n",
       "18          시장  0.000000\n",
       "31         파출소  0.000000\n",
       "32     판매및영업시설  0.000000\n",
       "0        공공용시설  0.000000"
      ]
     },
     "execution_count": 23,
     "metadata": {},
     "output_type": "execute_result"
    }
   ],
   "source": [
    "train[['bldng_us', 'fr_yn']].groupby(['bldng_us'], as_index=False).mean().sort_values(by='fr_yn', ascending=False)"
   ]
  },
  {
   "cell_type": "code",
   "execution_count": null,
   "metadata": {},
   "outputs": [],
   "source": [
    "bldng_us_pp(all_data)"
   ]
  },
  {
   "cell_type": "code",
   "execution_count": 24,
   "metadata": {
    "scrolled": true
   },
   "outputs": [
    {
     "data": {
      "text/html": [
       "<div>\n",
       "<style scoped>\n",
       "    .dataframe tbody tr th:only-of-type {\n",
       "        vertical-align: middle;\n",
       "    }\n",
       "\n",
       "    .dataframe tbody tr th {\n",
       "        vertical-align: top;\n",
       "    }\n",
       "\n",
       "    .dataframe thead th {\n",
       "        text-align: right;\n",
       "    }\n",
       "</style>\n",
       "<table border=\"1\" class=\"dataframe\">\n",
       "  <thead>\n",
       "    <tr style=\"text-align: right;\">\n",
       "      <th></th>\n",
       "      <th>bldng_archtctr</th>\n",
       "      <th>fr_yn</th>\n",
       "    </tr>\n",
       "  </thead>\n",
       "  <tbody>\n",
       "    <tr>\n",
       "      <td>13</td>\n",
       "      <td>철골철근콘크리트구조</td>\n",
       "      <td>0.651163</td>\n",
       "    </tr>\n",
       "    <tr>\n",
       "      <td>11</td>\n",
       "      <td>일반철골구조</td>\n",
       "      <td>0.408669</td>\n",
       "    </tr>\n",
       "    <tr>\n",
       "      <td>14</td>\n",
       "      <td>철골콘크리트구조</td>\n",
       "      <td>0.400000</td>\n",
       "    </tr>\n",
       "    <tr>\n",
       "      <td>15</td>\n",
       "      <td>철근콘크리트구조</td>\n",
       "      <td>0.367792</td>\n",
       "    </tr>\n",
       "    <tr>\n",
       "      <td>17</td>\n",
       "      <td>프리케스트콘크리트구조</td>\n",
       "      <td>0.357143</td>\n",
       "    </tr>\n",
       "    <tr>\n",
       "      <td>2</td>\n",
       "      <td>기타강구조</td>\n",
       "      <td>0.305556</td>\n",
       "    </tr>\n",
       "    <tr>\n",
       "      <td>1</td>\n",
       "      <td>경량철골구조</td>\n",
       "      <td>0.290112</td>\n",
       "    </tr>\n",
       "    <tr>\n",
       "      <td>16</td>\n",
       "      <td>통나무구조</td>\n",
       "      <td>0.272727</td>\n",
       "    </tr>\n",
       "    <tr>\n",
       "      <td>4</td>\n",
       "      <td>기타조적구조</td>\n",
       "      <td>0.261364</td>\n",
       "    </tr>\n",
       "    <tr>\n",
       "      <td>3</td>\n",
       "      <td>기타구조</td>\n",
       "      <td>0.259259</td>\n",
       "    </tr>\n",
       "    <tr>\n",
       "      <td>0</td>\n",
       "      <td>강파이프구조</td>\n",
       "      <td>0.253165</td>\n",
       "    </tr>\n",
       "    <tr>\n",
       "      <td>10</td>\n",
       "      <td>일반목구조</td>\n",
       "      <td>0.191039</td>\n",
       "    </tr>\n",
       "    <tr>\n",
       "      <td>8</td>\n",
       "      <td>블록구조</td>\n",
       "      <td>0.183998</td>\n",
       "    </tr>\n",
       "    <tr>\n",
       "      <td>9</td>\n",
       "      <td>석구조</td>\n",
       "      <td>0.181818</td>\n",
       "    </tr>\n",
       "    <tr>\n",
       "      <td>7</td>\n",
       "      <td>벽돌구조</td>\n",
       "      <td>0.150061</td>\n",
       "    </tr>\n",
       "    <tr>\n",
       "      <td>6</td>\n",
       "      <td>목구조</td>\n",
       "      <td>0.117647</td>\n",
       "    </tr>\n",
       "    <tr>\n",
       "      <td>12</td>\n",
       "      <td>조적구조</td>\n",
       "      <td>0.020101</td>\n",
       "    </tr>\n",
       "    <tr>\n",
       "      <td>5</td>\n",
       "      <td>기타콘크리트구조</td>\n",
       "      <td>0.000000</td>\n",
       "    </tr>\n",
       "  </tbody>\n",
       "</table>\n",
       "</div>"
      ],
      "text/plain": [
       "   bldng_archtctr     fr_yn\n",
       "13     철골철근콘크리트구조  0.651163\n",
       "11         일반철골구조  0.408669\n",
       "14       철골콘크리트구조  0.400000\n",
       "15       철근콘크리트구조  0.367792\n",
       "17    프리케스트콘크리트구조  0.357143\n",
       "2           기타강구조  0.305556\n",
       "1          경량철골구조  0.290112\n",
       "16          통나무구조  0.272727\n",
       "4          기타조적구조  0.261364\n",
       "3            기타구조  0.259259\n",
       "0          강파이프구조  0.253165\n",
       "10          일반목구조  0.191039\n",
       "8            블록구조  0.183998\n",
       "9             석구조  0.181818\n",
       "7            벽돌구조  0.150061\n",
       "6             목구조  0.117647\n",
       "12           조적구조  0.020101\n",
       "5        기타콘크리트구조  0.000000"
      ]
     },
     "execution_count": 24,
     "metadata": {},
     "output_type": "execute_result"
    }
   ],
   "source": [
    "train[['bldng_archtctr', 'fr_yn']].groupby(['bldng_archtctr'], as_index=False).mean().sort_values(by='fr_yn', ascending=False)"
   ]
  },
  {
   "cell_type": "code",
   "execution_count": null,
   "metadata": {},
   "outputs": [],
   "source": [
    "bldng_archtctr_pp(all_data)"
   ]
  },
  {
   "cell_type": "code",
   "execution_count": 27,
   "metadata": {},
   "outputs": [
    {
     "data": {
      "image/png": "[encoded data removed]",
      "text/plain": [
       "<Figure size 1080x504 with 1 Axes>"
      ]
     },
     "metadata": {
      "needs_background": "light"
     },
     "output_type": "display_data"
    }
   ],
   "source": [
    "cummulate_fire_ratio = []\n",
    "for i in range(1, 500):\n",
    "    cummulate_fire_ratio.append(train[train['tbc_rtl_str_dstnc'] < i]['fr_yn'].sum() / len(train[train['tbc_rtl_str_dstnc'] < i]['fr_yn']))\n",
    "    \n",
    "plt.figure(figsize=(15, 7))\n",
    "plt.plot(cummulate_fire_ratio)\n",
    "plt.title('Fire rate change depending on range of distance from a nearest tobacco shop', y=1.02)\n",
    "plt.ylabel('Fire rate')\n",
    "plt.xlabel('Range of distance from a nearest tobacco shop')\n",
    "plt.show()"
   ]
  },
  {
   "cell_type": "code",
   "execution_count": 25,
   "metadata": {
    "scrolled": false
   },
   "outputs": [
    {
     "data": {
      "text/html": [
       "<div>\n",
       "<style scoped>\n",
       "    .dataframe tbody tr th:only-of-type {\n",
       "        vertical-align: middle;\n",
       "    }\n",
       "\n",
       "    .dataframe tbody tr th {\n",
       "        vertical-align: top;\n",
       "    }\n",
       "\n",
       "    .dataframe thead th {\n",
       "        text-align: right;\n",
       "    }\n",
       "</style>\n",
       "<table border=\"1\" class=\"dataframe\">\n",
       "  <thead>\n",
       "    <tr style=\"text-align: right;\">\n",
       "      <th></th>\n",
       "      <th>tbc_rtl_str_dstnc2</th>\n",
       "      <th>fr_yn</th>\n",
       "    </tr>\n",
       "  </thead>\n",
       "  <tbody>\n",
       "    <tr>\n",
       "      <td>0</td>\n",
       "      <td>(-0.001, 527.0]</td>\n",
       "      <td>0.158552</td>\n",
       "    </tr>\n",
       "    <tr>\n",
       "      <td>1</td>\n",
       "      <td>(527.0, 2184.0]</td>\n",
       "      <td>0.148922</td>\n",
       "    </tr>\n",
       "    <tr>\n",
       "      <td>2</td>\n",
       "      <td>(2184.0, 4958.0]</td>\n",
       "      <td>0.111734</td>\n",
       "    </tr>\n",
       "    <tr>\n",
       "      <td>3</td>\n",
       "      <td>(4958.0, 23228.0]</td>\n",
       "      <td>0.098148</td>\n",
       "    </tr>\n",
       "  </tbody>\n",
       "</table>\n",
       "</div>"
      ],
      "text/plain": [
       "  tbc_rtl_str_dstnc2     fr_yn\n",
       "0    (-0.001, 527.0]  0.158552\n",
       "1    (527.0, 2184.0]  0.148922\n",
       "2   (2184.0, 4958.0]  0.111734\n",
       "3  (4958.0, 23228.0]  0.098148"
      ]
     },
     "execution_count": 25,
     "metadata": {},
     "output_type": "execute_result"
    }
   ],
   "source": [
    "train['tbc_rtl_str_dstnc2'] = pd.qcut(train['tbc_rtl_str_dstnc'],4)\n",
    "train[['tbc_rtl_str_dstnc2', 'fr_yn']].groupby(['tbc_rtl_str_dstnc2'], as_index=False).mean().sort_values(by='tbc_rtl_str_dstnc2', ascending=True)"
   ]
  },
  {
   "cell_type": "code",
   "execution_count": null,
   "metadata": {},
   "outputs": [],
   "source": [
    "tbc_pp(all_data)"
   ]
  },
  {
   "cell_type": "code",
   "execution_count": 9,
   "metadata": {},
   "outputs": [
    {
     "data": {
      "image/png": "[encoded data removed]",
      "text/plain": [
       "<Figure size 1080x504 with 1 Axes>"
      ]
     },
     "metadata": {
      "needs_background": "light"
     },
     "output_type": "display_data"
    }
   ],
   "source": [
    "cummulate_fire_ratio = []\n",
    "for i in range(1, 500):\n",
    "    cummulate_fire_ratio.append(train[train['bldng_cnt_in_50m'] < i]['fr_yn'].sum() / len(train[train['bldng_cnt_in_50m'] < i]['fr_yn']))\n",
    "    \n",
    "plt.figure(figsize=(15, 7))\n",
    "plt.plot(cummulate_fire_ratio)\n",
    "plt.title('Fire rate change depending on range of distance from a nearest tobacco shop', y=1.02)\n",
    "plt.ylabel('Fire rate')\n",
    "plt.xlabel('Range of distance from a nearest tobacco shop')\n",
    "plt.show()"
   ]
  },
  {
   "cell_type": "code",
   "execution_count": 12,
   "metadata": {},
   "outputs": [
    {
     "data": {
      "text/plain": [
       "<seaborn.axisgrid.FacetGrid at 0x7f086f36da20>"
      ]
     },
     "execution_count": 12,
     "metadata": {},
     "output_type": "execute_result"
    },
    {
     "data": {
      "image/png": "[encoded data removed]",
      "text/plain": [
       "<Figure size 1206.08x374.4 with 2 Axes>"
      ]
     },
     "metadata": {
      "needs_background": "light"
     },
     "output_type": "display_data"
    }
   ],
   "source": [
    "grid = sns.FacetGrid(train, col='fr_yn', size=5.2, aspect=1.6)\n",
    "grid.map(plt.hist, 'bldng_cnt_in_50m', alpha=.5, bins=10)\n",
    "grid.add_legend()"
   ]
  },
  {
   "cell_type": "code",
   "execution_count": 28,
   "metadata": {},
   "outputs": [
    {
     "data": {
      "image/png": "[encoded data removed]",
      "text/plain": [
       "<Figure size 1080x504 with 1 Axes>"
      ]
     },
     "metadata": {
      "needs_background": "light"
     },
     "output_type": "display_data"
    }
   ],
   "source": [
    "cummulate_fire_ratio = []\n",
    "for i in range(1, 500):\n",
    "    cummulate_fire_ratio.append(train[train['no_tbc_zn_dstnc'] < i]['fr_yn'].sum() / len(train[train['no_tbc_zn_dstnc'] < i]['fr_yn']))\n",
    "    \n",
    "plt.figure(figsize=(15, 7))\n",
    "plt.plot(cummulate_fire_ratio)\n",
    "plt.title('Fire rate change depending on range of distance from a nearest non-smoking area', y=1.02)\n",
    "plt.ylabel('Fire rate')\n",
    "plt.xlabel('Range of distance from a nearest non-smoking area')\n",
    "plt.show()"
   ]
  },
  {
   "cell_type": "code",
   "execution_count": 26,
   "metadata": {
    "scrolled": true
   },
   "outputs": [
    {
     "data": {
      "text/html": [
       "<div>\n",
       "<style scoped>\n",
       "    .dataframe tbody tr th:only-of-type {\n",
       "        vertical-align: middle;\n",
       "    }\n",
       "\n",
       "    .dataframe tbody tr th {\n",
       "        vertical-align: top;\n",
       "    }\n",
       "\n",
       "    .dataframe thead th {\n",
       "        text-align: right;\n",
       "    }\n",
       "</style>\n",
       "<table border=\"1\" class=\"dataframe\">\n",
       "  <thead>\n",
       "    <tr style=\"text-align: right;\">\n",
       "      <th></th>\n",
       "      <th>no_tbc_zn_dstnc2</th>\n",
       "      <th>fr_yn</th>\n",
       "    </tr>\n",
       "  </thead>\n",
       "  <tbody>\n",
       "    <tr>\n",
       "      <td>0</td>\n",
       "      <td>(-0.001, 115.0]</td>\n",
       "      <td>0.206585</td>\n",
       "    </tr>\n",
       "    <tr>\n",
       "      <td>1</td>\n",
       "      <td>(115.0, 422.0]</td>\n",
       "      <td>0.100569</td>\n",
       "    </tr>\n",
       "    <tr>\n",
       "      <td>2</td>\n",
       "      <td>(422.0, 1486.5]</td>\n",
       "      <td>0.110269</td>\n",
       "    </tr>\n",
       "    <tr>\n",
       "      <td>3</td>\n",
       "      <td>(1486.5, 16164.0]</td>\n",
       "      <td>0.099595</td>\n",
       "    </tr>\n",
       "  </tbody>\n",
       "</table>\n",
       "</div>"
      ],
      "text/plain": [
       "    no_tbc_zn_dstnc2     fr_yn\n",
       "0    (-0.001, 115.0]  0.206585\n",
       "1     (115.0, 422.0]  0.100569\n",
       "2    (422.0, 1486.5]  0.110269\n",
       "3  (1486.5, 16164.0]  0.099595"
      ]
     },
     "execution_count": 26,
     "metadata": {},
     "output_type": "execute_result"
    }
   ],
   "source": [
    "train['no_tbc_zn_dstnc2'] = pd.qcut(train['no_tbc_zn_dstnc'],4)\n",
    "train[['no_tbc_zn_dstnc2', 'fr_yn']].groupby(['no_tbc_zn_dstnc2'], as_index=False).mean().sort_values(by='no_tbc_zn_dstnc2', ascending=True)"
   ]
  },
  {
   "cell_type": "code",
   "execution_count": 29,
   "metadata": {},
   "outputs": [
    {
     "name": "stderr",
     "output_type": "stream",
     "text": [
      "/opt/app-root/lib/python3.6/site-packages/seaborn/axisgrid.py:230: UserWarning: The `size` paramter has been renamed to `height`; please update your code.\n",
      "  warnings.warn(msg, UserWarning)\n"
     ]
    },
    {
     "data": {
      "text/plain": [
       "<seaborn.axisgrid.FacetGrid at 0x7fe16e964198>"
      ]
     },
     "execution_count": 29,
     "metadata": {},
     "output_type": "execute_result"
    },
    {
     "data": {
      "image/png": "[encoded data removed]",
      "text/plain": [
       "<Figure size 1206.08x374.4 with 2 Axes>"
      ]
     },
     "metadata": {
      "needs_background": "light"
     },
     "output_type": "display_data"
    }
   ],
   "source": [
    "grid = sns.FacetGrid(train, col='fr_yn', size=5.2, aspect=1.6)\n",
    "grid.map(plt.hist, 'cctv_dstnc', alpha=.5, bins=10)\n",
    "grid.add_legend()"
   ]
  },
  {
   "cell_type": "code",
   "execution_count": 30,
   "metadata": {},
   "outputs": [
    {
     "data": {
      "text/plain": [
       "<seaborn.axisgrid.FacetGrid at 0x7fe16e6e4668>"
      ]
     },
     "execution_count": 30,
     "metadata": {},
     "output_type": "execute_result"
    },
    {
     "data": {
      "image/png": "[encoded data removed]",
      "text/plain": [
       "<Figure size 1206.08x374.4 with 2 Axes>"
      ]
     },
     "metadata": {
      "needs_background": "light"
     },
     "output_type": "display_data"
    }
   ],
   "source": [
    "grid = sns.FacetGrid(train, col='fr_yn', size=5.2, aspect=1.6)\n",
    "grid.map(plt.hist, 'sft_emrgnc_bll_dstnc', alpha=.5, bins=10)\n",
    "grid.add_legend()"
   ]
  },
  {
   "cell_type": "code",
   "execution_count": 31,
   "metadata": {},
   "outputs": [
    {
     "data": {
      "text/plain": [
       "<seaborn.axisgrid.FacetGrid at 0x7fe1602aed30>"
      ]
     },
     "execution_count": 31,
     "metadata": {},
     "output_type": "execute_result"
    },
    {
     "data": {
      "image/png": "[encoded data removed]",
      "text/plain": [
       "<Figure size 1206.08x374.4 with 2 Axes>"
      ]
     },
     "metadata": {
      "needs_background": "light"
     },
     "output_type": "display_data"
    }
   ],
   "source": [
    "grid = sns.FacetGrid(train, col='fr_yn', size=5.2, aspect=1.6)\n",
    "grid.map(plt.hist, 'ahsm_dstnc', alpha=.5, bins=10)\n",
    "grid.add_legend()"
   ]
  },
  {
   "cell_type": "code",
   "execution_count": 32,
   "metadata": {},
   "outputs": [
    {
     "data": {
      "text/plain": [
       "<seaborn.axisgrid.FacetGrid at 0x7fe1591cb390>"
      ]
     },
     "execution_count": 32,
     "metadata": {},
     "output_type": "execute_result"
    },
    {
     "data": {
      "image/png": "[encoded data removed]",
      "text/plain": [
       "<Figure size 1206.08x374.4 with 2 Axes>"
      ]
     },
     "metadata": {
      "needs_background": "light"
     },
     "output_type": "display_data"
    }
   ],
   "source": [
    "grid = sns.FacetGrid(train, col='fr_yn', size=5.2, aspect=1.6)\n",
    "grid.map(plt.hist, 'fr_mn_cnt', alpha=.5, bins=10)\n",
    "grid.add_legend()"
   ]
  },
  {
   "cell_type": "code",
   "execution_count": 19,
   "metadata": {},
   "outputs": [
    {
     "data": {
      "text/plain": [
       "<matplotlib.axes._subplots.AxesSubplot at 0x7f0885c7bf28>"
      ]
     },
     "execution_count": 19,
     "metadata": {},
     "output_type": "execute_result"
    },
    {
     "data": {
      "image/png": "[encoded data removed]",
      "text/plain": [
       "<Figure size 432x288 with 1 Axes>"
      ]
     },
     "metadata": {
      "needs_background": "light"
     },
     "output_type": "display_data"
    }
   ],
   "source": [
    "sns.boxplot(x=train['no_tbc_zn_dstnc'])"
   ]
  },
  {
   "cell_type": "code",
   "execution_count": 4,
   "metadata": {
    "scrolled": true
   },
   "outputs": [
    {
     "ename": "NameError",
     "evalue": "name 'train' is not defined",
     "output_type": "error",
     "traceback": [
      "\u001b[0;31m---------------------------------------------------------------------------\u001b[0m",
      "\u001b[0;31mNameError\u001b[0m                                 Traceback (most recent call last)",
      "\u001b[0;32m<ipython-input-4-3e2ae95e7017>\u001b[0m in \u001b[0;36m<module>\u001b[0;34m\u001b[0m\n\u001b[1;32m      2\u001b[0m \u001b[0mfire_ratio4\u001b[0m\u001b[0;34m=\u001b[0m\u001b[0;34m[\u001b[0m\u001b[0;34m]\u001b[0m\u001b[0;34m\u001b[0m\u001b[0m\n\u001b[1;32m      3\u001b[0m \u001b[0;32mfor\u001b[0m \u001b[0mi\u001b[0m \u001b[0;32min\u001b[0m \u001b[0mrange\u001b[0m\u001b[0;34m(\u001b[0m\u001b[0;34m-\u001b[0m\u001b[0;36m14\u001b[0m\u001b[0;34m,\u001b[0m \u001b[0;36m39\u001b[0m\u001b[0;34m)\u001b[0m \u001b[0;34m:\u001b[0m\u001b[0;34m\u001b[0m\u001b[0m\n\u001b[0;32m----> 4\u001b[0;31m     \u001b[0mfire_ratio4\u001b[0m\u001b[0;34m.\u001b[0m\u001b[0mappend\u001b[0m\u001b[0;34m(\u001b[0m\u001b[0mtrain\u001b[0m\u001b[0;34m[\u001b[0m\u001b[0mtrain\u001b[0m\u001b[0;34m[\u001b[0m\u001b[0;34m'tmprtr'\u001b[0m\u001b[0;34m]\u001b[0m\u001b[0;34m<\u001b[0m\u001b[0mi\u001b[0m\u001b[0;34m]\u001b[0m\u001b[0;34m[\u001b[0m\u001b[0;34m'fr_yn'\u001b[0m\u001b[0;34m]\u001b[0m\u001b[0;34m.\u001b[0m\u001b[0msum\u001b[0m\u001b[0;34m(\u001b[0m\u001b[0;34m)\u001b[0m\u001b[0;34m/\u001b[0m\u001b[0mlen\u001b[0m\u001b[0;34m(\u001b[0m\u001b[0mtrain\u001b[0m\u001b[0;34m[\u001b[0m\u001b[0mtrain\u001b[0m\u001b[0;34m[\u001b[0m\u001b[0;34m'tmprtr'\u001b[0m\u001b[0;34m]\u001b[0m\u001b[0;34m<\u001b[0m\u001b[0mi\u001b[0m\u001b[0;34m]\u001b[0m\u001b[0;34m[\u001b[0m\u001b[0;34m'fr_yn'\u001b[0m\u001b[0;34m]\u001b[0m\u001b[0;34m)\u001b[0m\u001b[0;34m)\u001b[0m\u001b[0;34m\u001b[0m\u001b[0m\n\u001b[0m\u001b[1;32m      5\u001b[0m \u001b[0;34m\u001b[0m\u001b[0m\n\u001b[1;32m      6\u001b[0m \u001b[0mplt\u001b[0m\u001b[0;34m.\u001b[0m\u001b[0mfigure\u001b[0m\u001b[0;34m(\u001b[0m\u001b[0mfigsize\u001b[0m\u001b[0;34m=\u001b[0m\u001b[0;34m(\u001b[0m\u001b[0;36m15\u001b[0m\u001b[0;34m,\u001b[0m\u001b[0;36m7\u001b[0m\u001b[0;34m)\u001b[0m\u001b[0;34m)\u001b[0m\u001b[0;34m\u001b[0m\u001b[0m\n",
      "\u001b[0;31mNameError\u001b[0m: name 'train' is not defined"
     ]
    }
   ],
   "source": [
    "\n",
    "train.fr_yn = train.fr_yn.map({'Y':1,'N':0})\n",
    "\n",
    "# 온도에 따른 화재발생률 시각화 \n",
    "fire_ratio4=[]\n",
    "for i in range(-14, 39) :\n",
    "    fire_ratio4.append(train[train['tmprtr']<i]['fr_yn'].sum()/len(train[train['tmprtr']<i]['fr_yn']))\n",
    "    \n",
    "plt.figure(figsize=(15,7))\n",
    "plt.plot(fire_ratio4)\n",
    "plt.title('Fire rate change depending on tmperature')\n",
    "plt.ylabel('Fire rate')\n",
    "plt.xlabel('tmprtr')\n"
   ]
  },
  {
   "cell_type": "code",
   "execution_count": null,
   "metadata": {},
   "outputs": [],
   "source": [
    "\n",
    "# 풍향에 따른 화재발생률 시각화 \n",
    "fire_ratio3=[]\n",
    "for i in range(0, 360) :\n",
    "    fire_ratio3.append(train[train['wnd_drctn']<i]['fr_yn'].sum()/len(train[train['wnd_drctn']<i]['fr_yn']))\n",
    "    \n",
    "plt.figure(figsize=(15,7))\n",
    "plt.plot(fire_ratio3)\n",
    "plt.title('Fire rate change depending on wind direction')\n",
    "plt.ylabel('Fire rate')\n",
    "plt.xlabel('wnd_drctn')\n",
    "\n",
    "\n",
    "train['wnd_drctn']=train['wnd_drctn'].fillna(0)\n",
    "train['wnd_drctn'].min()\n",
    "train['wnd_drctn']=train['wnd_drctn'].astype('int')\n"
   ]
  },
  {
   "cell_type": "code",
   "execution_count": null,
   "metadata": {},
   "outputs": [],
   "source": [
    "\n",
    "# 풍속에 따른 화재 발생률 시각화\n",
    "fire_ratio2=[]\n",
    "for i in range(0, 15) :\n",
    "    fire_ratio2.append(train[train['wnd_spd']<i]['fr_yn'].sum()/len(train[train['wnd_spd']<i]['fr_yn']))\n",
    "    \n",
    "plt.figure(figsize=(15,7))\n",
    "plt.plot(fire_ratio2)\n",
    "plt.title('Fire rate change depending on wind speed')\n",
    "plt.ylabel('Fire rate')\n",
    "plt.xlabel('wnd_spd')\n",
    "\n",
    "train['wnd_spd'].max()\n",
    "train['wnd_spd']=train['wnd_spd'].fillna(0)\n",
    "f1=lambda x : round(x)\n",
    "train['wnd_spd' ]=train['wnd_spd'].apply(f1)\n"
   ]
  },
  {
   "cell_type": "code",
   "execution_count": null,
   "metadata": {},
   "outputs": [],
   "source": [
    "\n",
    "# 습도에 따른 화재 발생률 시각화   \n",
    "fire_ratio=[]\n",
    "for i in range(0, 100) :\n",
    "    fire_ratio.append(train[train['hmdt']<i]['fr_yn'].sum()/len(train[train['hmdt']<i]['fr_yn']))\n",
    "    \n",
    "plt.figure(figsize=(15,7))\n",
    "plt.plot(fire_ratio)\n",
    "plt.title('Fire rate change depending on humidity')\n",
    "plt.ylabel('Fire rate')\n",
    "plt.xlabel('humidity')\n"
   ]
  }
 ],
 "metadata": {
  "kernelspec": {
   "display_name": "Python 3",
   "language": "python",
   "name": "python3"
  },
  "language_info": {
   "codemirror_mode": {
    "name": "ipython",
    "version": 3
   },
   "file_extension": ".py",
   "mimetype": "text/x-python",
   "name": "python",
   "nbconvert_exporter": "python",
   "pygments_lexer": "ipython3",
   "version": "3.6.3"
  }
 },
 "nbformat": 4,
 "nbformat_minor": 2
}
